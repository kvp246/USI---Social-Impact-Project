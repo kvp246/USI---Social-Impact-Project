{
 "cells": [
  {
   "cell_type": "markdown",
   "metadata": {},
   "source": [
    "This code covers the data processing steps involved in subset of overall 311 data for years and complaint type. \n",
    "\n",
    "#### Data Inputs\n",
    "A csv file is downloaded from the NYC Open Data portal and used as input. Downloaded data is shared in the google docs link shared below to be used for reproducing this code.\n",
    "\n",
    "NYC Open Data Source: https://nycopendata.socrata.com/Social-Services/311-Service-Requests-from-2010-to-Present/erm2-nwe9 <br>\n",
    "Downloaded Data: https://drive.google.com/file/d/0B0DyTS0hhqGockVXNmJRRF9GUUU/view?usp=sharing\n",
    "\n",
    "The above link contains the source data in zip format which needs to be unzipped before running the below code.\n",
    "\n",
    "#### Data Outputs\n",
    "Output data from this code is then used as input for assigning neighborhood level 311 calls made across each school. The final school level aggreagated 311 calls data is then used for the final analysis."
   ]
  },
  {
   "cell_type": "code",
   "execution_count": 1,
   "metadata": {
    "collapsed": false
   },
   "outputs": [
    {
     "name": "stdout",
     "output_type": "stream",
     "text": [
      "Populating the interactive namespace from numpy and matplotlib\n"
     ]
    }
   ],
   "source": [
    "# Required libraries\n",
    "%pylab inline\n",
    "import numpy as np\n",
    "import pandas as pd\n",
    "import statsmodels.api as sm\n",
    "import statsmodels.formula.api as smf\n",
    "import matplotlib.pyplot as plt\n",
    "from patsy import dmatrices\n",
    "from sklearn.linear_model import LogisticRegression\n",
    "from sklearn.cross_validation import train_test_split\n",
    "from sklearn import metrics\n",
    "from sklearn.cross_validation import cross_val_score\n",
    "import seaborn as sns\n",
    "sns.set(context='notebook', style='whitegrid', palette='deep', font='sans-serif', font_scale=1, rc=None)\n",
    "\n",
    "import warnings # current version of seaborn generates a bunch of warnings that we'll ignore\n",
    "warnings.filterwarnings(\"ignore\")"
   ]
  },
  {
   "cell_type": "code",
   "execution_count": 2,
   "metadata": {
    "collapsed": false
   },
   "outputs": [
    {
     "data": {
      "text/plain": [
       "Index([u'Unique Key', u'Created Date', u'Closed Date', u'Agency',\n",
       "       u'Agency Name', u'Complaint Type', u'Descriptor', u'Location Type',\n",
       "       u'Incident Zip', u'Incident Address', u'Street Name', u'Cross Street 1',\n",
       "       u'Cross Street 2', u'Intersection Street 1', u'Intersection Street 2',\n",
       "       u'Address Type', u'City', u'Landmark', u'Facility Type', u'Status',\n",
       "       u'Due Date', u'Resolution Description',\n",
       "       u'Resolution Action Updated Date', u'Community Board', u'Borough',\n",
       "       u'X Coordinate (State Plane)', u'Y Coordinate (State Plane)',\n",
       "       u'Park Facility Name', u'Park Borough', u'School Name',\n",
       "       u'School Number', u'School Region', u'School Code',\n",
       "       u'School Phone Number', u'School Address', u'School City',\n",
       "       u'School State', u'School Zip', u'School Not Found',\n",
       "       u'School or Citywide Complaint', u'Vehicle Type',\n",
       "       u'Taxi Company Borough', u'Taxi Pick Up Location',\n",
       "       u'Bridge Highway Name', u'Bridge Highway Direction', u'Road Ramp',\n",
       "       u'Bridge Highway Segment', u'Garage Lot Name', u'Ferry Direction',\n",
       "       u'Ferry Terminal Name', u'Latitude', u'Longitude', u'Location'],\n",
       "      dtype='object')"
      ]
     },
     "execution_count": 2,
     "metadata": {},
     "output_type": "execute_result"
    }
   ],
   "source": [
    "data311 = pd.read_csv(\"311_Service_Requests_from_2010_to_Present.csv\", parse_dates=['Created Date'])\n",
    "data311.columns"
   ]
  },
  {
   "cell_type": "code",
   "execution_count": 3,
   "metadata": {
    "collapsed": false
   },
   "outputs": [
    {
     "name": "stdout",
     "output_type": "stream",
     "text": [
      "(609055, 54)\n",
      "[2016 2015 2014 2013 2012 2011 2010]\n"
     ]
    }
   ],
   "source": [
    "# Extracting year from date variable\n",
    "data311_1 = data311.copy()\n",
    "\n",
    "data311_1.loc[:,'Year'] = data311_1['Created Date'].dt.year\n",
    "print data311_1.shape\n",
    "print data311_1.Year.unique()"
   ]
  },
  {
   "cell_type": "code",
   "execution_count": 4,
   "metadata": {
    "collapsed": false
   },
   "outputs": [
    {
     "name": "stdout",
     "output_type": "stream",
     "text": [
      "(313607, 54)\n",
      "[2015 2014 2013]\n"
     ]
    }
   ],
   "source": [
    "# Subset for 2013, 2014, 2015\n",
    "yearlist = [2013,2014,2015]\n",
    "data311_2 = data311_1.loc[(data311_1.Year.isin(yearlist)),]\n",
    "print data311_2.shape\n",
    "print data311_2.Year.unique()"
   ]
  },
  {
   "cell_type": "code",
   "execution_count": 5,
   "metadata": {
    "collapsed": false,
    "scrolled": true
   },
   "outputs": [
    {
     "name": "stdout",
     "output_type": "stream",
     "text": [
      "<class 'pandas.core.frame.DataFrame'>\n",
      "Int64Index: 313607 entries, 20401 to 334007\n",
      "Data columns (total 54 columns):\n",
      "Unique Key                        313607 non-null int64\n",
      "Created Date                      313607 non-null datetime64[ns]\n",
      "Closed Date                       304892 non-null object\n",
      "Agency                            313607 non-null object\n",
      "Agency Name                       313607 non-null object\n",
      "Complaint Type                    313607 non-null object\n",
      "Descriptor                        313607 non-null object\n",
      "Location Type                     104268 non-null object\n",
      "Incident Zip                      286080 non-null object\n",
      "Incident Address                  192119 non-null object\n",
      "Street Name                       192118 non-null object\n",
      "Cross Street 1                    233942 non-null object\n",
      "Cross Street 2                    233605 non-null object\n",
      "Intersection Street 1             115212 non-null object\n",
      "Intersection Street 2             114898 non-null object\n",
      "Address Type                      298131 non-null object\n",
      "City                              286832 non-null object\n",
      "Landmark                          83 non-null object\n",
      "Facility Type                     0 non-null float64\n",
      "Status                            313607 non-null object\n",
      "Due Date                          97096 non-null object\n",
      "Resolution Description            104288 non-null object\n",
      "Resolution Action Updated Date    312816 non-null object\n",
      "Community Board                   313607 non-null object\n",
      "Borough                           313607 non-null object\n",
      "X Coordinate (State Plane)        283575 non-null float64\n",
      "Y Coordinate (State Plane)        283575 non-null float64\n",
      "Park Facility Name                313607 non-null object\n",
      "Park Borough                      313607 non-null object\n",
      "School Name                       313607 non-null object\n",
      "School Number                     313607 non-null object\n",
      "School Region                     313607 non-null object\n",
      "School Code                       313607 non-null object\n",
      "School Phone Number               313607 non-null object\n",
      "School Address                    313607 non-null object\n",
      "School City                       313607 non-null object\n",
      "School State                      313607 non-null object\n",
      "School Zip                        313607 non-null object\n",
      "School Not Found                  104288 non-null object\n",
      "School or Citywide Complaint      0 non-null float64\n",
      "Vehicle Type                      0 non-null float64\n",
      "Taxi Company Borough              0 non-null float64\n",
      "Taxi Pick Up Location             0 non-null float64\n",
      "Bridge Highway Name               0 non-null float64\n",
      "Bridge Highway Direction          0 non-null float64\n",
      "Road Ramp                         0 non-null float64\n",
      "Bridge Highway Segment            0 non-null float64\n",
      "Garage Lot Name                   0 non-null float64\n",
      "Ferry Direction                   0 non-null float64\n",
      "Ferry Terminal Name               0 non-null float64\n",
      "Latitude                          283575 non-null float64\n",
      "Longitude                         283575 non-null float64\n",
      "Location                          283575 non-null object\n",
      "Year                              313607 non-null int64\n",
      "dtypes: datetime64[ns](1), float64(16), int64(2), object(35)\n",
      "memory usage: 131.6+ MB\n"
     ]
    }
   ],
   "source": [
    "data311_2.info()"
   ]
  },
  {
   "cell_type": "code",
   "execution_count": 6,
   "metadata": {
    "collapsed": false,
    "scrolled": true
   },
   "outputs": [
    {
     "name": "stdout",
     "output_type": "stream",
     "text": [
      "<class 'pandas.core.frame.DataFrame'>\n",
      "Int64Index: 283575 entries, 20401 to 334007\n",
      "Data columns (total 54 columns):\n",
      "Unique Key                        283575 non-null int64\n",
      "Created Date                      283575 non-null datetime64[ns]\n",
      "Closed Date                       276190 non-null object\n",
      "Agency                            283575 non-null object\n",
      "Agency Name                       283575 non-null object\n",
      "Complaint Type                    283575 non-null object\n",
      "Descriptor                        283575 non-null object\n",
      "Location Type                     101855 non-null object\n",
      "Incident Zip                      283229 non-null object\n",
      "Incident Address                  176171 non-null object\n",
      "Street Name                       176171 non-null object\n",
      "Cross Street 1                    208283 non-null object\n",
      "Cross Street 2                    208275 non-null object\n",
      "Intersection Street 1             107696 non-null object\n",
      "Intersection Street 2             107696 non-null object\n",
      "Address Type                      283575 non-null object\n",
      "City                              283555 non-null object\n",
      "Landmark                          77 non-null object\n",
      "Facility Type                     0 non-null float64\n",
      "Status                            283575 non-null object\n",
      "Due Date                          94873 non-null object\n",
      "Resolution Description            101874 non-null object\n",
      "Resolution Action Updated Date    282805 non-null object\n",
      "Community Board                   283575 non-null object\n",
      "Borough                           283575 non-null object\n",
      "X Coordinate (State Plane)        283575 non-null float64\n",
      "Y Coordinate (State Plane)        283575 non-null float64\n",
      "Park Facility Name                283575 non-null object\n",
      "Park Borough                      283575 non-null object\n",
      "School Name                       283575 non-null object\n",
      "School Number                     283575 non-null object\n",
      "School Region                     283575 non-null object\n",
      "School Code                       283575 non-null object\n",
      "School Phone Number               283575 non-null object\n",
      "School Address                    283575 non-null object\n",
      "School City                       283575 non-null object\n",
      "School State                      283575 non-null object\n",
      "School Zip                        283575 non-null object\n",
      "School Not Found                  101874 non-null object\n",
      "School or Citywide Complaint      0 non-null float64\n",
      "Vehicle Type                      0 non-null float64\n",
      "Taxi Company Borough              0 non-null float64\n",
      "Taxi Pick Up Location             0 non-null float64\n",
      "Bridge Highway Name               0 non-null float64\n",
      "Bridge Highway Direction          0 non-null float64\n",
      "Road Ramp                         0 non-null float64\n",
      "Bridge Highway Segment            0 non-null float64\n",
      "Garage Lot Name                   0 non-null float64\n",
      "Ferry Direction                   0 non-null float64\n",
      "Ferry Terminal Name               0 non-null float64\n",
      "Latitude                          283575 non-null float64\n",
      "Longitude                         283575 non-null float64\n",
      "Location                          283575 non-null object\n",
      "Year                              283575 non-null int64\n",
      "dtypes: datetime64[ns](1), float64(16), int64(2), object(35)\n",
      "memory usage: 119.0+ MB\n"
     ]
    }
   ],
   "source": [
    "# Removing traffic collisions with missing location values\n",
    "data311_3 = data311_2.copy()\n",
    "data311_3 = data311_3[pd.notnull(data311_3['Location'])]\n",
    "data311_3.info()"
   ]
  },
  {
   "cell_type": "code",
   "execution_count": 7,
   "metadata": {
    "collapsed": false
   },
   "outputs": [
    {
     "name": "stdout",
     "output_type": "stream",
     "text": [
      "['Street Condition']\n",
      "['Pothole' 'Cave-in' 'Defective Hardware' 'Plate Condition - Noisy'\n",
      " 'Rough, Pitted or Cracked Roads' 'Wear & Tear' 'Line/Marking - Faded'\n",
      " 'Hummock' 'Line/Marking - After Repaving' 'Failed Street Repair'\n",
      " 'Blocked - Construction' 'Plate Condition - Open'\n",
      " 'Plate Condition - Shifted' 'Maintenance Cover' 'Guard Rail - Street'\n",
      " 'Unsafe Worksite' 'Crash Cushion Defect' 'Suspected Street Cut'\n",
      " 'Plate Condition - Anti-Skid' 'Depression Maintenance' 'Defacement'\n",
      " 'General Bad Condition' 'Dumpster - Causing Damage' 'Crack Sealing'\n",
      " 'Strip Paving' 'Dumpster - Construction Waste']\n"
     ]
    }
   ],
   "source": [
    "# Checking complaint type\n",
    "print data311_3['Complaint Type'].unique()\n",
    "print data311_3['Descriptor'].unique()"
   ]
  },
  {
   "cell_type": "code",
   "execution_count": 8,
   "metadata": {
    "collapsed": true
   },
   "outputs": [],
   "source": [
    "# Extract the data for years 2015, 2014, 2013 to visualize in CartoDB\n",
    "data311_3[['Unique Key', 'Latitude', 'Longitude', 'Location']].to_csv('data311Final.csv')"
   ]
  },
  {
   "cell_type": "markdown",
   "metadata": {
    "collapsed": true
   },
   "source": [
    ">__\"This final data which is aggregated at street qualit complaint level for years 2013, 2014 and 2015 is then used to perform geo-spatial analysis for assigning 311 calls made in each school neighborhood within 300 foot radius.\"__"
   ]
  },
  {
   "cell_type": "code",
   "execution_count": null,
   "metadata": {
    "collapsed": true
   },
   "outputs": [],
   "source": []
  }
 ],
 "metadata": {
  "kernelspec": {
   "display_name": "Python 2",
   "language": "python",
   "name": "python2"
  },
  "language_info": {
   "codemirror_mode": {
    "name": "ipython",
    "version": 2
   },
   "file_extension": ".py",
   "mimetype": "text/x-python",
   "name": "python",
   "nbconvert_exporter": "python",
   "pygments_lexer": "ipython2",
   "version": "2.7.10"
  }
 },
 "nbformat": 4,
 "nbformat_minor": 0
}
