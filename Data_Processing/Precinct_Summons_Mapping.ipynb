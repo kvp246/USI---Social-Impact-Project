{
 "cells": [
  {
   "cell_type": "markdown",
   "metadata": {},
   "source": [
    "This code covers the data processing steps involved in aggregation of NYPD Moving Summons data. \n",
    "\n",
    "#### Data Inputs\n",
    "Excel files for the years 2013, 2014 and 2015 are downloaded from the NYPD website are used as inputs. The source data for each year is available at precinct level and number of summons issued are aggregated for each moving summon type level. Downloaded data is shared in the data processing folder under the file names 2015_12_sum_excel, 2014_12_sum_excel and 2013_12_sum_excel for 2015, 2014 and 2013 years respectively.\n",
    "\n",
    "NYPD Source: http://www.nyc.gov/html/nypd/html/traffic_reports/traffic_summons_reports.shtml\n",
    "\n",
    "#### Data Outputs\n",
    "Output data from this code is at aggregated level with columns as type of moving summon issued, rows as individual precincts and the corresponding values include sum of summons issued combined for the years 2013, 2014 and 2015. This file output is further used in the final analysis to implement the regression analysis for traffic collisions."
   ]
  },
  {
   "cell_type": "code",
   "execution_count": 1,
   "metadata": {
    "collapsed": false
   },
   "outputs": [
    {
     "name": "stdout",
     "output_type": "stream",
     "text": [
      "Populating the interactive namespace from numpy and matplotlib\n"
     ]
    }
   ],
   "source": [
    "# Required libraries\n",
    "import numpy as np\n",
    "import pandas as pd\n",
    "from os import listdir\n",
    "from os.path import isfile, join\n",
    "%pylab inline\n",
    "import matplotlib.pyplot as plt\n",
    "import seaborn as sns\n",
    "sns.set(context='notebook', style='whitegrid', palette='deep', font='sans-serif', font_scale=1, rc=None)\n",
    "\n",
    "import warnings\n",
    "warnings.filterwarnings(\"ignore\")"
   ]
  },
  {
   "cell_type": "markdown",
   "metadata": {},
   "source": [
    "### Collating traffic moving summons for 2015 across precincts"
   ]
  },
  {
   "cell_type": "code",
   "execution_count": 2,
   "metadata": {
    "collapsed": false
   },
   "outputs": [],
   "source": [
    "# Getting filenames in the folder\n",
    "files2015 = [f for f in listdir(\"NYPD_Summons_Data/2015_12_sum_excel\") if isfile(join(\"NYPD_Summons_Data/2015_12_sum_excel\", f))]"
   ]
  },
  {
   "cell_type": "code",
   "execution_count": 3,
   "metadata": {
    "collapsed": false
   },
   "outputs": [
    {
     "name": "stdout",
     "output_type": "stream",
     "text": [
      "<class 'pandas.core.frame.DataFrame'>\n",
      "Index: 0 entries\n",
      "Data columns (total 3 columns):\n",
      "Precinct      0 non-null int32\n",
      "Violation     0 non-null object\n",
      "Total_2015    0 non-null int32\n",
      "dtypes: int32(2), object(1)\n",
      "memory usage: 0.0+ bytes\n"
     ]
    }
   ],
   "source": [
    "# Creating empty dataframe\n",
    "columns = ['Precinct', 'Violation', 'Total_2015']\n",
    "summons2015 = pd.DataFrame(columns=columns)\n",
    "summons2015[['Precinct', 'Total_2015']] = summons2015[['Precinct', 'Total_2015']].astype(int)\n",
    "summons2015['Violation'] = summons2015['Violation'].astype(str)\n",
    "summons2015.info()"
   ]
  },
  {
   "cell_type": "code",
   "execution_count": 4,
   "metadata": {
    "collapsed": false
   },
   "outputs": [],
   "source": [
    "# Extracting relevant data for each precinct and merging it with earlier created data frame\n",
    "for i in range(len(files2015)):\n",
    "    xl = pd.ExcelFile(\"NYPD_Summons_Data/2015_12_sum_excel/\" + files2015[i])\n",
    "    df = xl.parse(\"MovingViolations_1\")\n",
    "    df = df.dropna()\n",
    "    df.drop(df.columns[1], axis=1, inplace=True)\n",
    "    df.rename(columns={'Moving Violations': 'Violation', 'Unnamed: 2': 'Total_2015'}, inplace=True)\n",
    "    df['Precinct'] = int(files2015[i][9:12])\n",
    "    df = df[['Precinct', 'Violation', 'Total_2015']][2:35]\n",
    "    df['Total_2015'] = df['Total_2015'].astype(int)\n",
    "    summons2015 = pd.concat([summons2015, df], axis=0)"
   ]
  },
  {
   "cell_type": "code",
   "execution_count": 5,
   "metadata": {
    "collapsed": false
   },
   "outputs": [
    {
     "name": "stdout",
     "output_type": "stream",
     "text": [
      "<class 'pandas.core.frame.DataFrame'>\n",
      "Int64Index: 2541 entries, 5 to 37\n",
      "Data columns (total 3 columns):\n",
      "Precinct      2541 non-null int64\n",
      "Violation     2541 non-null object\n",
      "Total_2015    2541 non-null int32\n",
      "dtypes: int32(1), int64(1), object(1)\n",
      "memory usage: 69.5+ KB\n"
     ]
    }
   ],
   "source": [
    "summons2015.info()"
   ]
  },
  {
   "cell_type": "code",
   "execution_count": 7,
   "metadata": {
    "collapsed": false
   },
   "outputs": [
    {
     "data": {
      "text/html": [
       "<div>\n",
       "<table border=\"1\" class=\"dataframe\">\n",
       "  <thead>\n",
       "    <tr style=\"text-align: right;\">\n",
       "      <th></th>\n",
       "      <th>Precinct</th>\n",
       "      <th>Violation</th>\n",
       "      <th>Total_2015</th>\n",
       "    </tr>\n",
       "  </thead>\n",
       "  <tbody>\n",
       "    <tr>\n",
       "      <th>5</th>\n",
       "      <td>1</td>\n",
       "      <td>Brake Lights (Defect.or Improper)</td>\n",
       "      <td>12</td>\n",
       "    </tr>\n",
       "    <tr>\n",
       "      <th>6</th>\n",
       "      <td>1</td>\n",
       "      <td>Bus Lane, Driving in</td>\n",
       "      <td>22</td>\n",
       "    </tr>\n",
       "    <tr>\n",
       "      <th>7</th>\n",
       "      <td>1</td>\n",
       "      <td>Cell Phone</td>\n",
       "      <td>2350</td>\n",
       "    </tr>\n",
       "    <tr>\n",
       "      <th>8</th>\n",
       "      <td>1</td>\n",
       "      <td>Commercial Veh on Pkwy</td>\n",
       "      <td>0</td>\n",
       "    </tr>\n",
       "    <tr>\n",
       "      <th>9</th>\n",
       "      <td>1</td>\n",
       "      <td>Defective Brakes</td>\n",
       "      <td>0</td>\n",
       "    </tr>\n",
       "  </tbody>\n",
       "</table>\n",
       "</div>"
      ],
      "text/plain": [
       "   Precinct                          Violation  Total_2015\n",
       "5         1  Brake Lights (Defect.or Improper)          12\n",
       "6         1               Bus Lane, Driving in          22\n",
       "7         1                         Cell Phone        2350\n",
       "8         1             Commercial Veh on Pkwy           0\n",
       "9         1                   Defective Brakes           0"
      ]
     },
     "execution_count": 7,
     "metadata": {},
     "output_type": "execute_result"
    }
   ],
   "source": [
    "summons2015.head()"
   ]
  },
  {
   "cell_type": "markdown",
   "metadata": {},
   "source": [
    "### Collating traffic moving summons for 2014 across precincts"
   ]
  },
  {
   "cell_type": "code",
   "execution_count": 8,
   "metadata": {
    "collapsed": true
   },
   "outputs": [],
   "source": [
    "# Getting filenames in the folder\n",
    "files2014 = [f for f in listdir(\"NYPD_Summons_Data/2014_12_sum_excel\") if isfile(join(\"NYPD_Summons_Data/2014_12_sum_excel\", f))]"
   ]
  },
  {
   "cell_type": "code",
   "execution_count": 9,
   "metadata": {
    "collapsed": false
   },
   "outputs": [
    {
     "name": "stdout",
     "output_type": "stream",
     "text": [
      "<class 'pandas.core.frame.DataFrame'>\n",
      "Index: 0 entries\n",
      "Data columns (total 3 columns):\n",
      "Precinct      0 non-null int32\n",
      "Violation     0 non-null object\n",
      "Total_2014    0 non-null int32\n",
      "dtypes: int32(2), object(1)\n",
      "memory usage: 0.0+ bytes\n"
     ]
    }
   ],
   "source": [
    "# Creating empty dataframe\n",
    "columns = ['Precinct', 'Violation', 'Total_2014']\n",
    "summons2014 = pd.DataFrame(columns=columns)\n",
    "summons2014[['Precinct', 'Total_2014']] = summons2014[['Precinct', 'Total_2014']].astype(int)\n",
    "summons2014['Violation'] = summons2014['Violation'].astype(str)\n",
    "summons2014.info()"
   ]
  },
  {
   "cell_type": "code",
   "execution_count": 10,
   "metadata": {
    "collapsed": false
   },
   "outputs": [],
   "source": [
    "# Extracting relevant data for each precinct and merging it with earlier created data frame\n",
    "for i in range(len(files2014)):\n",
    "    xl = pd.ExcelFile(\"NYPD_Summons_Data/2014_12_sum_excel/\" + files2014[i])\n",
    "    df = xl.parse(files2014[i][0:6])\n",
    "    df = df.dropna()\n",
    "    df.drop(df.columns[1], axis=1, inplace=True)\n",
    "    df.rename(columns={'Moving Violations': 'Violation', 'Unnamed: 2': 'Total_2014'}, inplace=True)\n",
    "    df['Precinct'] = int(files2014[i][0:3])\n",
    "    df = df[['Precinct', 'Violation', 'Total_2014']][2:35]\n",
    "    df['Total_2014'] = df['Total_2014'].astype(int)\n",
    "    summons2014 = pd.concat([summons2014, df], axis=0)"
   ]
  },
  {
   "cell_type": "code",
   "execution_count": 11,
   "metadata": {
    "collapsed": false
   },
   "outputs": [
    {
     "name": "stdout",
     "output_type": "stream",
     "text": [
      "<class 'pandas.core.frame.DataFrame'>\n",
      "Int64Index: 2541 entries, 5 to 37\n",
      "Data columns (total 3 columns):\n",
      "Precinct      2541 non-null int64\n",
      "Violation     2541 non-null object\n",
      "Total_2014    2541 non-null int32\n",
      "dtypes: int32(1), int64(1), object(1)\n",
      "memory usage: 69.5+ KB\n"
     ]
    }
   ],
   "source": [
    "summons2014.info()"
   ]
  },
  {
   "cell_type": "code",
   "execution_count": 12,
   "metadata": {
    "collapsed": false
   },
   "outputs": [
    {
     "data": {
      "text/html": [
       "<div>\n",
       "<table border=\"1\" class=\"dataframe\">\n",
       "  <thead>\n",
       "    <tr style=\"text-align: right;\">\n",
       "      <th></th>\n",
       "      <th>Precinct</th>\n",
       "      <th>Violation</th>\n",
       "      <th>Total_2014</th>\n",
       "    </tr>\n",
       "  </thead>\n",
       "  <tbody>\n",
       "    <tr>\n",
       "      <th>5</th>\n",
       "      <td>1</td>\n",
       "      <td>Brake Lights (Defect.or Improper)</td>\n",
       "      <td>15</td>\n",
       "    </tr>\n",
       "    <tr>\n",
       "      <th>6</th>\n",
       "      <td>1</td>\n",
       "      <td>Bus Lane, Driving in</td>\n",
       "      <td>33</td>\n",
       "    </tr>\n",
       "    <tr>\n",
       "      <th>7</th>\n",
       "      <td>1</td>\n",
       "      <td>Cell Phone</td>\n",
       "      <td>2468</td>\n",
       "    </tr>\n",
       "    <tr>\n",
       "      <th>8</th>\n",
       "      <td>1</td>\n",
       "      <td>Commercial Veh on Pkwy</td>\n",
       "      <td>0</td>\n",
       "    </tr>\n",
       "    <tr>\n",
       "      <th>9</th>\n",
       "      <td>1</td>\n",
       "      <td>Defective Brakes</td>\n",
       "      <td>1</td>\n",
       "    </tr>\n",
       "  </tbody>\n",
       "</table>\n",
       "</div>"
      ],
      "text/plain": [
       "   Precinct                          Violation  Total_2014\n",
       "5         1  Brake Lights (Defect.or Improper)          15\n",
       "6         1               Bus Lane, Driving in          33\n",
       "7         1                         Cell Phone        2468\n",
       "8         1             Commercial Veh on Pkwy           0\n",
       "9         1                   Defective Brakes           1"
      ]
     },
     "execution_count": 12,
     "metadata": {},
     "output_type": "execute_result"
    }
   ],
   "source": [
    "summons2014.head()"
   ]
  },
  {
   "cell_type": "markdown",
   "metadata": {},
   "source": [
    "### Collating traffic moving summons for 2013 across precincts"
   ]
  },
  {
   "cell_type": "code",
   "execution_count": 13,
   "metadata": {
    "collapsed": true
   },
   "outputs": [],
   "source": [
    "# Getting filenames in the folder\n",
    "files2013 = [f for f in listdir(\"NYPD_Summons_Data/2013_12_sum_excel\") if isfile(join(\"NYPD_Summons_Data/2013_12_sum_excel\", f))]"
   ]
  },
  {
   "cell_type": "code",
   "execution_count": 14,
   "metadata": {
    "collapsed": false
   },
   "outputs": [
    {
     "name": "stdout",
     "output_type": "stream",
     "text": [
      "<class 'pandas.core.frame.DataFrame'>\n",
      "Index: 0 entries\n",
      "Data columns (total 3 columns):\n",
      "Precinct      0 non-null int32\n",
      "Violation     0 non-null object\n",
      "Total_2013    0 non-null int32\n",
      "dtypes: int32(2), object(1)\n",
      "memory usage: 0.0+ bytes\n"
     ]
    }
   ],
   "source": [
    "# Creating empty dataframe\n",
    "columns = ['Precinct', 'Violation', 'Total_2013']\n",
    "summons2013 = pd.DataFrame(columns=columns)\n",
    "summons2013[['Precinct', 'Total_2013']] = summons2013[['Precinct', 'Total_2013']].astype(int)\n",
    "summons2013['Violation'] = summons2013['Violation'].astype(str)\n",
    "summons2013.info()"
   ]
  },
  {
   "cell_type": "code",
   "execution_count": 15,
   "metadata": {
    "collapsed": false
   },
   "outputs": [],
   "source": [
    "# Extracting relevant data for each precinct and merging it with earlier created data frame\n",
    "for i in range(len(files2013)):\n",
    "    xl = pd.ExcelFile(\"NYPD_Summons_Data/2013_12_sum_excel/\" + files2013[i])\n",
    "    df = xl.parse(\"Table 1\")\n",
    "    df = df.dropna()\n",
    "    df.drop(df.columns[1], axis=1, inplace=True)\n",
    "    df.rename(columns={'Moving Violations': 'Violation', 'Unnamed: 2': 'Total_2013'}, inplace=True)\n",
    "    df['Precinct'] = int(files2013[i][0:3])\n",
    "    df = df[['Precinct', 'Violation', 'Total_2013']][1:35]\n",
    "    df['Total_2013'] = df['Total_2013'].astype(int)\n",
    "    summons2013 = pd.concat([summons2013, df], axis=0)"
   ]
  },
  {
   "cell_type": "code",
   "execution_count": 16,
   "metadata": {
    "collapsed": false
   },
   "outputs": [
    {
     "name": "stdout",
     "output_type": "stream",
     "text": [
      "<class 'pandas.core.frame.DataFrame'>\n",
      "Int64Index: 2541 entries, 4 to 36\n",
      "Data columns (total 3 columns):\n",
      "Precinct      2541 non-null int64\n",
      "Violation     2541 non-null object\n",
      "Total_2013    2541 non-null int32\n",
      "dtypes: int32(1), int64(1), object(1)\n",
      "memory usage: 69.5+ KB\n"
     ]
    }
   ],
   "source": [
    "summons2013.info()"
   ]
  },
  {
   "cell_type": "code",
   "execution_count": 17,
   "metadata": {
    "collapsed": false
   },
   "outputs": [
    {
     "data": {
      "text/html": [
       "<div>\n",
       "<table border=\"1\" class=\"dataframe\">\n",
       "  <thead>\n",
       "    <tr style=\"text-align: right;\">\n",
       "      <th></th>\n",
       "      <th>Precinct</th>\n",
       "      <th>Violation</th>\n",
       "      <th>Total_2013</th>\n",
       "    </tr>\n",
       "  </thead>\n",
       "  <tbody>\n",
       "    <tr>\n",
       "      <th>4</th>\n",
       "      <td>1</td>\n",
       "      <td>Brake Lights (Defect.or  Improper)</td>\n",
       "      <td>536</td>\n",
       "    </tr>\n",
       "    <tr>\n",
       "      <th>5</th>\n",
       "      <td>1</td>\n",
       "      <td>Bus Lane, Driving in</td>\n",
       "      <td>92</td>\n",
       "    </tr>\n",
       "    <tr>\n",
       "      <th>6</th>\n",
       "      <td>1</td>\n",
       "      <td>Cell Phone</td>\n",
       "      <td>2411</td>\n",
       "    </tr>\n",
       "    <tr>\n",
       "      <th>7</th>\n",
       "      <td>1</td>\n",
       "      <td>Commercial Veh on Pkwy</td>\n",
       "      <td>2</td>\n",
       "    </tr>\n",
       "    <tr>\n",
       "      <th>8</th>\n",
       "      <td>1</td>\n",
       "      <td>Defective Brakes</td>\n",
       "      <td>0</td>\n",
       "    </tr>\n",
       "  </tbody>\n",
       "</table>\n",
       "</div>"
      ],
      "text/plain": [
       "   Precinct                           Violation  Total_2013\n",
       "4         1  Brake Lights (Defect.or  Improper)         536\n",
       "5         1                Bus Lane, Driving in          92\n",
       "6         1                          Cell Phone        2411\n",
       "7         1              Commercial Veh on Pkwy           2\n",
       "8         1                    Defective Brakes           0"
      ]
     },
     "execution_count": 17,
     "metadata": {},
     "output_type": "execute_result"
    }
   ],
   "source": [
    "summons2013.head()"
   ]
  },
  {
   "cell_type": "markdown",
   "metadata": {},
   "source": [
    "### Ensuring all violation values are having same naming convention"
   ]
  },
  {
   "cell_type": "code",
   "execution_count": 18,
   "metadata": {
    "collapsed": false
   },
   "outputs": [
    {
     "name": "stdout",
     "output_type": "stream",
     "text": [
      "[u'Brake Lights (Defect.or Improper)' u'Bus Lane, Driving in' u'Cell Phone'\n",
      " u'Commercial Veh on Pkwy' u'Defective Brakes' u'Disobey Steady Red Signal'\n",
      " u'Disobey Traffic Control Device' u'Equipment (Other)'\n",
      " u'Fail to Keep Right' u'Fail to Signal' u'Following Too Closely'\n",
      " u'Headlights (Defect. or Improper)' u'Improper Lights' u'Improper Passing'\n",
      " u'Improper Turn' u'Improper/Missing Plates' u'Not Giving R of W to Pedes.'\n",
      " u'Not Giving R of W to Veh.' u'One Way Street' u'Pavement Markings'\n",
      " u'Safety Belt' u'School Bus, Passing Stopped' u'Speeding' u'Spillback'\n",
      " u'Tinted Windows' u'Truck Routes' u'U-Turn' u'Uninspected' u'Uninsured'\n",
      " u'Unlicensed Operator' u'Unregistered' u'Unsafe Lane Change'\n",
      " u'Other Movers']\n",
      "[u'Brake Lights (Defect.or Improper)' u'Bus Lane, Driving in' u'Cell Phone'\n",
      " u'Commercial Veh on Pkwy' u'Defective Brakes' u'Disobey Steady Red Signal'\n",
      " u'Disobey Traffic Control Device' u'Equipment (Other)'\n",
      " u'Fail to Keep Right' u'Fail to Signal' u'Following Too Closely'\n",
      " u'Headlights (Defect. or Improper)' u'Improper Lights' u'Improper Passing'\n",
      " u'Improper Turn' u'Improper/Missing Plates' u'Not Giving R of W to Pedes.'\n",
      " u'Not Giving R of W to Veh.' u'One Way Street' u'Pavement Markings'\n",
      " u'Safety Belt' u'School Bus, Passing Stopped' u'Speeding' u'Spillback'\n",
      " u'Tinted Windows' u'Truck Routes' u'U-Turn' u'Uninspected' u'Uninsured'\n",
      " u'Unlicensed Operator' u'Unregistered' u'Unsafe Lane Change'\n",
      " u'Other Movers']\n",
      "[u'Brake Lights (Defect.or  Improper)' u'Bus Lane, Driving in'\n",
      " u'Cell Phone' u'Commercial Veh on Pkwy' u'Defective Brakes'\n",
      " u'Disobey Sign' u'Equipment (Other)' u'Fail to Keep Right'\n",
      " u'Fail to Signal' u'Fail to Stop on Signal' u'Following Too Closely'\n",
      " u'Headlights (Defect. or Improper)' u'Improper Lights' u'Improper Passing'\n",
      " u'Improper Turn' u'Improper/Missing Plates' u'Not Giving R of W to Pedes.'\n",
      " u'Not Giving R of W to Veh.' u'One Way Street' u'Pavement Markings'\n",
      " u'Safety Belt' u'School Bus, Passing Stopped' u'Speeding' u'Spillback'\n",
      " u'Tinted Windows' u'Truck Routes' u'U-Turn' u'Uninspected' u'Uninsured'\n",
      " u'Unlicensed Operator' u'Unregistered' u'Unsafe Lane Change'\n",
      " u'Other Movers\\nTOTAL Movers']\n"
     ]
    }
   ],
   "source": [
    "# Checking for unique values across Violation\n",
    "print summons2015.Violation.unique()\n",
    "print summons2014.Violation.unique()\n",
    "print summons2013.Violation.unique()"
   ]
  },
  {
   "cell_type": "code",
   "execution_count": 19,
   "metadata": {
    "collapsed": false
   },
   "outputs": [
    {
     "name": "stdout",
     "output_type": "stream",
     "text": [
      "[u'Brake Lights (Defect.or  Improper)' u'Bus Lane, Driving in'\n",
      " u'Cell Phone' u'Commercial Veh on Pkwy' u'Defective Brakes'\n",
      " 'Disobey Steady Red Signal' u'Equipment (Other)' u'Fail to Keep Right'\n",
      " u'Fail to Signal' 'Disobey Traffic Control Device'\n",
      " u'Following Too Closely' u'Headlights (Defect. or Improper)'\n",
      " u'Improper Lights' u'Improper Passing' u'Improper Turn'\n",
      " u'Improper/Missing Plates' u'Not Giving R of W to Pedes.'\n",
      " u'Not Giving R of W to Veh.' u'One Way Street' u'Pavement Markings'\n",
      " u'Safety Belt' u'School Bus, Passing Stopped' u'Speeding' u'Spillback'\n",
      " u'Tinted Windows' u'Truck Routes' u'U-Turn' u'Uninspected' u'Uninsured'\n",
      " u'Unlicensed Operator' u'Unregistered' u'Unsafe Lane Change'\n",
      " u'Other Movers\\nTOTAL Movers']\n"
     ]
    }
   ],
   "source": [
    "# Based on the unique values from above output, it can be observed that one of the violation types\n",
    "# got changes it naming convention from Fail to Stop on Signal to Disobey Traffic Control Device\n",
    "# and Disobey Sign got changed to Disobey Steady Red Signal\n",
    "# Renaming these values to ensure consistency\n",
    "summons2013.loc[summons2013['Violation'] == 'Fail to Stop on Signal', 'Violation'] = 'Disobey Traffic Control Device'\n",
    "summons2013.loc[summons2013['Violation'] == 'Disobey Sign', 'Violation'] = 'Disobey Steady Red Signal'\n",
    "print summons2013.Violation.unique()"
   ]
  },
  {
   "cell_type": "markdown",
   "metadata": {},
   "source": [
    "### Plotting violation distributions across years"
   ]
  },
  {
   "cell_type": "code",
   "execution_count": 20,
   "metadata": {
    "collapsed": false
   },
   "outputs": [
    {
     "name": "stdout",
     "output_type": "stream",
     "text": [
      "(2541, 4)\n",
      "Index([u'Precinct', u'Violation', u'Total_2015', u'Total_2014'], dtype='object')\n",
      "(2541, 5)\n",
      "Index([u'Precinct', u'Violation', u'Total_2015', u'Total_2014', u'Total_2013'], dtype='object')\n"
     ]
    }
   ],
   "source": [
    "# Merging summons for 2015 and 2014\n",
    "summons1 = pd.merge(left=summons2015, right=summons2014, how='left', on=['Precinct','Violation'])\n",
    "print summons1.shape\n",
    "print summons1.columns\n",
    "\n",
    "nypdSummons = pd.merge(left=summons1, right=summons2013, how='left', on=['Precinct','Violation'])\n",
    "print nypdSummons.shape\n",
    "print nypdSummons.columns"
   ]
  },
  {
   "cell_type": "code",
   "execution_count": 21,
   "metadata": {
    "collapsed": false
   },
   "outputs": [
    {
     "name": "stdout",
     "output_type": "stream",
     "text": [
      "2301951.0\n"
     ]
    },
    {
     "data": {
      "text/html": [
       "<div>\n",
       "<table border=\"1\" class=\"dataframe\">\n",
       "  <thead>\n",
       "    <tr style=\"text-align: right;\">\n",
       "      <th></th>\n",
       "      <th>Precinct</th>\n",
       "      <th>Violation</th>\n",
       "      <th>Total_2015</th>\n",
       "      <th>Total_2014</th>\n",
       "      <th>Total_2013</th>\n",
       "      <th>Totals</th>\n",
       "    </tr>\n",
       "  </thead>\n",
       "  <tbody>\n",
       "    <tr>\n",
       "      <th>0</th>\n",
       "      <td>1</td>\n",
       "      <td>Brake Lights (Defect.or Improper)</td>\n",
       "      <td>12</td>\n",
       "      <td>15</td>\n",
       "      <td>NaN</td>\n",
       "      <td>NaN</td>\n",
       "    </tr>\n",
       "    <tr>\n",
       "      <th>1</th>\n",
       "      <td>1</td>\n",
       "      <td>Bus Lane, Driving in</td>\n",
       "      <td>22</td>\n",
       "      <td>33</td>\n",
       "      <td>92</td>\n",
       "      <td>147</td>\n",
       "    </tr>\n",
       "    <tr>\n",
       "      <th>2</th>\n",
       "      <td>1</td>\n",
       "      <td>Cell Phone</td>\n",
       "      <td>2350</td>\n",
       "      <td>2468</td>\n",
       "      <td>2411</td>\n",
       "      <td>7229</td>\n",
       "    </tr>\n",
       "    <tr>\n",
       "      <th>3</th>\n",
       "      <td>1</td>\n",
       "      <td>Commercial Veh on Pkwy</td>\n",
       "      <td>0</td>\n",
       "      <td>0</td>\n",
       "      <td>2</td>\n",
       "      <td>2</td>\n",
       "    </tr>\n",
       "    <tr>\n",
       "      <th>4</th>\n",
       "      <td>1</td>\n",
       "      <td>Defective Brakes</td>\n",
       "      <td>0</td>\n",
       "      <td>1</td>\n",
       "      <td>0</td>\n",
       "      <td>1</td>\n",
       "    </tr>\n",
       "  </tbody>\n",
       "</table>\n",
       "</div>"
      ],
      "text/plain": [
       "   Precinct                          Violation  Total_2015  Total_2014  \\\n",
       "0         1  Brake Lights (Defect.or Improper)          12          15   \n",
       "1         1               Bus Lane, Driving in          22          33   \n",
       "2         1                         Cell Phone        2350        2468   \n",
       "3         1             Commercial Veh on Pkwy           0           0   \n",
       "4         1                   Defective Brakes           0           1   \n",
       "\n",
       "   Total_2013  Totals  \n",
       "0         NaN     NaN  \n",
       "1          92     147  \n",
       "2        2411    7229  \n",
       "3           2       2  \n",
       "4           0       1  "
      ]
     },
     "execution_count": 21,
     "metadata": {},
     "output_type": "execute_result"
    }
   ],
   "source": [
    "# Summing up the totals for the years 2013, 2014, 2015\n",
    "nypdSummons['Totals'] = nypdSummons['Total_2015'] + nypdSummons['Total_2014'] + nypdSummons['Total_2013']\n",
    "print nypdSummons['Totals'].sum()\n",
    "nypdSummons.head()"
   ]
  },
  {
   "cell_type": "code",
   "execution_count": 22,
   "metadata": {
    "collapsed": false
   },
   "outputs": [
    {
     "data": {
      "text/plain": [
       "<matplotlib.text.Text at 0x398ffd0>"
      ]
     },
     "execution_count": 22,
     "metadata": {},
     "output_type": "execute_result"
    },
    {
     "data": {
      "image/png": "[encoded data removed]",
      "text/plain": [
       "<matplotlib.figure.Figure at 0x1ee33a58>"
      ]
     },
     "metadata": {},
     "output_type": "display_data"
    }
   ],
   "source": [
    "# Distribution of Violations for 2015\n",
    "plt.figure(figsize=(20,10))\n",
    "groupedViolation = nypdSummons.groupby('Violation')\n",
    "freqPlot = groupedViolation['Totals'].sum().plot(kind='bar')\n",
    "freqPlot.set_xlabel(\"Violation\")\n",
    "freqPlot.set_ylabel(\"Frequency\")"
   ]
  },
  {
   "cell_type": "markdown",
   "metadata": {},
   "source": [
    ">__\"Based on the above plot distribution, only top 6 violations are used for the analysis. These violations would be Cell Phone, Disobey Steady Red Signal, Disobey Traffic Control Device, Improper Turn, Safety Belt, Tinted Windows.\"__"
   ]
  },
  {
   "cell_type": "markdown",
   "metadata": {},
   "source": [
    "### Transposing summons to precinct level"
   ]
  },
  {
   "cell_type": "code",
   "execution_count": 23,
   "metadata": {
    "collapsed": false
   },
   "outputs": [
    {
     "name": "stdout",
     "output_type": "stream",
     "text": [
      "(462, 6)\n",
      "[u'Cell Phone' u'Disobey Steady Red Signal'\n",
      " u'Disobey Traffic Control Device' u'Improper Turn' u'Safety Belt'\n",
      " u'Tinted Windows']\n",
      "<class 'pandas.core.frame.DataFrame'>\n",
      "Int64Index: 462 entries, 2 to 2532\n",
      "Data columns (total 3 columns):\n",
      "Precinct     462 non-null int64\n",
      "Violation    462 non-null object\n",
      "Totals       462 non-null float64\n",
      "dtypes: float64(1), int64(1), object(1)\n",
      "memory usage: 14.4+ KB\n",
      "None\n"
     ]
    },
    {
     "data": {
      "text/html": [
       "<div>\n",
       "<table border=\"1\" class=\"dataframe\">\n",
       "  <thead>\n",
       "    <tr style=\"text-align: right;\">\n",
       "      <th></th>\n",
       "      <th>Precinct</th>\n",
       "      <th>Violation</th>\n",
       "      <th>Totals</th>\n",
       "    </tr>\n",
       "  </thead>\n",
       "  <tbody>\n",
       "    <tr>\n",
       "      <th>2</th>\n",
       "      <td>1</td>\n",
       "      <td>Cell Phone</td>\n",
       "      <td>7229</td>\n",
       "    </tr>\n",
       "    <tr>\n",
       "      <th>5</th>\n",
       "      <td>1</td>\n",
       "      <td>Disobey Steady Red Signal</td>\n",
       "      <td>3603</td>\n",
       "    </tr>\n",
       "    <tr>\n",
       "      <th>6</th>\n",
       "      <td>1</td>\n",
       "      <td>Disobey Traffic Control Device</td>\n",
       "      <td>5427</td>\n",
       "    </tr>\n",
       "    <tr>\n",
       "      <th>14</th>\n",
       "      <td>1</td>\n",
       "      <td>Improper Turn</td>\n",
       "      <td>2342</td>\n",
       "    </tr>\n",
       "    <tr>\n",
       "      <th>20</th>\n",
       "      <td>1</td>\n",
       "      <td>Safety Belt</td>\n",
       "      <td>3996</td>\n",
       "    </tr>\n",
       "  </tbody>\n",
       "</table>\n",
       "</div>"
      ],
      "text/plain": [
       "    Precinct                       Violation  Totals\n",
       "2          1                      Cell Phone    7229\n",
       "5          1       Disobey Steady Red Signal    3603\n",
       "6          1  Disobey Traffic Control Device    5427\n",
       "14         1                   Improper Turn    2342\n",
       "20         1                     Safety Belt    3996"
      ]
     },
     "execution_count": 23,
     "metadata": {},
     "output_type": "execute_result"
    }
   ],
   "source": [
    "# Subset only the required features\n",
    "violationlist = ['Cell Phone', 'Disobey Steady Red Signal', 'Disobey Traffic Control Device',\n",
    "                 'Improper Turn', 'Safety Belt', 'Tinted Windows']\n",
    "nypdSummons1 = nypdSummons.loc[(nypdSummons.Violation.isin(violationlist)),]\n",
    "print nypdSummons1.shape\n",
    "print nypdSummons1.Violation.unique()\n",
    "\n",
    "nypdSummons1 = nypdSummons1[['Precinct', 'Violation', 'Totals']]\n",
    "print nypdSummons1.info()\n",
    "nypdSummons1.head()"
   ]
  },
  {
   "cell_type": "code",
   "execution_count": 24,
   "metadata": {
    "collapsed": false
   },
   "outputs": [
    {
     "name": "stdout",
     "output_type": "stream",
     "text": [
      "{'Improper Turn': {}, 'Tinted Windows': {}, 'Safety Belt': {}, 'Cell Phone': {}, 'Disobey Steady Red Signal': {}, 'Disobey Traffic Control Device': {}}\n"
     ]
    }
   ],
   "source": [
    "# Creating an empty dictionary with violation names as keys\n",
    "violationlist = ['Cell Phone', 'Disobey Steady Red Signal', 'Disobey Traffic Control Device',\n",
    "                 'Improper Turn', 'Safety Belt', 'Tinted Windows']\n",
    "precinctSummons = {x:{} for x in violationlist} # Using dictionary comprehensions\n",
    "print precinctSummons\n",
    "\n",
    "precinctlist = list(nypdSummons1.Precinct.unique())\n",
    "\n",
    "for i in violationlist:\n",
    "    df = nypdSummons1.loc[nypdSummons1.Violation == i,]\n",
    "    for n in precinctlist:\n",
    "        precinctSummons[i][n] = df.loc[df.Precinct == n, 'Totals'].values[0]"
   ]
  },
  {
   "cell_type": "code",
   "execution_count": 25,
   "metadata": {
    "collapsed": false
   },
   "outputs": [
    {
     "data": {
      "text/plain": [
       "{'Cell Phone': {1: 7229.0,\n",
       "  5: 1569.0,\n",
       "  6: 4274.0,\n",
       "  7: 3767.0,\n",
       "  9: 5348.0,\n",
       "  10: 4610.0,\n",
       "  13: 1933.0,\n",
       "  14: 9145.0,\n",
       "  17: 1746.0,\n",
       "  18: 5963.0,\n",
       "  19: 4356.0,\n",
       "  20: 7090.0,\n",
       "  22: 1003.0,\n",
       "  23: 6261.0,\n",
       "  24: 4761.0,\n",
       "  25: 5091.0,\n",
       "  26: 3376.0,\n",
       "  28: 3714.0,\n",
       "  30: 4389.0,\n",
       "  32: 2021.0,\n",
       "  33: 3233.0,\n",
       "  34: 1718.0,\n",
       "  40: 2689.0,\n",
       "  41: 1013.0,\n",
       "  42: 2075.0,\n",
       "  43: 1671.0,\n",
       "  44: 2349.0,\n",
       "  45: 1755.0,\n",
       "  46: 2112.0,\n",
       "  47: 1779.0,\n",
       "  48: 2748.0,\n",
       "  49: 1934.0,\n",
       "  50: 2265.0,\n",
       "  52: 1895.0,\n",
       "  60: 3276.0,\n",
       "  61: 5624.0,\n",
       "  62: 2614.0,\n",
       "  63: 3269.0,\n",
       "  66: 4462.0,\n",
       "  67: 3416.0,\n",
       "  68: 3570.0,\n",
       "  69: 5577.0,\n",
       "  70: 6189.0,\n",
       "  71: 5998.0,\n",
       "  72: 2294.0,\n",
       "  73: 6612.0,\n",
       "  75: 4028.0,\n",
       "  76: 3942.0,\n",
       "  77: 3413.0,\n",
       "  78: 3867.0,\n",
       "  79: 3885.0,\n",
       "  81: 5084.0,\n",
       "  83: 3894.0,\n",
       "  84: 2403.0,\n",
       "  88: 5787.0,\n",
       "  90: 4195.0,\n",
       "  94: 2352.0,\n",
       "  100: 1654.0,\n",
       "  101: 2262.0,\n",
       "  102: 3169.0,\n",
       "  103: 4686.0,\n",
       "  104: 3326.0,\n",
       "  105: 3635.0,\n",
       "  106: 1969.0,\n",
       "  107: 2975.0,\n",
       "  108: 4011.0,\n",
       "  109: 7333.0,\n",
       "  110: 5027.0,\n",
       "  111: 7719.0,\n",
       "  112: 3592.0,\n",
       "  113: 3670.0,\n",
       "  114: 6695.0,\n",
       "  115: 3458.0,\n",
       "  120: 3679.0,\n",
       "  121: 1887.0,\n",
       "  122: 4131.0,\n",
       "  123: 2713.0},\n",
       " 'Disobey Steady Red Signal': {1: 3603.0,\n",
       "  5: 3157.0,\n",
       "  6: 3960.0,\n",
       "  7: 3134.0,\n",
       "  9: 3330.0,\n",
       "  10: 1353.0,\n",
       "  13: 4469.0,\n",
       "  14: 3909.0,\n",
       "  17: 3222.0,\n",
       "  18: 2724.0,\n",
       "  19: 5325.0,\n",
       "  20: 3746.0,\n",
       "  22: 1157.0,\n",
       "  23: 1611.0,\n",
       "  24: 3088.0,\n",
       "  25: 1353.0,\n",
       "  26: 1229.0,\n",
       "  28: 2915.0,\n",
       "  30: 2754.0,\n",
       "  32: 1782.0,\n",
       "  33: 1412.0,\n",
       "  34: 1629.0,\n",
       "  40: 2180.0,\n",
       "  41: 2580.0,\n",
       "  42: 2801.0,\n",
       "  43: 1381.0,\n",
       "  44: 3442.0,\n",
       "  45: 971.0,\n",
       "  46: 2457.0,\n",
       "  47: 962.0,\n",
       "  48: 1333.0,\n",
       "  49: 1407.0,\n",
       "  50: 2165.0,\n",
       "  52: 1614.0,\n",
       "  60: 2065.0,\n",
       "  61: 551.0,\n",
       "  62: 2800.0,\n",
       "  63: 1896.0,\n",
       "  66: 1845.0,\n",
       "  67: 2790.0,\n",
       "  68: 2162.0,\n",
       "  69: 1872.0,\n",
       "  70: 2797.0,\n",
       "  71: 5963.0,\n",
       "  72: 3076.0,\n",
       "  73: 3380.0,\n",
       "  75: 2993.0,\n",
       "  76: 811.0,\n",
       "  77: 2802.0,\n",
       "  78: 2650.0,\n",
       "  79: 4838.0,\n",
       "  81: 1957.0,\n",
       "  83: 4298.0,\n",
       "  84: 3474.0,\n",
       "  88: 2984.0,\n",
       "  90: 2621.0,\n",
       "  94: 3452.0,\n",
       "  100: 1431.0,\n",
       "  101: 2063.0,\n",
       "  102: 2510.0,\n",
       "  103: 4817.0,\n",
       "  104: 2055.0,\n",
       "  105: 1480.0,\n",
       "  106: 3102.0,\n",
       "  107: 2278.0,\n",
       "  108: 4283.0,\n",
       "  109: 9022.0,\n",
       "  110: 2257.0,\n",
       "  111: 989.0,\n",
       "  112: 3472.0,\n",
       "  113: 1830.0,\n",
       "  114: 4600.0,\n",
       "  115: 3560.0,\n",
       "  120: 3765.0,\n",
       "  121: 1985.0,\n",
       "  122: 3091.0,\n",
       "  123: 1213.0},\n",
       " 'Disobey Traffic Control Device': {1: 5427.0,\n",
       "  5: 4805.0,\n",
       "  6: 3348.0,\n",
       "  7: 4533.0,\n",
       "  9: 3891.0,\n",
       "  10: 1824.0,\n",
       "  13: 5012.0,\n",
       "  14: 7901.0,\n",
       "  17: 1671.0,\n",
       "  18: 4076.0,\n",
       "  19: 7423.0,\n",
       "  20: 5481.0,\n",
       "  22: 642.0,\n",
       "  23: 1786.0,\n",
       "  24: 3867.0,\n",
       "  25: 1348.0,\n",
       "  26: 1970.0,\n",
       "  28: 4146.0,\n",
       "  30: 2649.0,\n",
       "  32: 3672.0,\n",
       "  33: 1839.0,\n",
       "  34: 4317.0,\n",
       "  40: 3615.0,\n",
       "  41: 4676.0,\n",
       "  42: 3409.0,\n",
       "  43: 2884.0,\n",
       "  44: 4336.0,\n",
       "  45: 1954.0,\n",
       "  46: 4465.0,\n",
       "  47: 2207.0,\n",
       "  48: 2111.0,\n",
       "  49: 2492.0,\n",
       "  50: 3742.0,\n",
       "  52: 2403.0,\n",
       "  60: 3686.0,\n",
       "  61: 856.0,\n",
       "  62: 5705.0,\n",
       "  63: 3269.0,\n",
       "  66: 3123.0,\n",
       "  67: 5324.0,\n",
       "  68: 2099.0,\n",
       "  69: 2754.0,\n",
       "  70: 4252.0,\n",
       "  71: 8345.0,\n",
       "  72: 3292.0,\n",
       "  73: 4886.0,\n",
       "  75: 3685.0,\n",
       "  76: 1186.0,\n",
       "  77: 5349.0,\n",
       "  78: 4366.0,\n",
       "  79: 5584.0,\n",
       "  81: 2370.0,\n",
       "  83: 8237.0,\n",
       "  84: 4113.0,\n",
       "  88: 3663.0,\n",
       "  90: 2190.0,\n",
       "  94: 2924.0,\n",
       "  100: 2064.0,\n",
       "  101: 2417.0,\n",
       "  102: 4653.0,\n",
       "  103: 10522.0,\n",
       "  104: 3194.0,\n",
       "  105: 3340.0,\n",
       "  106: 3799.0,\n",
       "  107: 3834.0,\n",
       "  108: 6587.0,\n",
       "  109: 13512.0,\n",
       "  110: 3749.0,\n",
       "  111: 1524.0,\n",
       "  112: 5420.0,\n",
       "  113: 2679.0,\n",
       "  114: 6993.0,\n",
       "  115: 5314.0,\n",
       "  120: 4764.0,\n",
       "  121: 6888.0,\n",
       "  122: 4856.0,\n",
       "  123: 1866.0},\n",
       " 'Improper Turn': {1: 2342.0,\n",
       "  5: 5273.0,\n",
       "  6: 3032.0,\n",
       "  7: 2929.0,\n",
       "  9: 2567.0,\n",
       "  10: 2841.0,\n",
       "  13: 4831.0,\n",
       "  14: 8146.0,\n",
       "  17: 6023.0,\n",
       "  18: 9664.0,\n",
       "  19: 12760.0,\n",
       "  20: 1909.0,\n",
       "  22: 3799.0,\n",
       "  23: 1546.0,\n",
       "  24: 2025.0,\n",
       "  25: 5103.0,\n",
       "  26: 1749.0,\n",
       "  28: 2165.0,\n",
       "  30: 2440.0,\n",
       "  32: 1486.0,\n",
       "  33: 1116.0,\n",
       "  34: 1573.0,\n",
       "  40: 3871.0,\n",
       "  41: 2368.0,\n",
       "  42: 4179.0,\n",
       "  43: 3235.0,\n",
       "  44: 492.0,\n",
       "  45: 394.0,\n",
       "  46: 1397.0,\n",
       "  47: 2315.0,\n",
       "  48: 4044.0,\n",
       "  49: 733.0,\n",
       "  50: 1945.0,\n",
       "  52: 3321.0,\n",
       "  60: 811.0,\n",
       "  61: 462.0,\n",
       "  62: 1233.0,\n",
       "  63: 797.0,\n",
       "  66: 267.0,\n",
       "  67: 1015.0,\n",
       "  68: 2151.0,\n",
       "  69: 2373.0,\n",
       "  70: 5588.0,\n",
       "  71: 2209.0,\n",
       "  72: 1318.0,\n",
       "  73: 2142.0,\n",
       "  75: 2093.0,\n",
       "  76: 1728.0,\n",
       "  77: 1412.0,\n",
       "  78: 449.0,\n",
       "  79: 1686.0,\n",
       "  81: 215.0,\n",
       "  83: 667.0,\n",
       "  84: 4969.0,\n",
       "  88: 437.0,\n",
       "  90: 2971.0,\n",
       "  94: 1280.0,\n",
       "  100: 1119.0,\n",
       "  101: 437.0,\n",
       "  102: 1326.0,\n",
       "  103: 2821.0,\n",
       "  104: 779.0,\n",
       "  105: 996.0,\n",
       "  106: 5394.0,\n",
       "  107: 6335.0,\n",
       "  108: 4807.0,\n",
       "  109: 1771.0,\n",
       "  110: 436.0,\n",
       "  111: 130.0,\n",
       "  112: 1315.0,\n",
       "  113: 6430.0,\n",
       "  114: 1411.0,\n",
       "  115: 2281.0,\n",
       "  120: 196.0,\n",
       "  121: 326.0,\n",
       "  122: 205.0,\n",
       "  123: 708.0},\n",
       " 'Safety Belt': {1: 3996.0,\n",
       "  5: 1573.0,\n",
       "  6: 3383.0,\n",
       "  7: 2331.0,\n",
       "  9: 3076.0,\n",
       "  10: 5635.0,\n",
       "  13: 717.0,\n",
       "  14: 6755.0,\n",
       "  17: 1327.0,\n",
       "  18: 4786.0,\n",
       "  19: 1350.0,\n",
       "  20: 2986.0,\n",
       "  22: 340.0,\n",
       "  23: 3200.0,\n",
       "  24: 1514.0,\n",
       "  25: 4693.0,\n",
       "  26: 893.0,\n",
       "  28: 3531.0,\n",
       "  30: 2467.0,\n",
       "  32: 1493.0,\n",
       "  33: 2351.0,\n",
       "  34: 1202.0,\n",
       "  40: 2213.0,\n",
       "  41: 1512.0,\n",
       "  42: 1085.0,\n",
       "  43: 2046.0,\n",
       "  44: 3692.0,\n",
       "  45: 1514.0,\n",
       "  46: 1481.0,\n",
       "  47: 3068.0,\n",
       "  48: 1793.0,\n",
       "  49: 3260.0,\n",
       "  50: 2556.0,\n",
       "  52: 1616.0,\n",
       "  60: 2593.0,\n",
       "  61: 7363.0,\n",
       "  62: 3469.0,\n",
       "  63: 1669.0,\n",
       "  66: 5923.0,\n",
       "  67: 3037.0,\n",
       "  68: 4105.0,\n",
       "  69: 5868.0,\n",
       "  70: 7028.0,\n",
       "  71: 3929.0,\n",
       "  72: 2293.0,\n",
       "  73: 4213.0,\n",
       "  75: 8628.0,\n",
       "  76: 2362.0,\n",
       "  77: 2262.0,\n",
       "  78: 2952.0,\n",
       "  79: 2185.0,\n",
       "  81: 4970.0,\n",
       "  83: 2813.0,\n",
       "  84: 3192.0,\n",
       "  88: 3897.0,\n",
       "  90: 4804.0,\n",
       "  94: 2406.0,\n",
       "  100: 1639.0,\n",
       "  101: 2198.0,\n",
       "  102: 3986.0,\n",
       "  103: 7073.0,\n",
       "  104: 4050.0,\n",
       "  105: 6823.0,\n",
       "  106: 4485.0,\n",
       "  107: 6020.0,\n",
       "  108: 3646.0,\n",
       "  109: 9686.0,\n",
       "  110: 7773.0,\n",
       "  111: 6249.0,\n",
       "  112: 5888.0,\n",
       "  113: 3204.0,\n",
       "  114: 5105.0,\n",
       "  115: 6245.0,\n",
       "  120: 4277.0,\n",
       "  121: 1565.0,\n",
       "  122: 4028.0,\n",
       "  123: 5026.0},\n",
       " 'Tinted Windows': {1: 1552.0,\n",
       "  5: 505.0,\n",
       "  6: 500.0,\n",
       "  7: 855.0,\n",
       "  9: 366.0,\n",
       "  10: 916.0,\n",
       "  13: 297.0,\n",
       "  14: 1460.0,\n",
       "  17: 207.0,\n",
       "  18: 544.0,\n",
       "  19: 923.0,\n",
       "  20: 678.0,\n",
       "  22: 618.0,\n",
       "  23: 920.0,\n",
       "  24: 242.0,\n",
       "  25: 1898.0,\n",
       "  26: 437.0,\n",
       "  28: 821.0,\n",
       "  30: 637.0,\n",
       "  32: 1689.0,\n",
       "  33: 1021.0,\n",
       "  34: 594.0,\n",
       "  40: 5086.0,\n",
       "  41: 2330.0,\n",
       "  42: 2516.0,\n",
       "  43: 3181.0,\n",
       "  44: 2187.0,\n",
       "  45: 2138.0,\n",
       "  46: 8759.0,\n",
       "  47: 2622.0,\n",
       "  48: 4218.0,\n",
       "  49: 2451.0,\n",
       "  50: 2411.0,\n",
       "  52: 7336.0,\n",
       "  60: 4025.0,\n",
       "  61: 2265.0,\n",
       "  62: 3041.0,\n",
       "  63: 1695.0,\n",
       "  66: 2085.0,\n",
       "  67: 6915.0,\n",
       "  68: 1375.0,\n",
       "  69: 6299.0,\n",
       "  70: 3565.0,\n",
       "  71: 4505.0,\n",
       "  72: 1357.0,\n",
       "  73: 7627.0,\n",
       "  75: 9002.0,\n",
       "  76: 2218.0,\n",
       "  77: 2737.0,\n",
       "  78: 1599.0,\n",
       "  79: 1814.0,\n",
       "  81: 3427.0,\n",
       "  83: 1442.0,\n",
       "  84: 1874.0,\n",
       "  88: 391.0,\n",
       "  90: 1545.0,\n",
       "  94: 1797.0,\n",
       "  100: 1096.0,\n",
       "  101: 2866.0,\n",
       "  102: 2306.0,\n",
       "  103: 10956.0,\n",
       "  104: 2889.0,\n",
       "  105: 6029.0,\n",
       "  106: 2585.0,\n",
       "  107: 1366.0,\n",
       "  108: 1512.0,\n",
       "  109: 4539.0,\n",
       "  110: 1211.0,\n",
       "  111: 2798.0,\n",
       "  112: 1921.0,\n",
       "  113: 6189.0,\n",
       "  114: 2791.0,\n",
       "  115: 4703.0,\n",
       "  120: 2801.0,\n",
       "  121: 1953.0,\n",
       "  122: 2511.0,\n",
       "  123: 2490.0}}"
      ]
     },
     "execution_count": 25,
     "metadata": {},
     "output_type": "execute_result"
    }
   ],
   "source": [
    "precinctSummons"
   ]
  },
  {
   "cell_type": "code",
   "execution_count": 26,
   "metadata": {
    "collapsed": false
   },
   "outputs": [
    {
     "name": "stdout",
     "output_type": "stream",
     "text": [
      "<class 'pandas.core.frame.DataFrame'>\n",
      "Int64Index: 77 entries, 1 to 123\n",
      "Data columns (total 6 columns):\n",
      "Cell Phone                        77 non-null float64\n",
      "Disobey Steady Red Signal         77 non-null float64\n",
      "Disobey Traffic Control Device    77 non-null float64\n",
      "Improper Turn                     77 non-null float64\n",
      "Safety Belt                       77 non-null float64\n",
      "Tinted Windows                    77 non-null float64\n",
      "dtypes: float64(6)\n",
      "memory usage: 4.2 KB\n"
     ]
    }
   ],
   "source": [
    "# Converting dict of dicts into a data frame\n",
    "precinctSummonsAgg = pd.DataFrame.from_dict(precinctSummons)\n",
    "precinctSummonsAgg.info()"
   ]
  },
  {
   "cell_type": "code",
   "execution_count": 27,
   "metadata": {
    "collapsed": false
   },
   "outputs": [
    {
     "data": {
      "text/plain": [
       "Int64Index([  1,   5,   6,   7,   9,  10,  13,  14,  17,  18,  19,  20,  22,\n",
       "             23,  24,  25,  26,  28,  30,  32,  33,  34,  40,  41,  42,  43,\n",
       "             44,  45,  46,  47,  48,  49,  50,  52,  60,  61,  62,  63,  66,\n",
       "             67,  68,  69,  70,  71,  72,  73,  75,  76,  77,  78,  79,  81,\n",
       "             83,  84,  88,  90,  94, 100, 101, 102, 103, 104, 105, 106, 107,\n",
       "            108, 109, 110, 111, 112, 113, 114, 115, 120, 121, 122, 123],\n",
       "           dtype='int64')"
      ]
     },
     "execution_count": 27,
     "metadata": {},
     "output_type": "execute_result"
    }
   ],
   "source": [
    "# Precinct values are under the index of data frame\n",
    "precinctSummonsAgg.index"
   ]
  },
  {
   "cell_type": "code",
   "execution_count": 28,
   "metadata": {
    "collapsed": false
   },
   "outputs": [
    {
     "data": {
      "text/html": [
       "<div>\n",
       "<table border=\"1\" class=\"dataframe\">\n",
       "  <thead>\n",
       "    <tr style=\"text-align: right;\">\n",
       "      <th></th>\n",
       "      <th>Cell Phone</th>\n",
       "      <th>Disobey Steady Red Signal</th>\n",
       "      <th>Disobey Traffic Control Device</th>\n",
       "      <th>Improper Turn</th>\n",
       "      <th>Safety Belt</th>\n",
       "      <th>Tinted Windows</th>\n",
       "    </tr>\n",
       "  </thead>\n",
       "  <tbody>\n",
       "    <tr>\n",
       "      <th>1</th>\n",
       "      <td>7229</td>\n",
       "      <td>3603</td>\n",
       "      <td>5427</td>\n",
       "      <td>2342</td>\n",
       "      <td>3996</td>\n",
       "      <td>1552</td>\n",
       "    </tr>\n",
       "    <tr>\n",
       "      <th>5</th>\n",
       "      <td>1569</td>\n",
       "      <td>3157</td>\n",
       "      <td>4805</td>\n",
       "      <td>5273</td>\n",
       "      <td>1573</td>\n",
       "      <td>505</td>\n",
       "    </tr>\n",
       "    <tr>\n",
       "      <th>6</th>\n",
       "      <td>4274</td>\n",
       "      <td>3960</td>\n",
       "      <td>3348</td>\n",
       "      <td>3032</td>\n",
       "      <td>3383</td>\n",
       "      <td>500</td>\n",
       "    </tr>\n",
       "    <tr>\n",
       "      <th>7</th>\n",
       "      <td>3767</td>\n",
       "      <td>3134</td>\n",
       "      <td>4533</td>\n",
       "      <td>2929</td>\n",
       "      <td>2331</td>\n",
       "      <td>855</td>\n",
       "    </tr>\n",
       "    <tr>\n",
       "      <th>9</th>\n",
       "      <td>5348</td>\n",
       "      <td>3330</td>\n",
       "      <td>3891</td>\n",
       "      <td>2567</td>\n",
       "      <td>3076</td>\n",
       "      <td>366</td>\n",
       "    </tr>\n",
       "  </tbody>\n",
       "</table>\n",
       "</div>"
      ],
      "text/plain": [
       "   Cell Phone  Disobey Steady Red Signal  Disobey Traffic Control Device  \\\n",
       "1        7229                       3603                            5427   \n",
       "5        1569                       3157                            4805   \n",
       "6        4274                       3960                            3348   \n",
       "7        3767                       3134                            4533   \n",
       "9        5348                       3330                            3891   \n",
       "\n",
       "   Improper Turn  Safety Belt  Tinted Windows  \n",
       "1           2342         3996            1552  \n",
       "5           5273         1573             505  \n",
       "6           3032         3383             500  \n",
       "7           2929         2331             855  \n",
       "9           2567         3076             366  "
      ]
     },
     "execution_count": 28,
     "metadata": {},
     "output_type": "execute_result"
    }
   ],
   "source": [
    "# Checking for first few observations\n",
    "precinctSummonsAgg.head()"
   ]
  },
  {
   "cell_type": "code",
   "execution_count": 29,
   "metadata": {
    "collapsed": false
   },
   "outputs": [],
   "source": [
    "# Exporting data to be used in the final analysis\n",
    "precinctSummonsAgg.reset_index().to_csv(\"precinct_summons.csv\")"
   ]
  },
  {
   "cell_type": "code",
   "execution_count": null,
   "metadata": {
    "collapsed": true
   },
   "outputs": [],
   "source": []
  }
 ],
 "metadata": {
  "kernelspec": {
   "display_name": "Python 2",
   "language": "python",
   "name": "python2"
  },
  "language_info": {
   "codemirror_mode": {
    "name": "ipython",
    "version": 2
   },
   "file_extension": ".py",
   "mimetype": "text/x-python",
   "name": "python",
   "nbconvert_exporter": "python",
   "pygments_lexer": "ipython2",
   "version": "2.7.10"
  }
 },
 "nbformat": 4,
 "nbformat_minor": 0
}
