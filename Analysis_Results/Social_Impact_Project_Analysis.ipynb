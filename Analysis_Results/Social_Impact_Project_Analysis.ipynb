{
 "cells": [
  {
   "cell_type": "markdown",
   "metadata": {},
   "source": [
    "This code covers the analysis steps involved using the school level aggregated data of neighborhood factors. \n",
    "\n",
    "#### Inputs\n",
    "The inputs in this process would be the aggregated data files collated through the data processing phase. All the individual neighborhood factors are merged into one master file which is used for implementation of the analysis. Different tasks run in the analysis phase involve clustering, regression analysis and rank-ordering of schools.\n",
    "\n",
    "#### Outputs\n",
    "Outpus from this process would include the following: <br>\n",
    "1. Clustering output involving grouping of all schools into 3 grouprs based on census data <br>\n",
    "2. Model output from Logistic Regression analysis implemented on all of the clusters <br>\n",
    "3. Probabilities from Logistic Regression model across schools are arranged in decreasing order to generate city level traffic collision risk for all the schools <br>\n",
    "4. Borough level ranking is also developed and allocated funds are distrubuted based on school enrollment attribute across the identified high traffic collisions risk top 37 schools in NYC"
   ]
  },
  {
   "cell_type": "code",
   "execution_count": 1,
   "metadata": {
    "collapsed": false
   },
   "outputs": [
    {
     "name": "stdout",
     "output_type": "stream",
     "text": [
      "Populating the interactive namespace from numpy and matplotlib\n"
     ]
    }
   ],
   "source": [
    "# Loading Required libraries\n",
    "%pylab inline\n",
    "import numpy as np\n",
    "import pandas as pd\n",
    "import statsmodels.api as sm\n",
    "import statsmodels.formula.api as smf\n",
    "import matplotlib.pyplot as plt\n",
    "from patsy import dmatrices\n",
    "from sklearn.linear_model import LogisticRegression\n",
    "from sklearn.cross_validation import train_test_split\n",
    "from sklearn import metrics\n",
    "from sklearn.cross_validation import cross_val_score\n",
    "import seaborn as sns\n",
    "sns.set(style=\"white\", color_codes=True)\n",
    "\n",
    "import warnings # current version of seaborn generates a bunch of warnings that we'll ignore\n",
    "warnings.filterwarnings(\"ignore\")"
   ]
  },
  {
   "cell_type": "markdown",
   "metadata": {},
   "source": [
    "### NYC Schools"
   ]
  },
  {
   "cell_type": "code",
   "execution_count": 2,
   "metadata": {
    "collapsed": false
   },
   "outputs": [
    {
     "data": {
      "text/plain": [
       "Index([u'NCESID', u'NAME', u'ADDRESS', u'CITY', u'STATE', u'ZIP', u'TELEPHONE',\n",
       "       u'TYPE', u'STATUS', u'POPULATION', u'COUNTY', u'COUNTYFIPS', u'COUNTRY',\n",
       "       u'LATITUDE', u'LONGITUDE', u'ENROLLMENT', u'START_GRAD', u'END_GRADE',\n",
       "       u'FULL_TIME_', u'PUB_PRI_IND'],\n",
       "      dtype='object')"
      ]
     },
     "execution_count": 2,
     "metadata": {},
     "output_type": "execute_result"
    }
   ],
   "source": [
    "# Loading public schools data\n",
    "public = pd.read_csv(\"NYC_Schools_Data/Public_Schools.csv\")\n",
    "public['NCESID'] = public['NCESID'].apply(str)\n",
    "public['PUB_PRI_IND'] = 'Public'\n",
    "public.columns"
   ]
  },
  {
   "cell_type": "code",
   "execution_count": 3,
   "metadata": {
    "collapsed": false
   },
   "outputs": [
    {
     "data": {
      "text/plain": [
       "Index([u'NCESID', u'NAME', u'ADDRESS', u'CITY', u'STATE', u'ZIP', u'TELEPHONE',\n",
       "       u'TYPE', u'STATUS', u'POPULATION', u'COUNTY', u'COUNTYFIPS', u'COUNTRY',\n",
       "       u'LATITUDE', u'LONGITUDE', u'ENROLLMENT', u'START_GRAD', u'END_GRADE',\n",
       "       u'FULL_TIME_', u'PUB_PRI_IND'],\n",
       "      dtype='object')"
      ]
     },
     "execution_count": 3,
     "metadata": {},
     "output_type": "execute_result"
    }
   ],
   "source": [
    "# Laoding private schools data\n",
    "private = pd.read_csv(\"NYC_Schools_Data/Private_Schools.csv\")\n",
    "private['PUB_PRI_IND'] = 'Private'\n",
    "private['COUNTY'] = private['COUNTY'] + \" COUNTY\" \n",
    "private.columns"
   ]
  },
  {
   "cell_type": "code",
   "execution_count": 4,
   "metadata": {
    "collapsed": false
   },
   "outputs": [
    {
     "name": "stdout",
     "output_type": "stream",
     "text": [
      "(2505, 20)\n",
      "Index([u'NCESID', u'NAME', u'ADDRESS', u'CITY', u'STATE', u'ZIP', u'TELEPHONE',\n",
      "       u'TYPE', u'STATUS', u'POPULATION', u'COUNTY', u'COUNTYFIPS', u'COUNTRY',\n",
      "       u'LATITUDE', u'LONGITUDE', u'ENROLLMENT', u'START_GRAD', u'END_GRADE',\n",
      "       u'FULL_TIME_', u'PUB_PRI_IND'],\n",
      "      dtype='object')\n",
      "['NEW YORK COUNTY' 'KINGS COUNTY' 'BRONX COUNTY' 'QUEENS COUNTY'\n",
      " 'RICHMOND COUNTY']\n"
     ]
    }
   ],
   "source": [
    "# Appending both public and private schools data\n",
    "nycSchools = pd.concat([public, private], axis=0)\n",
    "print nycSchools.shape\n",
    "print nycSchools.columns\n",
    "print nycSchools.COUNTY.unique()"
   ]
  },
  {
   "cell_type": "code",
   "execution_count": 5,
   "metadata": {
    "collapsed": false
   },
   "outputs": [],
   "source": [
    "# County to Borough Mapping since source data contains only county information\n",
    "county2bor = {'NEW YORK COUNTY' : 'Manhattan',\n",
    "              'KINGS COUNTY' : 'Brooklyn',\n",
    "              'BRONX COUNTY' : 'Bronx',\n",
    "              'QUEENS COUNTY' : 'Queens',\n",
    "              'RICHMOND COUNTY' : 'Staten Island'}\n",
    "\n",
    "BOROUGH = []\n",
    "\n",
    "for i in nycSchools['COUNTY']:\n",
    "    for j in county2bor:\n",
    "        if i == j:\n",
    "            BOROUGH.append(county2bor[j])"
   ]
  },
  {
   "cell_type": "code",
   "execution_count": 6,
   "metadata": {
    "collapsed": false
   },
   "outputs": [
    {
     "name": "stdout",
     "output_type": "stream",
     "text": [
      "(2505, 21)\n",
      "Index([u'NCESID', u'NAME', u'ADDRESS', u'CITY', u'STATE', u'ZIP', u'TELEPHONE',\n",
      "       u'TYPE', u'STATUS', u'POPULATION', u'COUNTY', u'COUNTYFIPS', u'COUNTRY',\n",
      "       u'LATITUDE', u'LONGITUDE', u'ENROLLMENT', u'START_GRAD', u'END_GRADE',\n",
      "       u'FULL_TIME_', u'PUB_PRI_IND', u'BOROUGH'],\n",
      "      dtype='object')\n",
      "['Manhattan' 'Brooklyn' 'Bronx' 'Queens' 'Staten Island']\n"
     ]
    }
   ],
   "source": [
    "# Appending to the earlier data \n",
    "nycSchools['BOROUGH'] = BOROUGH\n",
    "print nycSchools.shape\n",
    "print nycSchools.columns\n",
    "print nycSchools.BOROUGH.unique()"
   ]
  },
  {
   "cell_type": "code",
   "execution_count": 7,
   "metadata": {
    "collapsed": false
   },
   "outputs": [
    {
     "name": "stdout",
     "output_type": "stream",
     "text": [
      "['10' '09' '06' 'KG' '07' 'PK' '03' '05' '02' '08' '04' 'N' '01' '11' 'UG'\n",
      " 'T1' 'TK']\n",
      "['12' '08' '05' '03' '07' '10' '01' '09' '06' '11' '02' '04' 'N' 'KG' 'PK'\n",
      " 'UG' 'TK' 'T1']\n",
      "['08' '05' '03' '07' '01' '06' '02' '04' 'KG' 'PK' 'TK' 'T1']\n"
     ]
    }
   ],
   "source": [
    "# Subset only for elementary and middle schools as target segment\n",
    "print nycSchools.START_GRAD.unique()\n",
    "print nycSchools.END_GRADE.unique()\n",
    "\n",
    "elemidlist = ['08', '05', '03', '07', '01', '06', '02', '04', 'KG', 'PK', 'TK', 'T1']\n",
    "\n",
    "nycSchools = nycSchools.loc[(nycSchools.END_GRADE.isin(elemidlist)),]\n",
    "print nycSchools.END_GRADE.unique()"
   ]
  },
  {
   "cell_type": "code",
   "execution_count": 8,
   "metadata": {
    "collapsed": false,
    "scrolled": true
   },
   "outputs": [
    {
     "name": "stdout",
     "output_type": "stream",
     "text": [
      "<class 'pandas.core.frame.DataFrame'>\n",
      "Int64Index: 1658 entries, 2 to 789\n",
      "Data columns (total 21 columns):\n",
      "NCESID         1658 non-null object\n",
      "NAME           1658 non-null object\n",
      "ADDRESS        1658 non-null object\n",
      "CITY           1658 non-null object\n",
      "STATE          1658 non-null object\n",
      "ZIP            1658 non-null int64\n",
      "TELEPHONE      1658 non-null object\n",
      "TYPE           1658 non-null int64\n",
      "STATUS         1658 non-null int64\n",
      "POPULATION     1658 non-null int64\n",
      "COUNTY         1658 non-null object\n",
      "COUNTYFIPS     1658 non-null int64\n",
      "COUNTRY        1658 non-null object\n",
      "LATITUDE       1658 non-null float64\n",
      "LONGITUDE      1658 non-null float64\n",
      "ENROLLMENT     1658 non-null int64\n",
      "START_GRAD     1658 non-null object\n",
      "END_GRADE      1658 non-null object\n",
      "FULL_TIME_     1658 non-null int64\n",
      "PUB_PRI_IND    1658 non-null object\n",
      "BOROUGH        1658 non-null object\n",
      "dtypes: float64(2), int64(7), object(12)\n",
      "memory usage: 285.0+ KB\n"
     ]
    }
   ],
   "source": [
    "# Looking at variable data types\n",
    "nycSchools.info()"
   ]
  },
  {
   "cell_type": "code",
   "execution_count": 9,
   "metadata": {
    "collapsed": false
   },
   "outputs": [],
   "source": [
    "# Export for plotting in ArcGIS and CartoDB to generate plots for final report\n",
    "# print nycSchools.shape\n",
    "# nycSchools.to_csv(\"nycSchools.csv\")"
   ]
  },
  {
   "cell_type": "markdown",
   "metadata": {},
   "source": [
    ">__\"Final number of schools left for performing the analysis is 1658 which are distributed across boroughs.\"__"
   ]
  },
  {
   "cell_type": "code",
   "execution_count": 10,
   "metadata": {
    "collapsed": false
   },
   "outputs": [
    {
     "name": "stdout",
     "output_type": "stream",
     "text": [
      "PUB_PRI_IND\n",
      "Private     516\n",
      "Public     1142\n",
      "dtype: int64\n"
     ]
    }
   ],
   "source": [
    "# Computing number of private and public schools for analysis\n",
    "print nycSchools.groupby(['PUB_PRI_IND']).size()"
   ]
  },
  {
   "cell_type": "markdown",
   "metadata": {},
   "source": [
    ">__\"Out of 1658 schools, public are 1142 and private are 516.\"__"
   ]
  },
  {
   "cell_type": "code",
   "execution_count": 11,
   "metadata": {
    "collapsed": false
   },
   "outputs": [
    {
     "name": "stdout",
     "output_type": "stream",
     "text": [
      "BOROUGH\n",
      "Bronx            323\n",
      "Brooklyn         557\n",
      "Manhattan        301\n",
      "Queens           393\n",
      "Staten Island     84\n",
      "dtype: int64\n"
     ]
    },
    {
     "data": {
      "text/plain": [
       "<matplotlib.text.Text at 0x1fb39ba8>"
      ]
     },
     "execution_count": 11,
     "metadata": {},
     "output_type": "execute_result"
    },
    {
     "data": {
      "image/png": "[encoded data removed]",
      "text/plain": [
       "<matplotlib.figure.Figure at 0x1f955710>"
      ]
     },
     "metadata": {},
     "output_type": "display_data"
    }
   ],
   "source": [
    "# Looking at distribution of schools across boroughs\n",
    "print nycSchools.groupby(['BOROUGH']).size()\n",
    "plt.figure(figsize=(10,8))\n",
    "freqPlot = nycSchools.groupby(['BOROUGH']).size().plot(kind='bar')\n",
    "freqPlot.set_title(\"Distribution of Elementary and Middle grade NYC Schools\", fontsize=18)\n",
    "freqPlot.set_xlabel(\"Borough\", fontsize=16)\n",
    "freqPlot.set_ylabel(\"# Schools\", fontsize=16)"
   ]
  },
  {
   "cell_type": "markdown",
   "metadata": {},
   "source": [
    ">__\"Out of 1658 schools, Brooklyn seems to have highest share while Staten Island has the lowest share. This distribution of schools across boroughs would be used to ensure that finally selected top 37 risky schools have equitable representation across all the boroughs.\"__"
   ]
  },
  {
   "cell_type": "code",
   "execution_count": 12,
   "metadata": {
    "collapsed": false
   },
   "outputs": [
    {
     "data": {
      "text/plain": [
       "<matplotlib.text.Text at 0x1fa79a20>"
      ]
     },
     "execution_count": 12,
     "metadata": {},
     "output_type": "execute_result"
    },
    {
     "data": {
      "image/png": "[encoded data removed]",
      "text/plain": [
       "<matplotlib.figure.Figure at 0x1f863a90>"
      ]
     },
     "metadata": {},
     "output_type": "display_data"
    }
   ],
   "source": [
    "# Looking at distribution of schools across boroughs\n",
    "plt.figure(figsize=(10,8))\n",
    "freqPlot = nycSchools.groupby(['PUB_PRI_IND','BOROUGH']).size().plot(kind='bar')\n",
    "freqPlot.set_title(\"Distribution of Elementary and Middle grade NYC Schools\", fontsize=18)\n",
    "freqPlot.set_xlabel(\"School Type, Borough\", fontsize=16)\n",
    "freqPlot.set_ylabel(\"# Schools\", fontsize=16)"
   ]
  },
  {
   "cell_type": "markdown",
   "metadata": {},
   "source": [
    ">__\"Among private and private schools, similar trends are noticed like overall level except for one notable difference. Manhattan seems to have higher share than Bronx in terms of private schools while Bronx has higher than Manhattan in terms of public schools.\"__"
   ]
  },
  {
   "cell_type": "markdown",
   "metadata": {},
   "source": [
    "### Traffic Collisions Mapping"
   ]
  },
  {
   "cell_type": "code",
   "execution_count": 13,
   "metadata": {
    "collapsed": false
   },
   "outputs": [
    {
     "data": {
      "text/plain": [
       "Index([u'NCESID', u'TOTAL_ACCIDENTS', u'TOTAL_INJURIES', u'ON_STR_TOP50',\n",
       "       u'CROSS_STR_TOP50'],\n",
       "      dtype='object')"
      ]
     },
     "execution_count": 13,
     "metadata": {},
     "output_type": "execute_result"
    }
   ],
   "source": [
    "# Uploading the traffic data extracted from ARCGIS\n",
    "trafficCollisions = pd.read_csv(\"Traffic_Collisions_Data/School_Traffic_Mapping.csv\")\n",
    "trafficCollisions.columns"
   ]
  },
  {
   "cell_type": "code",
   "execution_count": 14,
   "metadata": {
    "collapsed": false
   },
   "outputs": [
    {
     "name": "stdout",
     "output_type": "stream",
     "text": [
      "<class 'pandas.core.frame.DataFrame'>\n",
      "Int64Index: 2505 entries, 0 to 2504\n",
      "Data columns (total 5 columns):\n",
      "NCESID             2505 non-null object\n",
      "TOTAL_ACCIDENTS    2505 non-null int64\n",
      "TOTAL_INJURIES     2505 non-null int64\n",
      "ON_STR_TOP50       2505 non-null int64\n",
      "CROSS_STR_TOP50    2505 non-null int64\n",
      "dtypes: int64(4), object(1)\n",
      "memory usage: 117.4+ KB\n"
     ]
    }
   ],
   "source": [
    "trafficCollisions.info()"
   ]
  },
  {
   "cell_type": "code",
   "execution_count": 15,
   "metadata": {
    "collapsed": false
   },
   "outputs": [
    {
     "name": "stdout",
     "output_type": "stream",
     "text": [
      "(2505, 5)\n",
      "18142\n",
      "4470\n",
      "3296\n",
      "3776\n"
     ]
    }
   ],
   "source": [
    "# Performing data quality checks\n",
    "print trafficCollisions.shape\n",
    "print trafficCollisions['TOTAL_ACCIDENTS'].sum()\n",
    "print trafficCollisions['TOTAL_INJURIES'].sum()\n",
    "print trafficCollisions['ON_STR_TOP50'].sum()\n",
    "print trafficCollisions['CROSS_STR_TOP50'].sum()"
   ]
  },
  {
   "cell_type": "code",
   "execution_count": 16,
   "metadata": {
    "collapsed": false
   },
   "outputs": [
    {
     "name": "stdout",
     "output_type": "stream",
     "text": [
      "(1658, 25)\n",
      "Index([u'NCESID', u'NAME', u'ADDRESS', u'CITY', u'STATE', u'ZIP', u'TELEPHONE',\n",
      "       u'TYPE', u'STATUS', u'POPULATION', u'COUNTY', u'COUNTYFIPS', u'COUNTRY',\n",
      "       u'LATITUDE', u'LONGITUDE', u'ENROLLMENT', u'START_GRAD', u'END_GRADE',\n",
      "       u'FULL_TIME_', u'PUB_PRI_IND', u'BOROUGH', u'TOTAL_ACCIDENTS',\n",
      "       u'TOTAL_INJURIES', u'ON_STR_TOP50', u'CROSS_STR_TOP50'],\n",
      "      dtype='object')\n"
     ]
    }
   ],
   "source": [
    "# Merging traffic collisions with schools data\n",
    "nycSchools1 = pd.merge(left=nycSchools, right=trafficCollisions, how='left', on='NCESID')\n",
    "print nycSchools1.shape\n",
    "print nycSchools1.columns"
   ]
  },
  {
   "cell_type": "code",
   "execution_count": 17,
   "metadata": {
    "collapsed": false
   },
   "outputs": [
    {
     "data": {
      "text/plain": [
       "<matplotlib.text.Text at 0x1fa85ba8>"
      ]
     },
     "execution_count": 17,
     "metadata": {},
     "output_type": "execute_result"
    },
    {
     "data": {
      "image/png": "[encoded data removed]",
      "text/plain": [
       "<matplotlib.figure.Figure at 0x2014ce48>"
      ]
     },
     "metadata": {},
     "output_type": "display_data"
    }
   ],
   "source": [
    "# Plotting the overall traffic distributions\n",
    "plt.figure(figsize=(10,8))\n",
    "plt.hist(nycSchools1['TOTAL_ACCIDENTS'])\n",
    "plt.title(\"Distribution of Overall Traffic Collisions\", fontsize=18)\n",
    "plt.xlabel(\"# Collisions\", fontsize=16)\n",
    "plt.ylabel(\"# Schools\", fontsize=16)"
   ]
  },
  {
   "cell_type": "markdown",
   "metadata": {},
   "source": [
    ">__\"Almost 60% of the schools have a low accident rate i.e. less than 10 collisions across the years 2013, 2014 and 2015 within 300 feet of each school location. Accidents are defined as the total number of collisions that occur and not just confined to those that result in injuries or fatalities.\"__"
   ]
  },
  {
   "cell_type": "code",
   "execution_count": 18,
   "metadata": {
    "collapsed": false
   },
   "outputs": [
    {
     "data": {
      "text/plain": [
       "<matplotlib.text.Text at 0x2013fd68>"
      ]
     },
     "execution_count": 18,
     "metadata": {},
     "output_type": "execute_result"
    },
    {
     "data": {
      "image/png": "[encoded data removed]",
      "text/plain": [
       "<matplotlib.figure.Figure at 0x2035c438>"
      ]
     },
     "metadata": {},
     "output_type": "display_data"
    }
   ],
   "source": [
    "# Plotting the overall injury distributions\n",
    "plt.figure(figsize=(10,8))\n",
    "plt.hist(nycSchools1['TOTAL_INJURIES'])\n",
    "plt.title(\"Distribution of Overall Incidents (Fatalities + Injuries)\", fontsize=18)\n",
    "plt.xlabel(\"# Incidents\", fontsize=16)\n",
    "plt.ylabel(\"# Schools\", fontsize=16)"
   ]
  },
  {
   "cell_type": "markdown",
   "metadata": {},
   "source": [
    ">__\"Similar to accidents, almost 80% of the schools have a low incident rate i.e. less than 5 incidents across the years 2013, 2014 and 2015 within 300 feet of each school location. Incidents are defined as the total number of injuries and fatalities that happen in collisions.\"__"
   ]
  },
  {
   "cell_type": "code",
   "execution_count": 19,
   "metadata": {
    "collapsed": false
   },
   "outputs": [
    {
     "data": {
      "text/plain": [
       "<matplotlib.text.Text at 0x20527ef0>"
      ]
     },
     "execution_count": 19,
     "metadata": {},
     "output_type": "execute_result"
    },
    {
     "data": {
      "image/png": "[encoded data removed]",
      "text/plain": [
       "<matplotlib.figure.Figure at 0x205ca0b8>"
      ]
     },
     "metadata": {},
     "output_type": "display_data"
    }
   ],
   "source": [
    "# Plotting the distributions across top 50 on streets\n",
    "plt.figure(figsize=(10,8))\n",
    "plt.hist(nycSchools1['ON_STR_TOP50'])\n",
    "plt.title(\"Distribution of On Street Collisions\", fontsize=18)\n",
    "plt.xlabel(\"# On Street Collisions\", fontsize=16)\n",
    "plt.ylabel(\"# Schools\", fontsize=16)"
   ]
  },
  {
   "cell_type": "code",
   "execution_count": 20,
   "metadata": {
    "collapsed": false
   },
   "outputs": [],
   "source": [
    "# Export for plotting in ArcGIS and CartoDB to generate plots for final report\n",
    "# print nycSchools1.shape\n",
    "# nycSchools1.to_csv(\"nycSchools_collisions.csv\")"
   ]
  },
  {
   "cell_type": "markdown",
   "metadata": {},
   "source": [
    "### Precinct Mapping"
   ]
  },
  {
   "cell_type": "code",
   "execution_count": 21,
   "metadata": {
    "collapsed": false
   },
   "outputs": [
    {
     "name": "stdout",
     "output_type": "stream",
     "text": [
      "Index([u'NCESID', u'precinct'], dtype='object')\n",
      "(2503, 2)\n",
      "76\n"
     ]
    }
   ],
   "source": [
    "# Loading the data\n",
    "precincts = pd.read_csv(\"NYPD_Summons_Data/School_Precinct_Mapping.csv\")\n",
    "\n",
    "# Subset only school id and precinct\n",
    "precincts = precincts[['NCESID', 'precinct']]\n",
    "print precincts.columns\n",
    "print precincts.shape\n",
    "print len(precincts['precinct'].unique())"
   ]
  },
  {
   "cell_type": "code",
   "execution_count": 22,
   "metadata": {
    "collapsed": false
   },
   "outputs": [
    {
     "data": {
      "text/plain": [
       "<matplotlib.text.Text at 0x20a1f0b8>"
      ]
     },
     "execution_count": 22,
     "metadata": {},
     "output_type": "execute_result"
    },
    {
     "data": {
      "image/png": "[encoded data removed]",
      "text/plain": [
       "<matplotlib.figure.Figure at 0x20a1fb00>"
      ]
     },
     "metadata": {},
     "output_type": "display_data"
    }
   ],
   "source": [
    "# Number of Schools by Precinct\n",
    "plt.figure(figsize=(20,10))\n",
    "freqPlot = precincts.groupby('precinct').size().plot(kind='bar')\n",
    "freqPlot.set_xlabel(\"Precinct Id\", fontsize=16)\n",
    "freqPlot.set_ylabel(\"# Schools\", fontsize=16)"
   ]
  },
  {
   "cell_type": "markdown",
   "metadata": {},
   "source": [
    "#### Precinct moving summons mapping to Schools"
   ]
  },
  {
   "cell_type": "code",
   "execution_count": 23,
   "metadata": {
    "collapsed": false
   },
   "outputs": [
    {
     "name": "stdout",
     "output_type": "stream",
     "text": [
      "Index([u'precinct', u'Cell Phone', u'Disobey Steady Red Signal',\n",
      "       u'Disobey Traffic Control Device', u'Improper Turn', u'Safety Belt',\n",
      "       u'Tinted Windows'],\n",
      "      dtype='object')\n",
      "(77, 7)\n"
     ]
    }
   ],
   "source": [
    "# Loading the data\n",
    "summons = pd.read_csv(\"NYPD_Summons_Data/precinct_summons.csv\")\n",
    "summons.rename(columns={'index':'precinct'}, inplace=True)\n",
    "summons = summons[summons.columns[1:]]\n",
    "\n",
    "print summons.columns\n",
    "print summons.shape"
   ]
  },
  {
   "cell_type": "code",
   "execution_count": 24,
   "metadata": {
    "collapsed": false
   },
   "outputs": [
    {
     "data": {
      "text/html": [
       "<div>\n",
       "<table border=\"1\" class=\"dataframe\">\n",
       "  <thead>\n",
       "    <tr style=\"text-align: right;\">\n",
       "      <th></th>\n",
       "      <th>precinct</th>\n",
       "      <th>Cell Phone</th>\n",
       "      <th>Disobey Steady Red Signal</th>\n",
       "      <th>Disobey Traffic Control Device</th>\n",
       "      <th>Improper Turn</th>\n",
       "      <th>Safety Belt</th>\n",
       "      <th>Tinted Windows</th>\n",
       "    </tr>\n",
       "  </thead>\n",
       "  <tbody>\n",
       "    <tr>\n",
       "      <th>0</th>\n",
       "      <td>1</td>\n",
       "      <td>0.003140</td>\n",
       "      <td>0.001565</td>\n",
       "      <td>0.002358</td>\n",
       "      <td>0.001017</td>\n",
       "      <td>0.001736</td>\n",
       "      <td>0.000674</td>\n",
       "    </tr>\n",
       "    <tr>\n",
       "      <th>1</th>\n",
       "      <td>5</td>\n",
       "      <td>0.000682</td>\n",
       "      <td>0.001371</td>\n",
       "      <td>0.002087</td>\n",
       "      <td>0.002291</td>\n",
       "      <td>0.000683</td>\n",
       "      <td>0.000219</td>\n",
       "    </tr>\n",
       "    <tr>\n",
       "      <th>2</th>\n",
       "      <td>6</td>\n",
       "      <td>0.001857</td>\n",
       "      <td>0.001720</td>\n",
       "      <td>0.001454</td>\n",
       "      <td>0.001317</td>\n",
       "      <td>0.001470</td>\n",
       "      <td>0.000217</td>\n",
       "    </tr>\n",
       "    <tr>\n",
       "      <th>3</th>\n",
       "      <td>7</td>\n",
       "      <td>0.001636</td>\n",
       "      <td>0.001361</td>\n",
       "      <td>0.001969</td>\n",
       "      <td>0.001272</td>\n",
       "      <td>0.001013</td>\n",
       "      <td>0.000371</td>\n",
       "    </tr>\n",
       "    <tr>\n",
       "      <th>4</th>\n",
       "      <td>9</td>\n",
       "      <td>0.002323</td>\n",
       "      <td>0.001447</td>\n",
       "      <td>0.001690</td>\n",
       "      <td>0.001115</td>\n",
       "      <td>0.001336</td>\n",
       "      <td>0.000159</td>\n",
       "    </tr>\n",
       "  </tbody>\n",
       "</table>\n",
       "</div>"
      ],
      "text/plain": [
       "   precinct  Cell Phone  Disobey Steady Red Signal  \\\n",
       "0         1    0.003140                   0.001565   \n",
       "1         5    0.000682                   0.001371   \n",
       "2         6    0.001857                   0.001720   \n",
       "3         7    0.001636                   0.001361   \n",
       "4         9    0.002323                   0.001447   \n",
       "\n",
       "   Disobey Traffic Control Device  Improper Turn  Safety Belt  Tinted Windows  \n",
       "0                        0.002358       0.001017     0.001736        0.000674  \n",
       "1                        0.002087       0.002291     0.000683        0.000219  \n",
       "2                        0.001454       0.001317     0.001470        0.000217  \n",
       "3                        0.001969       0.001272     0.001013        0.000371  \n",
       "4                        0.001690       0.001115     0.001336        0.000159  "
      ]
     },
     "execution_count": 24,
     "metadata": {},
     "output_type": "execute_result"
    }
   ],
   "source": [
    "# Normalize the data points using total moving summons given for years 2013, 2014 and 2015 i.e. 2301951.0\n",
    "# This value is computed in the python code named Precinct Summons Mapping\n",
    "summons[summons.columns[1:]] = summons[summons.columns[1:]]/2301951.0\n",
    "summons.head()"
   ]
  },
  {
   "cell_type": "code",
   "execution_count": 25,
   "metadata": {
    "collapsed": false
   },
   "outputs": [
    {
     "name": "stdout",
     "output_type": "stream",
     "text": [
      "(1658, 26)\n",
      "Index([u'NCESID', u'NAME', u'ADDRESS', u'CITY', u'STATE', u'ZIP', u'TELEPHONE',\n",
      "       u'TYPE', u'STATUS', u'POPULATION', u'COUNTY', u'COUNTYFIPS', u'COUNTRY',\n",
      "       u'LATITUDE', u'LONGITUDE', u'ENROLLMENT', u'START_GRAD', u'END_GRADE',\n",
      "       u'FULL_TIME_', u'PUB_PRI_IND', u'BOROUGH', u'TOTAL_ACCIDENTS',\n",
      "       u'TOTAL_INJURIES', u'ON_STR_TOP50', u'CROSS_STR_TOP50', u'precinct'],\n",
      "      dtype='object')\n",
      "1\n",
      "(1657, 26)\n",
      "Index([u'NCESID', u'NAME', u'ADDRESS', u'CITY', u'STATE', u'ZIP', u'TELEPHONE',\n",
      "       u'TYPE', u'STATUS', u'POPULATION', u'COUNTY', u'COUNTYFIPS', u'COUNTRY',\n",
      "       u'LATITUDE', u'LONGITUDE', u'ENROLLMENT', u'START_GRAD', u'END_GRADE',\n",
      "       u'FULL_TIME_', u'PUB_PRI_IND', u'BOROUGH', u'TOTAL_ACCIDENTS',\n",
      "       u'TOTAL_INJURIES', u'ON_STR_TOP50', u'CROSS_STR_TOP50', u'precinct'],\n",
      "      dtype='object')\n"
     ]
    }
   ],
   "source": [
    "# Merging moving summons data with schools\n",
    "nycSchools2 = pd.merge(left=nycSchools1, right=precincts, how='left', on='NCESID')\n",
    "print nycSchools2.shape\n",
    "print nycSchools2.columns\n",
    "\n",
    "# Checking for any missing values after merge\n",
    "print nycSchools2['precinct'].isnull().sum()\n",
    "\n",
    "# Dropping the school with no precinct mapping\n",
    "nycSchools2 = nycSchools2.dropna()\n",
    "print nycSchools2.shape\n",
    "print nycSchools2.columns"
   ]
  },
  {
   "cell_type": "code",
   "execution_count": 26,
   "metadata": {
    "collapsed": false
   },
   "outputs": [
    {
     "name": "stdout",
     "output_type": "stream",
     "text": [
      "(1657, 32)\n",
      "Index([u'NCESID', u'NAME', u'ADDRESS', u'CITY', u'STATE', u'ZIP', u'TELEPHONE',\n",
      "       u'TYPE', u'STATUS', u'POPULATION', u'COUNTY', u'COUNTYFIPS', u'COUNTRY',\n",
      "       u'LATITUDE', u'LONGITUDE', u'ENROLLMENT', u'START_GRAD', u'END_GRADE',\n",
      "       u'FULL_TIME_', u'PUB_PRI_IND', u'BOROUGH', u'TOTAL_ACCIDENTS',\n",
      "       u'TOTAL_INJURIES', u'ON_STR_TOP50', u'CROSS_STR_TOP50', u'precinct',\n",
      "       u'Cell Phone', u'Disobey Steady Red Signal',\n",
      "       u'Disobey Traffic Control Device', u'Improper Turn', u'Safety Belt',\n",
      "       u'Tinted Windows'],\n",
      "      dtype='object')\n",
      "0\n"
     ]
    }
   ],
   "source": [
    "# Merging moving summons data with schools\n",
    "nycSchools3 = pd.merge(left=nycSchools2, right=summons, how='left', on='precinct')\n",
    "print nycSchools3.shape\n",
    "print nycSchools3.columns\n",
    "\n",
    "# Checking for any missing values after merge\n",
    "print nycSchools3['Safety Belt'].isnull().sum()"
   ]
  },
  {
   "cell_type": "code",
   "execution_count": 27,
   "metadata": {
    "collapsed": false
   },
   "outputs": [
    {
     "data": {
      "text/plain": [
       "<matplotlib.text.Text at 0x20c90160>"
      ]
     },
     "execution_count": 27,
     "metadata": {},
     "output_type": "execute_result"
    },
    {
     "data": {
      "image/png": "[encoded data removed]",
      "text/plain": [
       "<matplotlib.figure.Figure at 0x2105d9e8>"
      ]
     },
     "metadata": {},
     "output_type": "display_data"
    }
   ],
   "source": [
    "# Plotting histograms for all the summons related variables\n",
    "plt.figure(figsize=(10,8))\n",
    "\n",
    "for i in nycSchools3.columns[26:]:\n",
    "    plt.hist(nycSchools3[i], alpha=0.5, label=i)\n",
    "\n",
    "plt.legend(loc='upper right')\n",
    "plt.title(\"Distribution of moving summons across reasons\", fontsize=18)\n",
    "plt.xlabel(\"Normalized Summon Value\", fontsize=16)\n",
    "plt.ylabel(\"Frequency\", fontsize=16)"
   ]
  },
  {
   "cell_type": "markdown",
   "metadata": {},
   "source": [
    ">__\"From the above histogram plot, moving summons related to categories like disobeying traffic control device, disobeying red signal, improper turn and safety belt seems to have a higher representation in the precincts related to school locations.\"__"
   ]
  },
  {
   "cell_type": "code",
   "execution_count": 28,
   "metadata": {
    "collapsed": false
   },
   "outputs": [],
   "source": [
    "# Export for plotting in ArcGIS and CartoDB to generate plots for final report\n",
    "# print nycSchools3.shape\n",
    "# nycSchools3.to_csv(\"nycSchools_nypdsummons.csv\")"
   ]
  },
  {
   "cell_type": "markdown",
   "metadata": {},
   "source": [
    "### 311 Calls Mapping"
   ]
  },
  {
   "cell_type": "code",
   "execution_count": 29,
   "metadata": {
    "collapsed": false
   },
   "outputs": [
    {
     "data": {
      "text/plain": [
       "Index([u'NCESID', u'Count_311_Calls'], dtype='object')"
      ]
     },
     "execution_count": 29,
     "metadata": {},
     "output_type": "execute_result"
    }
   ],
   "source": [
    "data311 = pd.read_csv(\"311_Data/School_311_Mapping.csv\")\n",
    "data311.columns"
   ]
  },
  {
   "cell_type": "code",
   "execution_count": 31,
   "metadata": {
    "collapsed": false
   },
   "outputs": [
    {
     "name": "stdout",
     "output_type": "stream",
     "text": [
      "(1657, 33)\n",
      "Index([u'NCESID', u'NAME', u'ADDRESS', u'CITY', u'STATE', u'ZIP', u'TELEPHONE',\n",
      "       u'TYPE', u'STATUS', u'POPULATION', u'COUNTY', u'COUNTYFIPS', u'COUNTRY',\n",
      "       u'LATITUDE', u'LONGITUDE', u'ENROLLMENT', u'START_GRAD', u'END_GRADE',\n",
      "       u'FULL_TIME_', u'PUB_PRI_IND', u'BOROUGH', u'TOTAL_ACCIDENTS',\n",
      "       u'TOTAL_INJURIES', u'ON_STR_TOP50', u'CROSS_STR_TOP50', u'precinct',\n",
      "       u'Cell Phone', u'Disobey Steady Red Signal',\n",
      "       u'Disobey Traffic Control Device', u'Improper Turn', u'Safety Belt',\n",
      "       u'Tinted Windows', u'Count_311_Calls'],\n",
      "      dtype='object')\n",
      "194\n"
     ]
    }
   ],
   "source": [
    "# Merging moving summons data with schools\n",
    "nycSchools4 = pd.merge(left=nycSchools3, right=data311, how='left', on='NCESID')\n",
    "print nycSchools4.shape\n",
    "print nycSchools4.columns\n",
    "\n",
    "# Checking for any missing values after merge\n",
    "print nycSchools4['Count_311_Calls'].isnull().sum()"
   ]
  },
  {
   "cell_type": "code",
   "execution_count": 32,
   "metadata": {
    "collapsed": false
   },
   "outputs": [
    {
     "name": "stdout",
     "output_type": "stream",
     "text": [
      "0\n"
     ]
    }
   ],
   "source": [
    "# Filling missing values with zero\n",
    "nycSchools4['Count_311_Calls'] = nycSchools4['Count_311_Calls'].fillna(0)\n",
    "\n",
    "# Checking for any missing values after merge\n",
    "print nycSchools4['Count_311_Calls'].isnull().sum()"
   ]
  },
  {
   "cell_type": "code",
   "execution_count": 33,
   "metadata": {
    "collapsed": false
   },
   "outputs": [],
   "source": [
    "# Normalize the data points using total 311 calls for years 2013, 2014 and 2015 i.e. 283575.0\n",
    "# This value is computed in the python code named Precinct 311 Street Quality Counts\n",
    "nycSchools4[nycSchools4.columns[32:]] = nycSchools4[nycSchools4.columns[32:]]/283575.0"
   ]
  },
  {
   "cell_type": "code",
   "execution_count": 34,
   "metadata": {
    "collapsed": false
   },
   "outputs": [
    {
     "data": {
      "text/plain": [
       "<matplotlib.text.Text at 0x21b532e8>"
      ]
     },
     "execution_count": 34,
     "metadata": {},
     "output_type": "execute_result"
    },
    {
     "data": {
      "image/png": "[encoded data removed]",
      "text/plain": [
       "<matplotlib.figure.Figure at 0x216ff9e8>"
      ]
     },
     "metadata": {},
     "output_type": "display_data"
    }
   ],
   "source": [
    "# Plotting histograms for the normalized 311 call related variable\n",
    "plt.figure(figsize=(10,8))\n",
    "plt.hist(nycSchools4['Count_311_Calls'], alpha=0.5)\n",
    "plt.title(\"Distribution of 311 Calls\", fontsize=18)\n",
    "plt.xlabel(\"Normalized 311 Counts\", fontsize=16)\n",
    "plt.ylabel(\"Frequency\", fontsize=16)"
   ]
  },
  {
   "cell_type": "markdown",
   "metadata": {},
   "source": [
    ">__\"In terms of street quality conditions within 300 feet of school locations, 311 calls aggregated across years 2013, 2014 and 2015 have a lower share of volumne in comparison to total 311 calls made in these years.\"__"
   ]
  },
  {
   "cell_type": "code",
   "execution_count": 35,
   "metadata": {
    "collapsed": false
   },
   "outputs": [],
   "source": [
    "# Export for plotting in ArcGIS and CartoDB to generate plots for final report\n",
    "# print nycSchools4.shape\n",
    "# nycSchools4.to_csv(\"nycSchools_311calls.csv\")"
   ]
  },
  {
   "cell_type": "markdown",
   "metadata": {},
   "source": [
    "### Census data Mapping"
   ]
  },
  {
   "cell_type": "code",
   "execution_count": 36,
   "metadata": {
    "collapsed": false
   },
   "outputs": [
    {
     "name": "stdout",
     "output_type": "stream",
     "text": [
      "(2503, 10)\n",
      "Index([u'NCESID', u'Census_Track', u'Geography',\n",
      "       u'Estimate__RACE___Total_population', u'White_Popn', u'Black_Popn',\n",
      "       u'Asian_Popn', u'Estimate__RACE___One_race___Some_other_race',\n",
      "       u'Hispanic_Lation_Popn',\n",
      "       u'Estimate__HISPANIC_OR_LATINO_AND_RACE___Total_population___Not_H'],\n",
      "      dtype='object')\n"
     ]
    }
   ],
   "source": [
    "# Loading census data\n",
    "census = pd.read_csv(\"Census_Data/School_Census_Mapping.csv\")\n",
    "census.rename(columns={'ID2':'Census_Track',\n",
    "                       'Estimate__RACE___One_race___White':'White_Popn',\n",
    "                       'Estimate__RACE___One_race___Black_or_African_American':'Black_Popn',\n",
    "                       'Estimate__RACE___One_race___Asian':'Asian_Popn',\n",
    "                       'Estimate__HISPANIC_OR_LATINO_AND_RACE___Total_population___Hispa':'Hispanic_Lation_Popn'}\n",
    "              , inplace=True)\n",
    "print census.shape\n",
    "print census.columns"
   ]
  },
  {
   "cell_type": "code",
   "execution_count": 37,
   "metadata": {
    "collapsed": false
   },
   "outputs": [
    {
     "data": {
      "text/plain": [
       "Index([u'NCESID', u'Census_Track', u'White_Popn', u'Black_Popn',\n",
       "       u'Asian_Popn'],\n",
       "      dtype='object')"
      ]
     },
     "execution_count": 37,
     "metadata": {},
     "output_type": "execute_result"
    }
   ],
   "source": [
    "# Subsetting the features\n",
    "census = census[['NCESID', 'Census_Track', 'White_Popn', 'Black_Popn', 'Asian_Popn']]\n",
    "census.columns"
   ]
  },
  {
   "cell_type": "code",
   "execution_count": 38,
   "metadata": {
    "collapsed": false
   },
   "outputs": [
    {
     "name": "stdout",
     "output_type": "stream",
     "text": [
      "(1657, 37)\n",
      "Index([u'NCESID', u'NAME', u'ADDRESS', u'CITY', u'STATE', u'ZIP', u'TELEPHONE',\n",
      "       u'TYPE', u'STATUS', u'POPULATION', u'COUNTY', u'COUNTYFIPS', u'COUNTRY',\n",
      "       u'LATITUDE', u'LONGITUDE', u'ENROLLMENT', u'START_GRAD', u'END_GRADE',\n",
      "       u'FULL_TIME_', u'PUB_PRI_IND', u'BOROUGH', u'TOTAL_ACCIDENTS',\n",
      "       u'TOTAL_INJURIES', u'ON_STR_TOP50', u'CROSS_STR_TOP50', u'precinct',\n",
      "       u'Cell Phone', u'Disobey Steady Red Signal',\n",
      "       u'Disobey Traffic Control Device', u'Improper Turn', u'Safety Belt',\n",
      "       u'Tinted Windows', u'Count_311_Calls', u'Census_Track', u'White_Popn',\n",
      "       u'Black_Popn', u'Asian_Popn'],\n",
      "      dtype='object')\n",
      "0\n"
     ]
    }
   ],
   "source": [
    "# Merging demographics data with schools\n",
    "nycSchools5 = pd.merge(left=nycSchools4, right=census, how='left', on='NCESID')\n",
    "print nycSchools5.shape\n",
    "print nycSchools5.columns\n",
    "\n",
    "# Checking for any missing values after merge\n",
    "print nycSchools5['Census_Track'].isnull().sum()"
   ]
  },
  {
   "cell_type": "code",
   "execution_count": 39,
   "metadata": {
    "collapsed": false
   },
   "outputs": [
    {
     "name": "stdout",
     "output_type": "stream",
     "text": [
      "0    36047012902\n",
      "1    36047020500\n",
      "2    36047018300\n",
      "3    36047023500\n",
      "4    36047100800\n",
      "Name: Census_Track, dtype: int64\n"
     ]
    }
   ],
   "source": [
    "# Checking for values within Census_Track variable\n",
    "print nycSchools5['Census_Track'].head()"
   ]
  },
  {
   "cell_type": "markdown",
   "metadata": {},
   "source": [
    "#### Census tract education mapping"
   ]
  },
  {
   "cell_type": "code",
   "execution_count": 40,
   "metadata": {
    "collapsed": false
   },
   "outputs": [
    {
     "name": "stdout",
     "output_type": "stream",
     "text": [
      "(2167, 26)\n",
      "Index([u'Census_Track', u'Total', u'No_schooling_completed', u'Nursery_school',\n",
      "       u'Kindergarten', u'grade1', u'grade2', u'grad3', u'grade4', u'grade5',\n",
      "       u'grade6', u'grade7', u'grade8', u'grade9', u'grade10', u'grade11',\n",
      "       u'grade12_no_diploma', u'Regular_high_school_diploma',\n",
      "       u'GED_or_alternative_credential', u'Some_college_lessthan1year',\n",
      "       u'Some_college,_1ormoreyears_nodegree', u'Associates_degree',\n",
      "       u'Bachelors_degree', u'Masters_degree', u'Professional_school_degree',\n",
      "       u'Doctorate_degree'],\n",
      "      dtype='object')\n"
     ]
    }
   ],
   "source": [
    "# Loading census tract education mapping data\n",
    "censustract_edu = pd.read_csv(\"Census_Data/Census_tract_education_mapping.csv\")\n",
    "print censustract_edu.shape\n",
    "print censustract_edu.columns"
   ]
  },
  {
   "cell_type": "code",
   "execution_count": 41,
   "metadata": {
    "collapsed": false
   },
   "outputs": [
    {
     "name": "stdout",
     "output_type": "stream",
     "text": [
      "(1657, 62)\n",
      "Index([u'NCESID', u'NAME', u'ADDRESS', u'CITY', u'STATE', u'ZIP', u'TELEPHONE',\n",
      "       u'TYPE', u'STATUS', u'POPULATION', u'COUNTY', u'COUNTYFIPS', u'COUNTRY',\n",
      "       u'LATITUDE', u'LONGITUDE', u'ENROLLMENT', u'START_GRAD', u'END_GRADE',\n",
      "       u'FULL_TIME_', u'PUB_PRI_IND', u'BOROUGH', u'TOTAL_ACCIDENTS',\n",
      "       u'TOTAL_INJURIES', u'ON_STR_TOP50', u'CROSS_STR_TOP50', u'precinct',\n",
      "       u'Cell Phone', u'Disobey Steady Red Signal',\n",
      "       u'Disobey Traffic Control Device', u'Improper Turn', u'Safety Belt',\n",
      "       u'Tinted Windows', u'Count_311_Calls', u'Census_Track', u'White_Popn',\n",
      "       u'Black_Popn', u'Asian_Popn', u'Total', u'No_schooling_completed',\n",
      "       u'Nursery_school', u'Kindergarten', u'grade1', u'grade2', u'grad3',\n",
      "       u'grade4', u'grade5', u'grade6', u'grade7', u'grade8', u'grade9',\n",
      "       u'grade10', u'grade11', u'grade12_no_diploma',\n",
      "       u'Regular_high_school_diploma', u'GED_or_alternative_credential',\n",
      "       u'Some_college_lessthan1year', u'Some_college,_1ormoreyears_nodegree',\n",
      "       u'Associates_degree', u'Bachelors_degree', u'Masters_degree',\n",
      "       u'Professional_school_degree', u'Doctorate_degree'],\n",
      "      dtype='object')\n"
     ]
    },
    {
     "data": {
      "text/plain": [
       "Census_Track                           0\n",
       "Total                                  0\n",
       "No_schooling_completed                 0\n",
       "Nursery_school                         0\n",
       "Kindergarten                           0\n",
       "grade1                                 0\n",
       "grade2                                 0\n",
       "grad3                                  0\n",
       "grade4                                 0\n",
       "grade5                                 0\n",
       "grade6                                 0\n",
       "grade7                                 0\n",
       "grade8                                 0\n",
       "grade9                                 0\n",
       "grade10                                0\n",
       "grade11                                0\n",
       "grade12_no_diploma                     0\n",
       "Regular_high_school_diploma            0\n",
       "GED_or_alternative_credential          0\n",
       "Some_college_lessthan1year             0\n",
       "Some_college,_1ormoreyears_nodegree    0\n",
       "Associates_degree                      0\n",
       "Bachelors_degree                       0\n",
       "Masters_degree                         0\n",
       "Professional_school_degree             0\n",
       "Doctorate_degree                       0\n",
       "dtype: int64"
      ]
     },
     "execution_count": 41,
     "metadata": {},
     "output_type": "execute_result"
    }
   ],
   "source": [
    "# Merging census tract education data with schools\n",
    "nycSchools6 = pd.merge(left=nycSchools5, right=censustract_edu, how='left', on='Census_Track')\n",
    "print nycSchools6.shape\n",
    "print nycSchools6.columns\n",
    "\n",
    "# Checking for any missing values after merge\n",
    "nycSchools6[[u'Census_Track', u'Total', u'No_schooling_completed', u'Nursery_school',\n",
    "       u'Kindergarten', u'grade1', u'grade2', u'grad3', u'grade4', u'grade5',\n",
    "       u'grade6', u'grade7', u'grade8', u'grade9', u'grade10', u'grade11',\n",
    "       u'grade12_no_diploma', u'Regular_high_school_diploma',\n",
    "       u'GED_or_alternative_credential', u'Some_college_lessthan1year',\n",
    "       u'Some_college,_1ormoreyears_nodegree', u'Associates_degree',\n",
    "       u'Bachelors_degree', u'Masters_degree', u'Professional_school_degree',\n",
    "       u'Doctorate_degree']].isnull().sum()"
   ]
  },
  {
   "cell_type": "markdown",
   "metadata": {},
   "source": [
    "#### Census tract income mapping"
   ]
  },
  {
   "cell_type": "code",
   "execution_count": 42,
   "metadata": {
    "collapsed": false
   },
   "outputs": [
    {
     "name": "stdout",
     "output_type": "stream",
     "text": [
      "(2167, 13)\n",
      "Index([u'Census_Track', u'Total_Households', u'Mean_Inc_All_Households',\n",
      "       u'Per_Capita_Inc_Total', u'Mean_Per_Capita_Inc_Total',\n",
      "       u'Per_Capita_Inc_White', u'Mean_Per_Capita_Inc_White',\n",
      "       u'Per_Capita_Inc_Black', u'Mean_Per_Capita_Inc_Black',\n",
      "       u'Per_Capita_Inc_Asian', u'Mean_Per_Capita_Inc_Asian',\n",
      "       u'Per_Capita_Inc_Hispanic', u'Mean_Per_Capita_Inc_Hispanic'],\n",
      "      dtype='object')\n"
     ]
    }
   ],
   "source": [
    "# Loading census tract education mapping data\n",
    "censustract_inc = pd.read_csv(\"Census_Data/Census_tract_income_mapping.csv\")\n",
    "print censustract_inc.shape\n",
    "print censustract_inc.columns"
   ]
  },
  {
   "cell_type": "code",
   "execution_count": 43,
   "metadata": {
    "collapsed": false
   },
   "outputs": [
    {
     "name": "stdout",
     "output_type": "stream",
     "text": [
      "(1657, 74)\n",
      "Index([u'NCESID', u'NAME', u'ADDRESS', u'CITY', u'STATE', u'ZIP', u'TELEPHONE',\n",
      "       u'TYPE', u'STATUS', u'POPULATION', u'COUNTY', u'COUNTYFIPS', u'COUNTRY',\n",
      "       u'LATITUDE', u'LONGITUDE', u'ENROLLMENT', u'START_GRAD', u'END_GRADE',\n",
      "       u'FULL_TIME_', u'PUB_PRI_IND', u'BOROUGH', u'TOTAL_ACCIDENTS',\n",
      "       u'TOTAL_INJURIES', u'ON_STR_TOP50', u'CROSS_STR_TOP50', u'precinct',\n",
      "       u'Cell Phone', u'Disobey Steady Red Signal',\n",
      "       u'Disobey Traffic Control Device', u'Improper Turn', u'Safety Belt',\n",
      "       u'Tinted Windows', u'Count_311_Calls', u'Census_Track', u'White_Popn',\n",
      "       u'Black_Popn', u'Asian_Popn', u'Total', u'No_schooling_completed',\n",
      "       u'Nursery_school', u'Kindergarten', u'grade1', u'grade2', u'grad3',\n",
      "       u'grade4', u'grade5', u'grade6', u'grade7', u'grade8', u'grade9',\n",
      "       u'grade10', u'grade11', u'grade12_no_diploma',\n",
      "       u'Regular_high_school_diploma', u'GED_or_alternative_credential',\n",
      "       u'Some_college_lessthan1year', u'Some_college,_1ormoreyears_nodegree',\n",
      "       u'Associates_degree', u'Bachelors_degree', u'Masters_degree',\n",
      "       u'Professional_school_degree', u'Doctorate_degree', u'Total_Households',\n",
      "       u'Mean_Inc_All_Households', u'Per_Capita_Inc_Total',\n",
      "       u'Mean_Per_Capita_Inc_Total', u'Per_Capita_Inc_White',\n",
      "       u'Mean_Per_Capita_Inc_White', u'Per_Capita_Inc_Black',\n",
      "       u'Mean_Per_Capita_Inc_Black', u'Per_Capita_Inc_Asian',\n",
      "       u'Mean_Per_Capita_Inc_Asian', u'Per_Capita_Inc_Hispanic',\n",
      "       u'Mean_Per_Capita_Inc_Hispanic'],\n",
      "      dtype='object')\n"
     ]
    },
    {
     "data": {
      "text/plain": [
       "Census_Track                      0\n",
       "Total_Households                  0\n",
       "Mean_Inc_All_Households           5\n",
       "Per_Capita_Inc_Total              0\n",
       "Mean_Per_Capita_Inc_Total         5\n",
       "Per_Capita_Inc_White              5\n",
       "Mean_Per_Capita_Inc_White        29\n",
       "Per_Capita_Inc_Black              5\n",
       "Mean_Per_Capita_Inc_Black       176\n",
       "Per_Capita_Inc_Asian              5\n",
       "Mean_Per_Capita_Inc_Asian       292\n",
       "Per_Capita_Inc_Hispanic           5\n",
       "Mean_Per_Capita_Inc_Hispanic     18\n",
       "dtype: int64"
      ]
     },
     "execution_count": 43,
     "metadata": {},
     "output_type": "execute_result"
    }
   ],
   "source": [
    "# Merging census tract income data with schools\n",
    "nycSchools7 = pd.merge(left=nycSchools6, right=censustract_inc, how='left', on='Census_Track')\n",
    "print nycSchools7.shape\n",
    "print nycSchools7.columns\n",
    "\n",
    "# Checking for any missing values after merge\n",
    "nycSchools7[[u'Census_Track', u'Total_Households', u'Mean_Inc_All_Households',\n",
    "       u'Per_Capita_Inc_Total', u'Mean_Per_Capita_Inc_Total',\n",
    "       u'Per_Capita_Inc_White', u'Mean_Per_Capita_Inc_White',\n",
    "       u'Per_Capita_Inc_Black', u'Mean_Per_Capita_Inc_Black',\n",
    "       u'Per_Capita_Inc_Asian', u'Mean_Per_Capita_Inc_Asian',\n",
    "       u'Per_Capita_Inc_Hispanic', u'Mean_Per_Capita_Inc_Hispanic']].isnull().sum()"
   ]
  },
  {
   "cell_type": "code",
   "execution_count": 44,
   "metadata": {
    "collapsed": false,
    "scrolled": true
   },
   "outputs": [
    {
     "data": {
      "text/plain": [
       "NCESID                                 0\n",
       "NAME                                   0\n",
       "ADDRESS                                0\n",
       "CITY                                   0\n",
       "STATE                                  0\n",
       "ZIP                                    0\n",
       "TELEPHONE                              0\n",
       "TYPE                                   0\n",
       "STATUS                                 0\n",
       "POPULATION                             0\n",
       "COUNTY                                 0\n",
       "COUNTYFIPS                             0\n",
       "COUNTRY                                0\n",
       "LATITUDE                               0\n",
       "LONGITUDE                              0\n",
       "ENROLLMENT                             0\n",
       "START_GRAD                             0\n",
       "END_GRADE                              0\n",
       "FULL_TIME_                             0\n",
       "PUB_PRI_IND                            0\n",
       "BOROUGH                                0\n",
       "TOTAL_ACCIDENTS                        0\n",
       "TOTAL_INJURIES                         0\n",
       "ON_STR_TOP50                           0\n",
       "CROSS_STR_TOP50                        0\n",
       "precinct                               0\n",
       "Cell Phone                             0\n",
       "Disobey Steady Red Signal              0\n",
       "Disobey Traffic Control Device         0\n",
       "Improper Turn                          0\n",
       "                                      ..\n",
       "Kindergarten                           0\n",
       "grade1                                 0\n",
       "grade2                                 0\n",
       "grad3                                  0\n",
       "grade4                                 0\n",
       "grade5                                 0\n",
       "grade6                                 0\n",
       "grade7                                 0\n",
       "grade8                                 0\n",
       "grade9                                 0\n",
       "grade10                                0\n",
       "grade11                                0\n",
       "grade12_no_diploma                     0\n",
       "Regular_high_school_diploma            0\n",
       "GED_or_alternative_credential          0\n",
       "Some_college_lessthan1year             0\n",
       "Some_college,_1ormoreyears_nodegree    0\n",
       "Associates_degree                      0\n",
       "Bachelors_degree                       0\n",
       "Masters_degree                         0\n",
       "Professional_school_degree             0\n",
       "Doctorate_degree                       0\n",
       "Total_Households                       0\n",
       "Mean_Inc_All_Households                0\n",
       "Per_Capita_Inc_Total                   0\n",
       "Mean_Per_Capita_Inc_Total              0\n",
       "Per_Capita_Inc_White                   0\n",
       "Per_Capita_Inc_Black                   0\n",
       "Per_Capita_Inc_Asian                   0\n",
       "Per_Capita_Inc_Hispanic                0\n",
       "dtype: int64"
      ]
     },
     "execution_count": 44,
     "metadata": {},
     "output_type": "execute_result"
    }
   ],
   "source": [
    "# Dropping variables with many missing values based on above output\n",
    "# And replacing the ones with few missing values with zeros\n",
    "nycSchools7.drop(['Mean_Per_Capita_Inc_White', 'Mean_Per_Capita_Inc_Black',\n",
    "                  'Mean_Per_Capita_Inc_Asian', 'Mean_Per_Capita_Inc_Hispanic'],\n",
    "                 axis=1,\n",
    "                 inplace=True)\n",
    "nycSchools7= nycSchools7.fillna(0)\n",
    "\n",
    "# Checking for missing values\n",
    "nycSchools7.isnull().sum()"
   ]
  },
  {
   "cell_type": "code",
   "execution_count": 45,
   "metadata": {
    "collapsed": false
   },
   "outputs": [],
   "source": [
    "# Export for plotting in ArcGIS and CartoDB to generate plots for final report\n",
    "# print nycSchools7.shape\n",
    "# nycSchools7.to_csv(\"nycSchools_census.csv\")"
   ]
  },
  {
   "cell_type": "markdown",
   "metadata": {},
   "source": [
    "## Analysis and Results"
   ]
  },
  {
   "cell_type": "markdown",
   "metadata": {},
   "source": [
    "### Computing Risk Metric and Converting it to binary outcome\n",
    "\n",
    "Risk metric is defined as the ratio of total injuries to total accidents across any group. This metric helps differentiate between groups in terms of higher to lower injury risk with respect to any traffic collision. It can be looked upon as per-capita injury metric with respect to traffic collisions."
   ]
  },
  {
   "cell_type": "code",
   "execution_count": 46,
   "metadata": {
    "collapsed": false
   },
   "outputs": [
    {
     "data": {
      "text/html": [
       "<div>\n",
       "<table border=\"1\" class=\"dataframe\">\n",
       "  <thead>\n",
       "    <tr style=\"text-align: right;\">\n",
       "      <th></th>\n",
       "      <th>TOTAL_ACCIDENTS</th>\n",
       "      <th>TOTAL_INJURIES</th>\n",
       "      <th>RISK</th>\n",
       "    </tr>\n",
       "  </thead>\n",
       "  <tbody>\n",
       "    <tr>\n",
       "      <th>0</th>\n",
       "      <td>5</td>\n",
       "      <td>2</td>\n",
       "      <td>0.400000</td>\n",
       "    </tr>\n",
       "    <tr>\n",
       "      <th>1</th>\n",
       "      <td>7</td>\n",
       "      <td>2</td>\n",
       "      <td>0.285714</td>\n",
       "    </tr>\n",
       "    <tr>\n",
       "      <th>2</th>\n",
       "      <td>2</td>\n",
       "      <td>0</td>\n",
       "      <td>0.000000</td>\n",
       "    </tr>\n",
       "    <tr>\n",
       "      <th>3</th>\n",
       "      <td>6</td>\n",
       "      <td>2</td>\n",
       "      <td>0.333333</td>\n",
       "    </tr>\n",
       "    <tr>\n",
       "      <th>4</th>\n",
       "      <td>2</td>\n",
       "      <td>0</td>\n",
       "      <td>0.000000</td>\n",
       "    </tr>\n",
       "  </tbody>\n",
       "</table>\n",
       "</div>"
      ],
      "text/plain": [
       "   TOTAL_ACCIDENTS  TOTAL_INJURIES      RISK\n",
       "0                5               2  0.400000\n",
       "1                7               2  0.285714\n",
       "2                2               0  0.000000\n",
       "3                6               2  0.333333\n",
       "4                2               0  0.000000"
      ]
     },
     "execution_count": 46,
     "metadata": {},
     "output_type": "execute_result"
    }
   ],
   "source": [
    "# Computing risk metric ratio\n",
    "nycSchools7['RISK'] = nycSchools7['TOTAL_INJURIES']/nycSchools7['TOTAL_ACCIDENTS']\n",
    "nycSchools7[['TOTAL_ACCIDENTS', 'TOTAL_INJURIES', 'RISK']].head()"
   ]
  },
  {
   "cell_type": "code",
   "execution_count": 47,
   "metadata": {
    "collapsed": false
   },
   "outputs": [],
   "source": [
    "# Replacing missing values with zero's and capping upper value at 1\n",
    "nycSchools7['RISK'] = nycSchools7['RISK'].fillna(0)\n",
    "nycSchools7.loc[nycSchools7['RISK'] > 1, 'RISK'] = 1"
   ]
  },
  {
   "cell_type": "code",
   "execution_count": 48,
   "metadata": {
    "collapsed": false
   },
   "outputs": [
    {
     "data": {
      "text/plain": [
       "<matplotlib.text.Text at 0x21ce40b8>"
      ]
     },
     "execution_count": 48,
     "metadata": {},
     "output_type": "execute_result"
    },
    {
     "data": {
      "image/png": "[encoded data removed]",
      "text/plain": [
       "<matplotlib.figure.Figure at 0x3939668>"
      ]
     },
     "metadata": {},
     "output_type": "display_data"
    }
   ],
   "source": [
    "# Plotting histograms of the risk distribution\n",
    "plt.figure(figsize=(10,8))\n",
    "plt.hist(nycSchools7['RISK'], alpha=0.5)\n",
    "plt.title(\"Distribution of Incident rate per collision\", fontsize=18)\n",
    "plt.xlabel(\"Traffic Risk Range\", fontsize=16)\n",
    "plt.ylabel(\"Frequency\", fontsize=16)"
   ]
  },
  {
   "cell_type": "markdown",
   "metadata": {},
   "source": [
    ">__\"From the above plot, 50% of the schools tend to have risk less than 10% which implies that on a average total injuries resulting from the collisions would be less than 10. Remaining 50% of schools show a variation between 0.1 to 1 values and these differences would be quantified using certain input factors under the modeling exercise.\"__"
   ]
  },
  {
   "cell_type": "code",
   "execution_count": 49,
   "metadata": {
    "collapsed": false
   },
   "outputs": [
    {
     "data": {
      "text/plain": [
       "IND_RISK\n",
       "0    1125\n",
       "1     532\n",
       "dtype: int64"
      ]
     },
     "execution_count": 49,
     "metadata": {},
     "output_type": "execute_result"
    }
   ],
   "source": [
    "# Creating indicator variable for risk metric in comparison with overall risk value in 2015\n",
    "# Risk metric for NYC is 0.2389\n",
    "nycSchools7['IND_RISK'] = (nycSchools7['RISK'] > 0.2389).astype(int)\n",
    "nycSchools7.groupby('IND_RISK').size()"
   ]
  },
  {
   "cell_type": "code",
   "execution_count": 50,
   "metadata": {
    "collapsed": false
   },
   "outputs": [
    {
     "data": {
      "text/html": [
       "<div>\n",
       "<table border=\"1\" class=\"dataframe\">\n",
       "  <thead>\n",
       "    <tr style=\"text-align: right;\">\n",
       "      <th></th>\n",
       "      <th>ZIP</th>\n",
       "      <th>TYPE</th>\n",
       "      <th>STATUS</th>\n",
       "      <th>POPULATION</th>\n",
       "      <th>COUNTYFIPS</th>\n",
       "      <th>LATITUDE</th>\n",
       "      <th>LONGITUDE</th>\n",
       "      <th>ENROLLMENT</th>\n",
       "      <th>FULL_TIME_</th>\n",
       "      <th>TOTAL_ACCIDENTS</th>\n",
       "      <th>...</th>\n",
       "      <th>Doctorate_degree</th>\n",
       "      <th>Total_Households</th>\n",
       "      <th>Mean_Inc_All_Households</th>\n",
       "      <th>Per_Capita_Inc_Total</th>\n",
       "      <th>Mean_Per_Capita_Inc_Total</th>\n",
       "      <th>Per_Capita_Inc_White</th>\n",
       "      <th>Per_Capita_Inc_Black</th>\n",
       "      <th>Per_Capita_Inc_Asian</th>\n",
       "      <th>Per_Capita_Inc_Hispanic</th>\n",
       "      <th>RISK</th>\n",
       "    </tr>\n",
       "    <tr>\n",
       "      <th>IND_RISK</th>\n",
       "      <th></th>\n",
       "      <th></th>\n",
       "      <th></th>\n",
       "      <th></th>\n",
       "      <th></th>\n",
       "      <th></th>\n",
       "      <th></th>\n",
       "      <th></th>\n",
       "      <th></th>\n",
       "      <th></th>\n",
       "      <th></th>\n",
       "      <th></th>\n",
       "      <th></th>\n",
       "      <th></th>\n",
       "      <th></th>\n",
       "      <th></th>\n",
       "      <th></th>\n",
       "      <th></th>\n",
       "      <th></th>\n",
       "      <th></th>\n",
       "      <th></th>\n",
       "    </tr>\n",
       "  </thead>\n",
       "  <tbody>\n",
       "    <tr>\n",
       "      <th>0</th>\n",
       "      <td>10831.483556</td>\n",
       "      <td>1.474667</td>\n",
       "      <td>1.030222</td>\n",
       "      <td>501.171556</td>\n",
       "      <td>36053.259556</td>\n",
       "      <td>40.725246</td>\n",
       "      <td>-73.921890</td>\n",
       "      <td>467.680000</td>\n",
       "      <td>33.455111</td>\n",
       "      <td>6.108444</td>\n",
       "      <td>...</td>\n",
       "      <td>0.012683</td>\n",
       "      <td>1836.783111</td>\n",
       "      <td>77606.705778</td>\n",
       "      <td>4808.298667</td>\n",
       "      <td>31924.110222</td>\n",
       "      <td>43.270044</td>\n",
       "      <td>26.868533</td>\n",
       "      <td>11.830044</td>\n",
       "      <td>27.731022</td>\n",
       "      <td>0.047689</td>\n",
       "    </tr>\n",
       "    <tr>\n",
       "      <th>1</th>\n",
       "      <td>10885.883459</td>\n",
       "      <td>1.515038</td>\n",
       "      <td>1.030075</td>\n",
       "      <td>490.879699</td>\n",
       "      <td>36047.379699</td>\n",
       "      <td>40.730524</td>\n",
       "      <td>-73.911203</td>\n",
       "      <td>457.913534</td>\n",
       "      <td>32.951128</td>\n",
       "      <td>8.986842</td>\n",
       "      <td>...</td>\n",
       "      <td>0.008982</td>\n",
       "      <td>1534.312030</td>\n",
       "      <td>64798.285714</td>\n",
       "      <td>4259.562030</td>\n",
       "      <td>24946.669173</td>\n",
       "      <td>33.779135</td>\n",
       "      <td>35.095865</td>\n",
       "      <td>9.288158</td>\n",
       "      <td>32.126692</td>\n",
       "      <td>0.490196</td>\n",
       "    </tr>\n",
       "  </tbody>\n",
       "</table>\n",
       "<p>2 rows × 59 columns</p>\n",
       "</div>"
      ],
      "text/plain": [
       "                   ZIP      TYPE    STATUS  POPULATION    COUNTYFIPS  \\\n",
       "IND_RISK                                                               \n",
       "0         10831.483556  1.474667  1.030222  501.171556  36053.259556   \n",
       "1         10885.883459  1.515038  1.030075  490.879699  36047.379699   \n",
       "\n",
       "           LATITUDE  LONGITUDE  ENROLLMENT  FULL_TIME_  TOTAL_ACCIDENTS  \\\n",
       "IND_RISK                                                                  \n",
       "0         40.725246 -73.921890  467.680000   33.455111         6.108444   \n",
       "1         40.730524 -73.911203  457.913534   32.951128         8.986842   \n",
       "\n",
       "            ...     Doctorate_degree  Total_Households  \\\n",
       "IND_RISK    ...                                          \n",
       "0           ...             0.012683       1836.783111   \n",
       "1           ...             0.008982       1534.312030   \n",
       "\n",
       "          Mean_Inc_All_Households  Per_Capita_Inc_Total  \\\n",
       "IND_RISK                                                  \n",
       "0                    77606.705778           4808.298667   \n",
       "1                    64798.285714           4259.562030   \n",
       "\n",
       "          Mean_Per_Capita_Inc_Total  Per_Capita_Inc_White  \\\n",
       "IND_RISK                                                    \n",
       "0                      31924.110222             43.270044   \n",
       "1                      24946.669173             33.779135   \n",
       "\n",
       "          Per_Capita_Inc_Black  Per_Capita_Inc_Asian  Per_Capita_Inc_Hispanic  \\\n",
       "IND_RISK                                                                        \n",
       "0                    26.868533             11.830044                27.731022   \n",
       "1                    35.095865              9.288158                32.126692   \n",
       "\n",
       "              RISK  \n",
       "IND_RISK            \n",
       "0         0.047689  \n",
       "1         0.490196  \n",
       "\n",
       "[2 rows x 59 columns]"
      ]
     },
     "execution_count": 50,
     "metadata": {},
     "output_type": "execute_result"
    }
   ],
   "source": [
    "nycSchools7.groupby('IND_RISK').mean()"
   ]
  },
  {
   "cell_type": "code",
   "execution_count": 51,
   "metadata": {
    "collapsed": false
   },
   "outputs": [
    {
     "data": {
      "text/plain": [
       "<matplotlib.text.Text at 0x221e90b8>"
      ]
     },
     "execution_count": 51,
     "metadata": {},
     "output_type": "execute_result"
    },
    {
     "data": {
      "image/png": "[encoded data removed]",
      "text/plain": [
       "<matplotlib.figure.Figure at 0x21920470>"
      ]
     },
     "metadata": {},
     "output_type": "display_data"
    }
   ],
   "source": [
    "pd.crosstab(nycSchools7.BOROUGH, nycSchools7.IND_RISK.astype(bool)).plot(kind='bar')\n",
    "plt.title(\"Distribution of risk classes across Boroughs in NYC\", fontsize=18)"
   ]
  },
  {
   "cell_type": "code",
   "execution_count": 52,
   "metadata": {
    "collapsed": false
   },
   "outputs": [],
   "source": [
    "# Export for plotting in ArcGIS and CartoDB to generate plots for final report\n",
    "# print nycSchools7.shape\n",
    "# nycSchools7.to_csv(\"nycSchools_trafficrisk.csv\")"
   ]
  },
  {
   "cell_type": "markdown",
   "metadata": {},
   "source": [
    "### Distributions of variables across risk classes"
   ]
  },
  {
   "cell_type": "code",
   "execution_count": 53,
   "metadata": {
    "collapsed": false
   },
   "outputs": [
    {
     "data": {
      "text/plain": [
       "Index([u'NCESID', u'NAME', u'ADDRESS', u'CITY', u'STATE', u'ZIP', u'TELEPHONE',\n",
       "       u'TYPE', u'STATUS', u'POPULATION', u'COUNTY', u'COUNTYFIPS', u'COUNTRY',\n",
       "       u'LATITUDE', u'LONGITUDE', u'ENROLLMENT', u'START_GRAD', u'END_GRADE',\n",
       "       u'FULL_TIME_', u'PUB_PRI_IND', u'BOROUGH', u'TOTAL_ACCIDENTS',\n",
       "       u'TOTAL_INJURIES', u'ON_STR_TOP50', u'CROSS_STR_TOP50', u'precinct',\n",
       "       u'Cell Phone', u'Disobey Steady Red Signal',\n",
       "       u'Disobey Traffic Control Device', u'Improper Turn', u'Safety Belt',\n",
       "       u'Tinted Windows', u'Count_311_Calls', u'Census_Track', u'White_Popn',\n",
       "       u'Black_Popn', u'Asian_Popn', u'Total', u'No_schooling_completed',\n",
       "       u'Nursery_school', u'Kindergarten', u'grade1', u'grade2', u'grad3',\n",
       "       u'grade4', u'grade5', u'grade6', u'grade7', u'grade8', u'grade9',\n",
       "       u'grade10', u'grade11', u'grade12_no_diploma',\n",
       "       u'Regular_high_school_diploma', u'GED_or_alternative_credential',\n",
       "       u'Some_college_lessthan1year', u'Some_college,_1ormoreyears_nodegree',\n",
       "       u'Associates_degree', u'Bachelors_degree', u'Masters_degree',\n",
       "       u'Professional_school_degree', u'Doctorate_degree', u'Total_Households',\n",
       "       u'Mean_Inc_All_Households', u'Per_Capita_Inc_Total',\n",
       "       u'Mean_Per_Capita_Inc_Total', u'Per_Capita_Inc_White',\n",
       "       u'Per_Capita_Inc_Black', u'Per_Capita_Inc_Asian',\n",
       "       u'Per_Capita_Inc_Hispanic', u'RISK', u'IND_RISK'],\n",
       "      dtype='object')"
      ]
     },
     "execution_count": 53,
     "metadata": {},
     "output_type": "execute_result"
    }
   ],
   "source": [
    "nycSchools7.columns"
   ]
  },
  {
   "cell_type": "code",
   "execution_count": 54,
   "metadata": {
    "collapsed": false
   },
   "outputs": [
    {
     "data": {
      "text/plain": [
       "<seaborn.axisgrid.FacetGrid at 0x21cfb748>"
      ]
     },
     "execution_count": 54,
     "metadata": {},
     "output_type": "execute_result"
    },
    {
     "data": {
      "image/png": "[encoded data removed]",
      "text/plain": [
       "<matplotlib.figure.Figure at 0x21920358>"
      ]
     },
     "metadata": {},
     "output_type": "display_data"
    }
   ],
   "source": [
    "sns.FacetGrid(nycSchools7, hue=\"IND_RISK\", size=6) \\\n",
    "   .map(sns.kdeplot, \"Count_311_Calls\") \\\n",
    "   .add_legend()"
   ]
  },
  {
   "cell_type": "code",
   "execution_count": 55,
   "metadata": {
    "collapsed": false
   },
   "outputs": [
    {
     "data": {
      "text/plain": [
       "<seaborn.axisgrid.FacetGrid at 0x22859a20>"
      ]
     },
     "execution_count": 55,
     "metadata": {},
     "output_type": "execute_result"
    },
    {
     "data": {
      "image/png": "[encoded data removed]",
      "text/plain": [
       "<matplotlib.figure.Figure at 0x22226b00>"
      ]
     },
     "metadata": {},
     "output_type": "display_data"
    }
   ],
   "source": [
    "sns.FacetGrid(nycSchools7, hue=\"IND_RISK\", size=6) \\\n",
    "   .map(sns.kdeplot, \"White_Popn\") \\\n",
    "   .add_legend()"
   ]
  },
  {
   "cell_type": "code",
   "execution_count": 56,
   "metadata": {
    "collapsed": false
   },
   "outputs": [
    {
     "data": {
      "text/plain": [
       "<seaborn.axisgrid.FacetGrid at 0x22a24c88>"
      ]
     },
     "execution_count": 56,
     "metadata": {},
     "output_type": "execute_result"
    },
    {
     "data": {
      "image/png": "[encoded data removed]",
      "text/plain": [
       "<matplotlib.figure.Figure at 0x219952e8>"
      ]
     },
     "metadata": {},
     "output_type": "display_data"
    }
   ],
   "source": [
    "sns.FacetGrid(nycSchools7, hue=\"IND_RISK\", size=6) \\\n",
    "   .map(sns.kdeplot, \"No_schooling_completed\") \\\n",
    "   .add_legend()"
   ]
  },
  {
   "cell_type": "code",
   "execution_count": 57,
   "metadata": {
    "collapsed": false
   },
   "outputs": [
    {
     "data": {
      "text/plain": [
       "<seaborn.axisgrid.FacetGrid at 0x22f76630>"
      ]
     },
     "execution_count": 57,
     "metadata": {},
     "output_type": "execute_result"
    },
    {
     "data": {
      "image/png": "[encoded data removed]",
      "text/plain": [
       "<matplotlib.figure.Figure at 0x22859f28>"
      ]
     },
     "metadata": {},
     "output_type": "display_data"
    }
   ],
   "source": [
    "sns.FacetGrid(nycSchools7, hue=\"IND_RISK\", size=6) \\\n",
    "   .map(sns.kdeplot, \"Mean_Inc_All_Households\") \\\n",
    "   .add_legend()"
   ]
  },
  {
   "cell_type": "code",
   "execution_count": 58,
   "metadata": {
    "collapsed": false
   },
   "outputs": [
    {
     "data": {
      "text/plain": [
       "<seaborn.axisgrid.FacetGrid at 0x22cb50f0>"
      ]
     },
     "execution_count": 58,
     "metadata": {},
     "output_type": "execute_result"
    },
    {
     "data": {
      "image/png": "[encoded data removed]",
      "text/plain": [
       "<matplotlib.figure.Figure at 0x22859cf8>"
      ]
     },
     "metadata": {},
     "output_type": "display_data"
    }
   ],
   "source": [
    "sns.FacetGrid(nycSchools7, hue=\"IND_RISK\", size=6) \\\n",
    "   .map(sns.kdeplot, \"Bachelors_degree\") \\\n",
    "   .add_legend()"
   ]
  },
  {
   "cell_type": "code",
   "execution_count": 59,
   "metadata": {
    "collapsed": false
   },
   "outputs": [
    {
     "data": {
      "text/plain": [
       "<seaborn.axisgrid.FacetGrid at 0x23165be0>"
      ]
     },
     "execution_count": 59,
     "metadata": {},
     "output_type": "execute_result"
    },
    {
     "data": {
      "image/png": "[encoded data removed]",
      "text/plain": [
       "<matplotlib.figure.Figure at 0x22cb5208>"
      ]
     },
     "metadata": {},
     "output_type": "display_data"
    }
   ],
   "source": [
    "sns.FacetGrid(nycSchools7, hue=\"IND_RISK\", size=5) \\\n",
    "              .map(plt.scatter, \"TOTAL_INJURIES\", \"TOTAL_ACCIDENTS\") \\\n",
    "              .add_legend()"
   ]
  },
  {
   "cell_type": "markdown",
   "metadata": {},
   "source": [
    "### Clustering\n",
    "\n",
    "Clustering of schools only on census data"
   ]
  },
  {
   "cell_type": "code",
   "execution_count": 60,
   "metadata": {
    "collapsed": false
   },
   "outputs": [
    {
     "name": "stdout",
     "output_type": "stream",
     "text": [
      "(1657, 36)\n",
      "Index([u'White_Popn', u'Black_Popn', u'Asian_Popn', u'Total',\n",
      "       u'No_schooling_completed', u'Nursery_school', u'Kindergarten',\n",
      "       u'grade1', u'grade2', u'grad3', u'grade4', u'grade5', u'grade6',\n",
      "       u'grade7', u'grade8', u'grade9', u'grade10', u'grade11',\n",
      "       u'grade12_no_diploma', u'Regular_high_school_diploma',\n",
      "       u'GED_or_alternative_credential', u'Some_college_lessthan1year',\n",
      "       u'Some_college,_1ormoreyears_nodegree', u'Associates_degree',\n",
      "       u'Bachelors_degree', u'Masters_degree', u'Professional_school_degree',\n",
      "       u'Doctorate_degree', u'Total_Households', u'Mean_Inc_All_Households',\n",
      "       u'Per_Capita_Inc_Total', u'Mean_Per_Capita_Inc_Total',\n",
      "       u'Per_Capita_Inc_White', u'Per_Capita_Inc_Black',\n",
      "       u'Per_Capita_Inc_Asian', u'Per_Capita_Inc_Hispanic'],\n",
      "      dtype='object')\n"
     ]
    }
   ],
   "source": [
    "# Subset data for clustering\n",
    "clusterSchools = nycSchools7[['White_Popn',\n",
    "       u'Black_Popn', u'Asian_Popn', u'Total', u'No_schooling_completed',\n",
    "       u'Nursery_school', u'Kindergarten', u'grade1', u'grade2', u'grad3',\n",
    "       u'grade4', u'grade5', u'grade6', u'grade7', u'grade8', u'grade9',\n",
    "       u'grade10', u'grade11', u'grade12_no_diploma',\n",
    "       u'Regular_high_school_diploma', u'GED_or_alternative_credential',\n",
    "       u'Some_college_lessthan1year', u'Some_college,_1ormoreyears_nodegree',\n",
    "       u'Associates_degree', u'Bachelors_degree', u'Masters_degree',\n",
    "       u'Professional_school_degree', u'Doctorate_degree', u'Total_Households',\n",
    "       u'Mean_Inc_All_Households', u'Per_Capita_Inc_Total',\n",
    "       u'Mean_Per_Capita_Inc_Total', u'Per_Capita_Inc_White',\n",
    "       u'Per_Capita_Inc_Black', u'Per_Capita_Inc_Asian',\n",
    "       u'Per_Capita_Inc_Hispanic']]\n",
    "\n",
    "print clusterSchools.shape\n",
    "print clusterSchools.columns"
   ]
  },
  {
   "cell_type": "code",
   "execution_count": 61,
   "metadata": {
    "collapsed": false,
    "scrolled": true
   },
   "outputs": [
    {
     "name": "stdout",
     "output_type": "stream",
     "text": [
      "<class 'pandas.core.frame.DataFrame'>\n",
      "Int64Index: 1657 entries, 0 to 1656\n",
      "Data columns (total 36 columns):\n",
      "White_Popn                             1657 non-null int64\n",
      "Black_Popn                             1657 non-null int64\n",
      "Asian_Popn                             1657 non-null int64\n",
      "Total                                  1657 non-null int64\n",
      "No_schooling_completed                 1657 non-null float64\n",
      "Nursery_school                         1657 non-null float64\n",
      "Kindergarten                           1657 non-null float64\n",
      "grade1                                 1657 non-null float64\n",
      "grade2                                 1657 non-null float64\n",
      "grad3                                  1657 non-null float64\n",
      "grade4                                 1657 non-null float64\n",
      "grade5                                 1657 non-null float64\n",
      "grade6                                 1657 non-null float64\n",
      "grade7                                 1657 non-null float64\n",
      "grade8                                 1657 non-null float64\n",
      "grade9                                 1657 non-null float64\n",
      "grade10                                1657 non-null float64\n",
      "grade11                                1657 non-null float64\n",
      "grade12_no_diploma                     1657 non-null float64\n",
      "Regular_high_school_diploma            1657 non-null float64\n",
      "GED_or_alternative_credential          1657 non-null float64\n",
      "Some_college_lessthan1year             1657 non-null float64\n",
      "Some_college,_1ormoreyears_nodegree    1657 non-null float64\n",
      "Associates_degree                      1657 non-null float64\n",
      "Bachelors_degree                       1657 non-null float64\n",
      "Masters_degree                         1657 non-null float64\n",
      "Professional_school_degree             1657 non-null float64\n",
      "Doctorate_degree                       1657 non-null float64\n",
      "Total_Households                       1657 non-null int64\n",
      "Mean_Inc_All_Households                1657 non-null float64\n",
      "Per_Capita_Inc_Total                   1657 non-null int64\n",
      "Mean_Per_Capita_Inc_Total              1657 non-null float64\n",
      "Per_Capita_Inc_White                   1657 non-null float64\n",
      "Per_Capita_Inc_Black                   1657 non-null float64\n",
      "Per_Capita_Inc_Asian                   1657 non-null float64\n",
      "Per_Capita_Inc_Hispanic                1657 non-null float64\n",
      "dtypes: float64(30), int64(6)\n",
      "memory usage: 479.0 KB\n"
     ]
    }
   ],
   "source": [
    "# Checking for data types of the variables since clustering is done only for numeric variables\n",
    "clusterSchools.info()"
   ]
  },
  {
   "cell_type": "code",
   "execution_count": 62,
   "metadata": {
    "collapsed": false
   },
   "outputs": [
    {
     "data": {
      "text/plain": [
       "array([1, 1, 1, ..., 1, 2, 1])"
      ]
     },
     "execution_count": 62,
     "metadata": {},
     "output_type": "execute_result"
    }
   ],
   "source": [
    "# Required libraries\n",
    "from sklearn.cluster import KMeans\n",
    "from sklearn.metrics import silhouette_score\n",
    "from sklearn import preprocessing\n",
    "\n",
    "X = preprocessing.StandardScaler().fit_transform(clusterSchools)\n",
    "\n",
    "k = 3\n",
    "\n",
    "kmeans = KMeans(n_clusters = k, n_init = 100)\n",
    "kmeans.fit(X)\n",
    "kmeans.labels_"
   ]
  },
  {
   "cell_type": "code",
   "execution_count": 63,
   "metadata": {
    "collapsed": false,
    "scrolled": true
   },
   "outputs": [
    {
     "name": "stdout",
     "output_type": "stream",
     "text": [
      "cluster\n",
      "0    573\n",
      "1    209\n",
      "2    875\n",
      "dtype: int64\n"
     ]
    },
    {
     "data": {
      "text/html": [
       "<div>\n",
       "<table border=\"1\" class=\"dataframe\">\n",
       "  <thead>\n",
       "    <tr style=\"text-align: right;\">\n",
       "      <th></th>\n",
       "      <th>White_Popn</th>\n",
       "      <th>Black_Popn</th>\n",
       "      <th>Asian_Popn</th>\n",
       "      <th>Total</th>\n",
       "      <th>No_schooling_completed</th>\n",
       "      <th>Nursery_school</th>\n",
       "      <th>Kindergarten</th>\n",
       "      <th>grade1</th>\n",
       "      <th>grade2</th>\n",
       "      <th>grad3</th>\n",
       "      <th>...</th>\n",
       "      <th>Professional_school_degree</th>\n",
       "      <th>Doctorate_degree</th>\n",
       "      <th>Total_Households</th>\n",
       "      <th>Mean_Inc_All_Households</th>\n",
       "      <th>Per_Capita_Inc_Total</th>\n",
       "      <th>Mean_Per_Capita_Inc_Total</th>\n",
       "      <th>Per_Capita_Inc_White</th>\n",
       "      <th>Per_Capita_Inc_Black</th>\n",
       "      <th>Per_Capita_Inc_Asian</th>\n",
       "      <th>Per_Capita_Inc_Hispanic</th>\n",
       "    </tr>\n",
       "    <tr>\n",
       "      <th>cluster</th>\n",
       "      <th></th>\n",
       "      <th></th>\n",
       "      <th></th>\n",
       "      <th></th>\n",
       "      <th></th>\n",
       "      <th></th>\n",
       "      <th></th>\n",
       "      <th></th>\n",
       "      <th></th>\n",
       "      <th></th>\n",
       "      <th></th>\n",
       "      <th></th>\n",
       "      <th></th>\n",
       "      <th></th>\n",
       "      <th></th>\n",
       "      <th></th>\n",
       "      <th></th>\n",
       "      <th></th>\n",
       "      <th></th>\n",
       "      <th></th>\n",
       "      <th></th>\n",
       "    </tr>\n",
       "  </thead>\n",
       "  <tbody>\n",
       "    <tr>\n",
       "      <th>0</th>\n",
       "      <td>1255.537522</td>\n",
       "      <td>1770.895288</td>\n",
       "      <td>405.123909</td>\n",
       "      <td>3316.656195</td>\n",
       "      <td>0.044299</td>\n",
       "      <td>0.000336</td>\n",
       "      <td>0.000523</td>\n",
       "      <td>0.002927</td>\n",
       "      <td>0.006438</td>\n",
       "      <td>0.011625</td>\n",
       "      <td>...</td>\n",
       "      <td>0.007859</td>\n",
       "      <td>0.003499</td>\n",
       "      <td>1773.848168</td>\n",
       "      <td>44549.382199</td>\n",
       "      <td>5303.122164</td>\n",
       "      <td>15993.497382</td>\n",
       "      <td>23.482373</td>\n",
       "      <td>33.092147</td>\n",
       "      <td>8.109773</td>\n",
       "      <td>52.633333</td>\n",
       "    </tr>\n",
       "    <tr>\n",
       "      <th>1</th>\n",
       "      <td>4501.555024</td>\n",
       "      <td>364.813397</td>\n",
       "      <td>656.789474</td>\n",
       "      <td>4687.531100</td>\n",
       "      <td>0.008565</td>\n",
       "      <td>0.000139</td>\n",
       "      <td>0.000076</td>\n",
       "      <td>0.000299</td>\n",
       "      <td>0.000560</td>\n",
       "      <td>0.001160</td>\n",
       "      <td>...</td>\n",
       "      <td>0.094628</td>\n",
       "      <td>0.042666</td>\n",
       "      <td>2981.822967</td>\n",
       "      <td>157278.952153</td>\n",
       "      <td>5931.086124</td>\n",
       "      <td>77897.425837</td>\n",
       "      <td>74.560766</td>\n",
       "      <td>6.733971</td>\n",
       "      <td>11.386603</td>\n",
       "      <td>11.461722</td>\n",
       "    </tr>\n",
       "    <tr>\n",
       "      <th>2</th>\n",
       "      <td>1685.147429</td>\n",
       "      <td>1271.162286</td>\n",
       "      <td>500.633143</td>\n",
       "      <td>2669.620571</td>\n",
       "      <td>0.022503</td>\n",
       "      <td>0.000288</td>\n",
       "      <td>0.000419</td>\n",
       "      <td>0.000617</td>\n",
       "      <td>0.001281</td>\n",
       "      <td>0.002987</td>\n",
       "      <td>...</td>\n",
       "      <td>0.018485</td>\n",
       "      <td>0.009285</td>\n",
       "      <td>1420.593143</td>\n",
       "      <td>72436.725714</td>\n",
       "      <td>3882.442286</td>\n",
       "      <td>27133.046857</td>\n",
       "      <td>42.983657</td>\n",
       "      <td>32.604457</td>\n",
       "      <td>12.826743</td>\n",
       "      <td>17.982171</td>\n",
       "    </tr>\n",
       "  </tbody>\n",
       "</table>\n",
       "<p>3 rows × 36 columns</p>\n",
       "</div>"
      ],
      "text/plain": [
       "          White_Popn   Black_Popn  Asian_Popn        Total  \\\n",
       "cluster                                                      \n",
       "0        1255.537522  1770.895288  405.123909  3316.656195   \n",
       "1        4501.555024   364.813397  656.789474  4687.531100   \n",
       "2        1685.147429  1271.162286  500.633143  2669.620571   \n",
       "\n",
       "         No_schooling_completed  Nursery_school  Kindergarten    grade1  \\\n",
       "cluster                                                                   \n",
       "0                      0.044299        0.000336      0.000523  0.002927   \n",
       "1                      0.008565        0.000139      0.000076  0.000299   \n",
       "2                      0.022503        0.000288      0.000419  0.000617   \n",
       "\n",
       "           grade2     grad3           ...             \\\n",
       "cluster                               ...              \n",
       "0        0.006438  0.011625           ...              \n",
       "1        0.000560  0.001160           ...              \n",
       "2        0.001281  0.002987           ...              \n",
       "\n",
       "         Professional_school_degree  Doctorate_degree  Total_Households  \\\n",
       "cluster                                                                   \n",
       "0                          0.007859          0.003499       1773.848168   \n",
       "1                          0.094628          0.042666       2981.822967   \n",
       "2                          0.018485          0.009285       1420.593143   \n",
       "\n",
       "         Mean_Inc_All_Households  Per_Capita_Inc_Total  \\\n",
       "cluster                                                  \n",
       "0                   44549.382199           5303.122164   \n",
       "1                  157278.952153           5931.086124   \n",
       "2                   72436.725714           3882.442286   \n",
       "\n",
       "         Mean_Per_Capita_Inc_Total  Per_Capita_Inc_White  \\\n",
       "cluster                                                    \n",
       "0                     15993.497382             23.482373   \n",
       "1                     77897.425837             74.560766   \n",
       "2                     27133.046857             42.983657   \n",
       "\n",
       "         Per_Capita_Inc_Black  Per_Capita_Inc_Asian  Per_Capita_Inc_Hispanic  \n",
       "cluster                                                                       \n",
       "0                   33.092147              8.109773                52.633333  \n",
       "1                    6.733971             11.386603                11.461722  \n",
       "2                   32.604457             12.826743                17.982171  \n",
       "\n",
       "[3 rows x 36 columns]"
      ]
     },
     "execution_count": 63,
     "metadata": {},
     "output_type": "execute_result"
    }
   ],
   "source": [
    "# Merging the cluster labels to the original data\n",
    "nycSchools7['cluster'] = pd.DataFrame(kmeans.labels_)\n",
    "\n",
    "# Counting number of observations across clusters\n",
    "print nycSchools7.groupby('cluster').size()\n",
    "\n",
    "# Looking at average values across clusters\n",
    "nycSchools7.groupby('cluster')[['White_Popn',\n",
    "       u'Black_Popn', u'Asian_Popn', u'Total', u'No_schooling_completed',\n",
    "       u'Nursery_school', u'Kindergarten', u'grade1', u'grade2', u'grad3',\n",
    "       u'grade4', u'grade5', u'grade6', u'grade7', u'grade8', u'grade9',\n",
    "       u'grade10', u'grade11', u'grade12_no_diploma',\n",
    "       u'Regular_high_school_diploma', u'GED_or_alternative_credential',\n",
    "       u'Some_college_lessthan1year', u'Some_college,_1ormoreyears_nodegree',\n",
    "       u'Associates_degree', u'Bachelors_degree', u'Masters_degree',\n",
    "       u'Professional_school_degree', u'Doctorate_degree', u'Total_Households',\n",
    "       u'Mean_Inc_All_Households', u'Per_Capita_Inc_Total',\n",
    "       u'Mean_Per_Capita_Inc_Total', u'Per_Capita_Inc_White',\n",
    "       u'Per_Capita_Inc_Black', u'Per_Capita_Inc_Asian',\n",
    "       u'Per_Capita_Inc_Hispanic']].mean()"
   ]
  },
  {
   "cell_type": "code",
   "execution_count": 64,
   "metadata": {
    "collapsed": false
   },
   "outputs": [
    {
     "data": {
      "text/html": [
       "<div>\n",
       "<table border=\"1\" class=\"dataframe\">\n",
       "  <thead>\n",
       "    <tr style=\"text-align: right;\">\n",
       "      <th></th>\n",
       "      <th>RISK</th>\n",
       "      <th>White_Popn</th>\n",
       "      <th>Black_Popn</th>\n",
       "      <th>No_schooling_completed</th>\n",
       "      <th>Bachelors_degree</th>\n",
       "      <th>Total_Households</th>\n",
       "      <th>Mean_Inc_All_Households</th>\n",
       "    </tr>\n",
       "    <tr>\n",
       "      <th>cluster</th>\n",
       "      <th></th>\n",
       "      <th></th>\n",
       "      <th></th>\n",
       "      <th></th>\n",
       "      <th></th>\n",
       "      <th></th>\n",
       "      <th></th>\n",
       "    </tr>\n",
       "  </thead>\n",
       "  <tbody>\n",
       "    <tr>\n",
       "      <th>0</th>\n",
       "      <td>0.219818</td>\n",
       "      <td>1255.537522</td>\n",
       "      <td>1770.895288</td>\n",
       "      <td>0.044299</td>\n",
       "      <td>0.105675</td>\n",
       "      <td>1773.848168</td>\n",
       "      <td>44549.382199</td>\n",
       "    </tr>\n",
       "    <tr>\n",
       "      <th>1</th>\n",
       "      <td>0.121661</td>\n",
       "      <td>4501.555024</td>\n",
       "      <td>364.813397</td>\n",
       "      <td>0.008565</td>\n",
       "      <td>0.368584</td>\n",
       "      <td>2981.822967</td>\n",
       "      <td>157278.952153</td>\n",
       "    </tr>\n",
       "    <tr>\n",
       "      <th>2</th>\n",
       "      <td>0.186344</td>\n",
       "      <td>1685.147429</td>\n",
       "      <td>1271.162286</td>\n",
       "      <td>0.022503</td>\n",
       "      <td>0.195520</td>\n",
       "      <td>1420.593143</td>\n",
       "      <td>72436.725714</td>\n",
       "    </tr>\n",
       "  </tbody>\n",
       "</table>\n",
       "</div>"
      ],
      "text/plain": [
       "             RISK   White_Popn   Black_Popn  No_schooling_completed  \\\n",
       "cluster                                                               \n",
       "0        0.219818  1255.537522  1770.895288                0.044299   \n",
       "1        0.121661  4501.555024   364.813397                0.008565   \n",
       "2        0.186344  1685.147429  1271.162286                0.022503   \n",
       "\n",
       "         Bachelors_degree  Total_Households  Mean_Inc_All_Households  \n",
       "cluster                                                               \n",
       "0                0.105675       1773.848168             44549.382199  \n",
       "1                0.368584       2981.822967            157278.952153  \n",
       "2                0.195520       1420.593143             72436.725714  "
      ]
     },
     "execution_count": 64,
     "metadata": {},
     "output_type": "execute_result"
    }
   ],
   "source": [
    "# Looking only at few variables\n",
    "nycSchools7.groupby('cluster')[[u'RISK', u'White_Popn', u'Black_Popn',\n",
    "                                u'No_schooling_completed', u'Bachelors_degree',\n",
    "                                u'Total_Households', u'Mean_Inc_All_Households']].mean()"
   ]
  },
  {
   "cell_type": "code",
   "execution_count": 65,
   "metadata": {
    "collapsed": false
   },
   "outputs": [],
   "source": [
    "# Export for plotting in ArcGIS and CartoDB to generate plots for final report\n",
    "# print nycSchools7.shape\n",
    "# nycSchools7.to_csv(\"nycSchools_cluster.csv\")"
   ]
  },
  {
   "cell_type": "markdown",
   "metadata": {},
   "source": [
    "### Logistic Regression"
   ]
  },
  {
   "cell_type": "code",
   "execution_count": 66,
   "metadata": {
    "collapsed": true
   },
   "outputs": [],
   "source": [
    "# loading Required Libraries\n",
    "import statsmodels.api as sm\n",
    "from patsy import dmatrices\n",
    "from sklearn.linear_model import LogisticRegression\n",
    "from sklearn.cross_validation import train_test_split\n",
    "from sklearn import metrics\n",
    "from sklearn.cross_validation import cross_val_score"
   ]
  },
  {
   "cell_type": "code",
   "execution_count": 67,
   "metadata": {
    "collapsed": false
   },
   "outputs": [
    {
     "name": "stdout",
     "output_type": "stream",
     "text": [
      "(1657, 73)\n",
      "Index([u'NCESID', u'NAME', u'ADDRESS', u'CITY', u'STATE', u'ZIP', u'TELEPHONE',\n",
      "       u'TYPE', u'STATUS', u'POPULATION', u'COUNTY', u'COUNTYFIPS', u'COUNTRY',\n",
      "       u'LATITUDE', u'LONGITUDE', u'ENROLLMENT', u'START_GRAD', u'END_GRADE',\n",
      "       u'FULL_TIME_', u'PUB_PRI_IND', u'BOROUGH', u'TOTAL_ACCIDENTS',\n",
      "       u'TOTAL_INJURIES', u'ON_STR_TOP50', u'CROSS_STR_TOP50', u'precinct',\n",
      "       u'Cell_Phone', u'Red_Signal', u'Traffic_Device', u'Improper_Turn',\n",
      "       u'Safety_Belt', u'Tinted_Windows', u'Count_311_Calls', u'Census_Track',\n",
      "       u'White_Popn', u'Black_Popn', u'Asian_Popn', u'Total',\n",
      "       u'No_schooling_completed', u'Nursery_school', u'Kindergarten',\n",
      "       u'grade1', u'grade2', u'grad3', u'grade4', u'grade5', u'grade6',\n",
      "       u'grade7', u'grade8', u'grade9', u'grade10', u'grade11',\n",
      "       u'grade12_no_diploma', u'Regular_high_school_diploma',\n",
      "       u'GED_or_alternative_credential', u'Some_college_lessthan1year',\n",
      "       u'Some_college,_1ormoreyears_nodegree', u'Associates_degree',\n",
      "       u'Bachelors_degree', u'Masters_degree', u'Professional_school_degree',\n",
      "       u'Doctorate_degree', u'Total_Households', u'Mean_Inc_All_Households',\n",
      "       u'Per_Capita_Inc_Total', u'Mean_Per_Capita_Inc_Total',\n",
      "       u'Per_Capita_Inc_White', u'Per_Capita_Inc_Black',\n",
      "       u'Per_Capita_Inc_Asian', u'Per_Capita_Inc_Hispanic', u'RISK',\n",
      "       u'IND_RISK', u'cluster'],\n",
      "      dtype='object')\n"
     ]
    }
   ],
   "source": [
    "# Renaming some of the variable names\n",
    "nycSchools7.rename(columns={'Cell Phone':'Cell_Phone',\n",
    "                            'Disobey Steady Red Signal':'Red_Signal',\n",
    "                            'Disobey Traffic Control Device':'Traffic_Device',\n",
    "                            'Improper Turn':'Improper_Turn',\n",
    "                            'Safety Belt':'Safety_Belt',\n",
    "                            'Tinted Windows':'Tinted_Windows'}\n",
    "                   , inplace=True)\n",
    "\n",
    "print nycSchools7.shape\n",
    "print nycSchools7.columns"
   ]
  },
  {
   "cell_type": "code",
   "execution_count": 68,
   "metadata": {
    "collapsed": false
   },
   "outputs": [
    {
     "data": {
      "text/plain": [
       "(1657, 73)"
      ]
     },
     "execution_count": 68,
     "metadata": {},
     "output_type": "execute_result"
    }
   ],
   "source": [
    "# Checking for any missing values\n",
    "nycSchools8 = nycSchools7.dropna()\n",
    "nycSchools8.shape"
   ]
  },
  {
   "cell_type": "code",
   "execution_count": 69,
   "metadata": {
    "collapsed": false
   },
   "outputs": [
    {
     "name": "stdout",
     "output_type": "stream",
     "text": [
      "(573, 73)\n",
      "(209, 73)\n",
      "(875, 73)\n"
     ]
    }
   ],
   "source": [
    "# Dividing data into clusters\n",
    "cluster0 = nycSchools8[nycSchools8['cluster'] == 0]\n",
    "print cluster0.shape\n",
    "\n",
    "cluster1 = nycSchools8[nycSchools8['cluster'] == 1]\n",
    "print cluster1.shape\n",
    "\n",
    "cluster2 = nycSchools8[nycSchools8['cluster'] == 2]\n",
    "print cluster2.shape"
   ]
  },
  {
   "cell_type": "code",
   "execution_count": 70,
   "metadata": {
    "collapsed": false,
    "scrolled": false
   },
   "outputs": [
    {
     "name": "stdout",
     "output_type": "stream",
     "text": [
      "Warning: Maximum number of iterations has been exceeded.\n",
      "         Current function value: 0.644755\n",
      "         Iterations: 35\n",
      "                           Logit Regression Results                           \n",
      "==============================================================================\n",
      "Dep. Variable:               IND_RISK   No. Observations:                  573\n",
      "Model:                          Logit   Df Residuals:                      559\n",
      "Method:                           MLE   Df Model:                           13\n",
      "Date:                Tue, 29 Mar 2016   Pseudo R-squ.:                 0.02940\n",
      "Time:                        14:55:07   Log-Likelihood:                -369.44\n",
      "converged:                      False   LL-Null:                       -380.64\n",
      "                                        LLR p-value:                   0.04972\n",
      "===============================================================================================\n",
      "                                  coef    std err          z      P>|z|      [95.0% Conf. Int.]\n",
      "-----------------------------------------------------------------------------------------------\n",
      "Intercept                      -1.2501      0.354     -3.536      0.000        -1.943    -0.557\n",
      "C(BOROUGH)[T.Brooklyn]         -0.4280      0.317     -1.349      0.177        -1.050     0.194\n",
      "C(BOROUGH)[T.Manhattan]        -0.5200      0.358     -1.451      0.147        -1.222     0.182\n",
      "C(BOROUGH)[T.Queens]           -0.5889      0.394     -1.494      0.135        -1.361     0.184\n",
      "C(BOROUGH)[T.Staten Island]   -20.1660   1.44e+04     -0.001      0.999     -2.82e+04  2.82e+04\n",
      "ON_STR_TOP50                    0.0474      0.029      1.652      0.098        -0.009     0.104\n",
      "CROSS_STR_TOP50                -0.0234      0.026     -0.890      0.373        -0.075     0.028\n",
      "Count_311_Calls              4556.3513   2847.204      1.600      0.110     -1024.066  1.01e+04\n",
      "Cell_Phone                    177.9132    212.452      0.837      0.402      -238.486   594.312\n",
      "Red_Signal                    512.9141    413.085      1.242      0.214      -296.718  1322.546\n",
      "Traffic_Device               -163.4061    235.480     -0.694      0.488      -624.939   298.127\n",
      "Improper_Turn                 295.1563    153.658      1.921      0.055        -6.007   596.320\n",
      "Safety_Belt                    -6.4903    161.633     -0.040      0.968      -323.284   310.304\n",
      "Tinted_Windows                 22.6443     97.820      0.231      0.817      -169.079   214.368\n",
      "===============================================================================================\n",
      "The confusion matrix is:\n",
      "╒═══╤═════╤═════╕\n",
      "│   │  0  │  1  │\n",
      "├───┼─────┼─────┤\n",
      "│ 0 │ 337 │ 197 │\n",
      "├───┼─────┼─────┤\n",
      "│ 1 │ 18  │ 21  │\n",
      "╘═══╧═════╧═════╛\n",
      "()\n",
      "('The True Positive Rate is', 0.0963302752293578)\n",
      "('The False Positive Rate is', 0.05070422535211268)\n",
      "('The Accuracy Rate is', 0.62478184991274)\n",
      "('The Mean Squared Error is', 0.37521815008726006)\n"
     ]
    }
   ],
   "source": [
    "# Logistic model using statsmodels\n",
    "\n",
    "# For cluster 0\n",
    "import statsmodels.formula.api as smf\n",
    "from sklearn.metrics import confusion_matrix\n",
    "from sklearn.metrics import mean_squared_error\n",
    "from tabulate import tabulate\n",
    "\n",
    "logit_mod1 = smf.logit('IND_RISK ~ C(BOROUGH) + ON_STR_TOP50 + CROSS_STR_TOP50 + \\\n",
    "                       Count_311_Calls + Cell_Phone + Red_Signal + Traffic_Device + \\\n",
    "                       Improper_Turn + Safety_Belt + Tinted_Windows',\n",
    "                       data = cluster0).fit()\n",
    "\n",
    "print(logit_mod1.summary())\n",
    "\n",
    "pred1 = np.array(logit_mod1.predict(cluster0))\n",
    "\n",
    "threshold = 0.5\n",
    "actual = cluster0['IND_RISK'].as_matrix(columns=None)\n",
    "actual.astype(int)\n",
    "prediction = np.zeros((len(cluster0),), dtype=np.int)\n",
    "for i in range(len(prediction)): \n",
    "    if pred1[i] > threshold: prediction[i] += 1\n",
    "\n",
    "cm = confusion_matrix(actual, prediction)\n",
    "MSE = mean_squared_error(actual, prediction)\n",
    "\n",
    "TN, FP, FN, TP = cm[0][0], cm[0][1], cm[1][0], cm[1][1]\n",
    "TPR = float(TP) / float(TP + FN)\n",
    "FPR = float(FP) / float(TN + FP)\n",
    "ACC = float(TN + TP) / float(TN + FP + FN + TP)\n",
    "\n",
    "table = [[\" \",\"0\", \"1\"],[\"0\", TN, FN],[\"1\", FP, TP]]\n",
    "print(\"The confusion matrix is:\")\n",
    "print(tabulate(table, tablefmt=\"fancy_grid\", numalign = \"center\"))\n",
    "print()\n",
    "print(\"The True Positive Rate is\", TPR) \n",
    "print(\"The False Positive Rate is\", FPR)\n",
    "print(\"The Accuracy Rate is\", ACC)\n",
    "print(\"The Mean Squared Error is\", MSE)"
   ]
  },
  {
   "cell_type": "code",
   "execution_count": 71,
   "metadata": {
    "collapsed": false
   },
   "outputs": [
    {
     "name": "stdout",
     "output_type": "stream",
     "text": [
      "Optimization terminated successfully.\n",
      "         Current function value: 0.455566\n",
      "         Iterations 23\n",
      "                           Logit Regression Results                           \n",
      "==============================================================================\n",
      "Dep. Variable:               IND_RISK   No. Observations:                  209\n",
      "Model:                          Logit   Df Residuals:                      199\n",
      "Method:                           MLE   Df Model:                            9\n",
      "Date:                Tue, 29 Mar 2016   Pseudo R-squ.:                 0.07976\n",
      "Time:                        14:55:09   Log-Likelihood:                -95.213\n",
      "converged:                       True   LL-Null:                       -103.47\n",
      "                                        LLR p-value:                   0.05707\n",
      "===================================================================================\n",
      "                      coef    std err          z      P>|z|      [95.0% Conf. Int.]\n",
      "-----------------------------------------------------------------------------------\n",
      "Intercept          -0.8401      0.756     -1.111      0.267        -2.322     0.642\n",
      "ON_STR_TOP50        0.0448      0.058      0.774      0.439        -0.069     0.158\n",
      "CROSS_STR_TOP50    -0.0618      0.053     -1.175      0.240        -0.165     0.041\n",
      "Count_311_Calls  1649.9765   3490.832      0.473      0.636     -5191.928  8491.881\n",
      "Cell_Phone       -315.1854    331.478     -0.951      0.342      -964.871   334.500\n",
      "Red_Signal      -1416.4189    872.268     -1.624      0.104     -3126.034   293.196\n",
      "Traffic_Device    793.7512    637.852      1.244      0.213      -456.416  2043.919\n",
      "Improper_Turn    -126.1065    170.082     -0.741      0.458      -459.462   207.249\n",
      "Safety_Belt       294.5674    304.214      0.968      0.333      -301.681   890.815\n",
      "Tinted_Windows    430.8608    715.273      0.602      0.547      -971.048  1832.770\n",
      "===================================================================================\n",
      "The confusion matrix is:\n",
      "╒═══╤═════╤════╕\n",
      "│   │  0  │ 1  │\n",
      "├───┼─────┼────┤\n",
      "│ 0 │ 168 │ 41 │\n",
      "├───┼─────┼────┤\n",
      "│ 1 │  0  │ 0  │\n",
      "╘═══╧═════╧════╛\n",
      "()\n",
      "('The True Positive Rate is', 0.0)\n",
      "('The False Positive Rate is', 0.0)\n",
      "('The Accuracy Rate is', 0.8038277511961722)\n",
      "('The Mean Squared Error is', 0.19617224880382775)\n"
     ]
    }
   ],
   "source": [
    "# For cluster 1\n",
    "logit_mod2 = smf.logit('IND_RISK ~ ON_STR_TOP50 + CROSS_STR_TOP50 + \\\n",
    "                       Count_311_Calls + Cell_Phone + Red_Signal + Traffic_Device + \\\n",
    "                       Improper_Turn + Safety_Belt + Tinted_Windows',\n",
    "                       data = cluster1).fit()\n",
    "\n",
    "print(logit_mod2.summary())\n",
    "\n",
    "pred2 = np.array(logit_mod2.predict(cluster1))\n",
    "\n",
    "threshold = 0.5\n",
    "actual = cluster1['IND_RISK'].as_matrix(columns=None)\n",
    "actual.astype(int)\n",
    "prediction = np.zeros((len(cluster1),), dtype=np.int)\n",
    "for i in range(len(prediction)): \n",
    "    if pred2[i] > threshold: prediction[i] += 1\n",
    "\n",
    "cm = confusion_matrix(actual, prediction)\n",
    "MSE = mean_squared_error(actual, prediction)\n",
    "\n",
    "TN, FP, FN, TP = cm[0][0], cm[0][1], cm[1][0], cm[1][1]\n",
    "TPR = float(TP) / float(TP + FN)\n",
    "FPR = float(FP) / float(TN + FP)\n",
    "ACC = float(TN + TP) / float(TN + FP + FN + TP)\n",
    "\n",
    "table = [[\" \",\"0\", \"1\"],[\"0\", TN, FN],[\"1\", FP, TP]]\n",
    "print(\"The confusion matrix is:\")\n",
    "print(tabulate(table, tablefmt=\"fancy_grid\", numalign = \"center\"))\n",
    "print()\n",
    "print(\"The True Positive Rate is\", TPR) \n",
    "print(\"The False Positive Rate is\", FPR)\n",
    "print(\"The Accuracy Rate is\", ACC)\n",
    "print(\"The Mean Squared Error is\", MSE)"
   ]
  },
  {
   "cell_type": "code",
   "execution_count": 72,
   "metadata": {
    "collapsed": false
   },
   "outputs": [
    {
     "name": "stdout",
     "output_type": "stream",
     "text": [
      "Warning: Maximum number of iterations has been exceeded.\n",
      "         Current function value: 0.592148\n",
      "         Iterations: 35\n",
      "                           Logit Regression Results                           \n",
      "==============================================================================\n",
      "Dep. Variable:               IND_RISK   No. Observations:                  875\n",
      "Model:                          Logit   Df Residuals:                      861\n",
      "Method:                           MLE   Df Model:                           13\n",
      "Date:                Tue, 29 Mar 2016   Pseudo R-squ.:                 0.04599\n",
      "Time:                        14:55:11   Log-Likelihood:                -518.13\n",
      "converged:                      False   LL-Null:                       -543.11\n",
      "                                        LLR p-value:                 3.039e-06\n",
      "===============================================================================================\n",
      "                                  coef    std err          z      P>|z|      [95.0% Conf. Int.]\n",
      "-----------------------------------------------------------------------------------------------\n",
      "Intercept                      -1.0004      0.329     -3.041      0.002        -1.645    -0.356\n",
      "C(BOROUGH)[T.Brooklyn]          0.1113      0.315      0.353      0.724        -0.506     0.729\n",
      "C(BOROUGH)[T.Manhattan]        -0.6991      0.455     -1.536      0.125        -1.591     0.193\n",
      "C(BOROUGH)[T.Queens]           -0.1310      0.331     -0.396      0.692        -0.780     0.518\n",
      "C(BOROUGH)[T.Staten Island]    -0.1673      0.390     -0.429      0.668        -0.931     0.596\n",
      "ON_STR_TOP50                    0.0544      0.033      1.644      0.100        -0.010     0.119\n",
      "CROSS_STR_TOP50                 0.1014      0.037      2.774      0.006         0.030     0.173\n",
      "Count_311_Calls              3722.1050   2042.774      1.822      0.068      -281.658  7725.868\n",
      "Cell_Phone                     86.5295    159.564      0.542      0.588      -226.210   399.269\n",
      "Red_Signal                   -324.8928    323.027     -1.006      0.315      -958.014   308.229\n",
      "Traffic_Device                 48.2642    210.879      0.229      0.819      -365.051   461.580\n",
      "Improper_Turn                 253.7130    111.341      2.279      0.023        35.489   471.937\n",
      "Safety_Belt                  -135.6550    118.697     -1.143      0.253      -368.297    96.987\n",
      "Tinted_Windows                141.8856     91.190      1.556      0.120       -36.843   320.614\n",
      "===============================================================================================\n",
      "The confusion matrix is:\n",
      "╒═══╤═════╤═════╕\n",
      "│   │  0  │  1  │\n",
      "├───┼─────┼─────┤\n",
      "│ 0 │ 577 │ 242 │\n",
      "├───┼─────┼─────┤\n",
      "│ 1 │ 25  │ 31  │\n",
      "╘═══╧═════╧═════╛\n",
      "()\n",
      "('The True Positive Rate is', 0.11355311355311355)\n",
      "('The False Positive Rate is', 0.04152823920265781)\n",
      "('The Accuracy Rate is', 0.6948571428571428)\n",
      "('The Mean Squared Error is', 0.30514285714285716)\n"
     ]
    }
   ],
   "source": [
    "# For cluster 2\n",
    "logit_mod3 = smf.logit('IND_RISK ~ C(BOROUGH) + ON_STR_TOP50 + CROSS_STR_TOP50 + \\\n",
    "                       Count_311_Calls + Cell_Phone + Red_Signal + Traffic_Device + \\\n",
    "                       Improper_Turn + Safety_Belt + Tinted_Windows',\n",
    "                       data = cluster2).fit()\n",
    "\n",
    "print(logit_mod3.summary())\n",
    "\n",
    "pred3 = np.array(logit_mod3.predict(cluster2))\n",
    "\n",
    "threshold = 0.5\n",
    "actual = cluster2['IND_RISK'].as_matrix(columns=None)\n",
    "actual.astype(int)\n",
    "prediction = np.zeros((len(cluster2),), dtype=np.int)\n",
    "for i in range(len(prediction)): \n",
    "    if pred3[i] > threshold: prediction[i] += 1\n",
    "\n",
    "cm = confusion_matrix(actual, prediction)\n",
    "MSE = mean_squared_error(actual, prediction)\n",
    "\n",
    "TN, FP, FN, TP = cm[0][0], cm[0][1], cm[1][0], cm[1][1]\n",
    "TPR = float(TP) / float(TP + FN)\n",
    "FPR = float(FP) / float(TN + FP)\n",
    "ACC = float(TN + TP) / float(TN + FP + FN + TP)\n",
    "\n",
    "table = [[\" \",\"0\", \"1\"],[\"0\", TN, FN],[\"1\", FP, TP]]\n",
    "print(\"The confusion matrix is:\")\n",
    "print(tabulate(table, tablefmt=\"fancy_grid\", numalign = \"center\"))\n",
    "print()\n",
    "print(\"The True Positive Rate is\", TPR) \n",
    "print(\"The False Positive Rate is\", FPR)\n",
    "print(\"The Accuracy Rate is\", ACC)\n",
    "print(\"The Mean Squared Error is\", MSE)"
   ]
  },
  {
   "cell_type": "code",
   "execution_count": 73,
   "metadata": {
    "collapsed": false
   },
   "outputs": [
    {
     "name": "stdout",
     "output_type": "stream",
     "text": [
      "(573, 74)\n",
      "(209, 74)\n",
      "(875, 74)\n"
     ]
    }
   ],
   "source": [
    "# Mergining probabilities to original data of clusters\n",
    "\n",
    "# For cluster 0\n",
    "cluster0['probs'] = pred1\n",
    "print cluster0.shape\n",
    "\n",
    "# For cluster 1\n",
    "cluster1['probs'] = pred2\n",
    "print cluster1.shape\n",
    "\n",
    "# For cluster 2\n",
    "cluster2['probs'] = pred3\n",
    "print cluster2.shape"
   ]
  },
  {
   "cell_type": "code",
   "execution_count": 74,
   "metadata": {
    "collapsed": false
   },
   "outputs": [
    {
     "name": "stdout",
     "output_type": "stream",
     "text": [
      "(1657, 74)\n",
      "cluster\n",
      "0    573\n",
      "1    209\n",
      "2    875\n",
      "dtype: int64\n",
      "Index([u'NCESID', u'NAME', u'ADDRESS', u'CITY', u'STATE', u'ZIP', u'TELEPHONE',\n",
      "       u'TYPE', u'STATUS', u'POPULATION', u'COUNTY', u'COUNTYFIPS', u'COUNTRY',\n",
      "       u'LATITUDE', u'LONGITUDE', u'ENROLLMENT', u'START_GRAD', u'END_GRADE',\n",
      "       u'FULL_TIME_', u'PUB_PRI_IND', u'BOROUGH', u'TOTAL_ACCIDENTS',\n",
      "       u'TOTAL_INJURIES', u'ON_STR_TOP50', u'CROSS_STR_TOP50', u'precinct',\n",
      "       u'Cell_Phone', u'Red_Signal', u'Traffic_Device', u'Improper_Turn',\n",
      "       u'Safety_Belt', u'Tinted_Windows', u'Count_311_Calls', u'Census_Track',\n",
      "       u'White_Popn', u'Black_Popn', u'Asian_Popn', u'Total',\n",
      "       u'No_schooling_completed', u'Nursery_school', u'Kindergarten',\n",
      "       u'grade1', u'grade2', u'grad3', u'grade4', u'grade5', u'grade6',\n",
      "       u'grade7', u'grade8', u'grade9', u'grade10', u'grade11',\n",
      "       u'grade12_no_diploma', u'Regular_high_school_diploma',\n",
      "       u'GED_or_alternative_credential', u'Some_college_lessthan1year',\n",
      "       u'Some_college,_1ormoreyears_nodegree', u'Associates_degree',\n",
      "       u'Bachelors_degree', u'Masters_degree', u'Professional_school_degree',\n",
      "       u'Doctorate_degree', u'Total_Households', u'Mean_Inc_All_Households',\n",
      "       u'Per_Capita_Inc_Total', u'Mean_Per_Capita_Inc_Total',\n",
      "       u'Per_Capita_Inc_White', u'Per_Capita_Inc_Black',\n",
      "       u'Per_Capita_Inc_Asian', u'Per_Capita_Inc_Hispanic', u'RISK',\n",
      "       u'IND_RISK', u'cluster', u'probs'],\n",
      "      dtype='object')\n"
     ]
    }
   ],
   "source": [
    "# Mering all clusters into one dataset\n",
    "nycSchools9 = pd.concat([cluster0, cluster1, cluster2])\n",
    "print nycSchools9.shape\n",
    "print nycSchools9.groupby('cluster').size()\n",
    "print nycSchools9.columns"
   ]
  },
  {
   "cell_type": "code",
   "execution_count": 75,
   "metadata": {
    "collapsed": false
   },
   "outputs": [
    {
     "data": {
      "text/html": [
       "<div>\n",
       "<table border=\"1\" class=\"dataframe\">\n",
       "  <thead>\n",
       "    <tr style=\"text-align: right;\">\n",
       "      <th></th>\n",
       "      <th>cluster</th>\n",
       "      <th>RISK</th>\n",
       "      <th>IND_RISK</th>\n",
       "      <th>probs</th>\n",
       "    </tr>\n",
       "  </thead>\n",
       "  <tbody>\n",
       "    <tr>\n",
       "      <th>6</th>\n",
       "      <td>0</td>\n",
       "      <td>0.083333</td>\n",
       "      <td>0</td>\n",
       "      <td>0.310052</td>\n",
       "    </tr>\n",
       "    <tr>\n",
       "      <th>7</th>\n",
       "      <td>0</td>\n",
       "      <td>0.000000</td>\n",
       "      <td>0</td>\n",
       "      <td>0.286797</td>\n",
       "    </tr>\n",
       "    <tr>\n",
       "      <th>10</th>\n",
       "      <td>0</td>\n",
       "      <td>0.250000</td>\n",
       "      <td>1</td>\n",
       "      <td>0.318397</td>\n",
       "    </tr>\n",
       "    <tr>\n",
       "      <th>12</th>\n",
       "      <td>0</td>\n",
       "      <td>0.375000</td>\n",
       "      <td>1</td>\n",
       "      <td>0.499510</td>\n",
       "    </tr>\n",
       "    <tr>\n",
       "      <th>20</th>\n",
       "      <td>0</td>\n",
       "      <td>0.333333</td>\n",
       "      <td>1</td>\n",
       "      <td>0.404244</td>\n",
       "    </tr>\n",
       "  </tbody>\n",
       "</table>\n",
       "</div>"
      ],
      "text/plain": [
       "    cluster      RISK  IND_RISK     probs\n",
       "6         0  0.083333         0  0.310052\n",
       "7         0  0.000000         0  0.286797\n",
       "10        0  0.250000         1  0.318397\n",
       "12        0  0.375000         1  0.499510\n",
       "20        0  0.333333         1  0.404244"
      ]
     },
     "execution_count": 75,
     "metadata": {},
     "output_type": "execute_result"
    }
   ],
   "source": [
    "nycSchools9[['cluster','RISK','IND_RISK','probs']].head()"
   ]
  },
  {
   "cell_type": "markdown",
   "metadata": {},
   "source": [
    "### Rank Ordering of Schools"
   ]
  },
  {
   "cell_type": "markdown",
   "metadata": {
    "collapsed": false
   },
   "source": [
    "#### City Ranking"
   ]
  },
  {
   "cell_type": "code",
   "execution_count": 76,
   "metadata": {
    "collapsed": false
   },
   "outputs": [],
   "source": [
    "# Create a new column that is the rank in ascending order\n",
    "nycSchools9['City_Rank'] = nycSchools9['probs'].rank(ascending=False)"
   ]
  },
  {
   "cell_type": "code",
   "execution_count": 77,
   "metadata": {
    "collapsed": false
   },
   "outputs": [
    {
     "data": {
      "text/html": [
       "<div>\n",
       "<table border=\"1\" class=\"dataframe\">\n",
       "  <thead>\n",
       "    <tr style=\"text-align: right;\">\n",
       "      <th></th>\n",
       "      <th>BOROUGH</th>\n",
       "      <th>NAME</th>\n",
       "      <th>RISK</th>\n",
       "      <th>IND_RISK</th>\n",
       "      <th>probs</th>\n",
       "      <th>City_Rank</th>\n",
       "    </tr>\n",
       "  </thead>\n",
       "  <tbody>\n",
       "    <tr>\n",
       "      <th>1166</th>\n",
       "      <td>Brooklyn</td>\n",
       "      <td>STARS &amp; KNIGHTS DAY SCHOOL</td>\n",
       "      <td>0.358974</td>\n",
       "      <td>1</td>\n",
       "      <td>0.877902</td>\n",
       "      <td>1</td>\n",
       "    </tr>\n",
       "    <tr>\n",
       "      <th>49</th>\n",
       "      <td>Brooklyn</td>\n",
       "      <td>PS 167 THE PARKWAY</td>\n",
       "      <td>0.404762</td>\n",
       "      <td>1</td>\n",
       "      <td>0.873470</td>\n",
       "      <td>2</td>\n",
       "    </tr>\n",
       "    <tr>\n",
       "      <th>1352</th>\n",
       "      <td>Queens</td>\n",
       "      <td>ALLEN CHRISTIAN SCHOOL</td>\n",
       "      <td>0.423077</td>\n",
       "      <td>1</td>\n",
       "      <td>0.865959</td>\n",
       "      <td>3</td>\n",
       "    </tr>\n",
       "    <tr>\n",
       "      <th>816</th>\n",
       "      <td>Manhattan</td>\n",
       "      <td>HARLEM CHILDREN S ZONE PROMISE ACADEMY II CHARTER</td>\n",
       "      <td>0.333333</td>\n",
       "      <td>1</td>\n",
       "      <td>0.853646</td>\n",
       "      <td>4</td>\n",
       "    </tr>\n",
       "    <tr>\n",
       "      <th>1272</th>\n",
       "      <td>Manhattan</td>\n",
       "      <td>THE CHILDRENS STOREFRONT</td>\n",
       "      <td>0.241379</td>\n",
       "      <td>1</td>\n",
       "      <td>0.846670</td>\n",
       "      <td>5</td>\n",
       "    </tr>\n",
       "    <tr>\n",
       "      <th>1185</th>\n",
       "      <td>Brooklyn</td>\n",
       "      <td>CYCLE EDUCATIONAL CENTER</td>\n",
       "      <td>0.400000</td>\n",
       "      <td>1</td>\n",
       "      <td>0.815971</td>\n",
       "      <td>6</td>\n",
       "    </tr>\n",
       "    <tr>\n",
       "      <th>422</th>\n",
       "      <td>Manhattan</td>\n",
       "      <td>PS 197 JOHN B RUSSWURM</td>\n",
       "      <td>0.312500</td>\n",
       "      <td>1</td>\n",
       "      <td>0.798070</td>\n",
       "      <td>7</td>\n",
       "    </tr>\n",
       "    <tr>\n",
       "      <th>265</th>\n",
       "      <td>Bronx</td>\n",
       "      <td>PS 214</td>\n",
       "      <td>0.769231</td>\n",
       "      <td>1</td>\n",
       "      <td>0.757047</td>\n",
       "      <td>8</td>\n",
       "    </tr>\n",
       "    <tr>\n",
       "      <th>797</th>\n",
       "      <td>Brooklyn</td>\n",
       "      <td>JHS 166 GEORGE GERSHWIN</td>\n",
       "      <td>0.230769</td>\n",
       "      <td>0</td>\n",
       "      <td>0.740215</td>\n",
       "      <td>9</td>\n",
       "    </tr>\n",
       "    <tr>\n",
       "      <th>1035</th>\n",
       "      <td>Queens</td>\n",
       "      <td>GROWING UP GREEN CHARTER SCHOOL</td>\n",
       "      <td>1.000000</td>\n",
       "      <td>1</td>\n",
       "      <td>0.738804</td>\n",
       "      <td>10</td>\n",
       "    </tr>\n",
       "    <tr>\n",
       "      <th>1553</th>\n",
       "      <td>Queens</td>\n",
       "      <td>ELISHAMA CHILDRENS PREP SCHOOL</td>\n",
       "      <td>0.181818</td>\n",
       "      <td>0</td>\n",
       "      <td>0.729580</td>\n",
       "      <td>11</td>\n",
       "    </tr>\n",
       "    <tr>\n",
       "      <th>1495</th>\n",
       "      <td>Brooklyn</td>\n",
       "      <td>FIRST IMPRESSIONS NURSERY SCHOOL</td>\n",
       "      <td>0.280000</td>\n",
       "      <td>1</td>\n",
       "      <td>0.727574</td>\n",
       "      <td>12</td>\n",
       "    </tr>\n",
       "    <tr>\n",
       "      <th>1278</th>\n",
       "      <td>Queens</td>\n",
       "      <td>CAMBRIA CENTER FOR THE GIFTED CHILD</td>\n",
       "      <td>0.217391</td>\n",
       "      <td>0</td>\n",
       "      <td>0.706717</td>\n",
       "      <td>13</td>\n",
       "    </tr>\n",
       "    <tr>\n",
       "      <th>60</th>\n",
       "      <td>Brooklyn</td>\n",
       "      <td>PS 326</td>\n",
       "      <td>0.200000</td>\n",
       "      <td>0</td>\n",
       "      <td>0.693272</td>\n",
       "      <td>14</td>\n",
       "    </tr>\n",
       "    <tr>\n",
       "      <th>1354</th>\n",
       "      <td>Queens</td>\n",
       "      <td>MONTESSORI PROGRESSIVE LEARNING CENTER</td>\n",
       "      <td>0.272727</td>\n",
       "      <td>1</td>\n",
       "      <td>0.678942</td>\n",
       "      <td>15</td>\n",
       "    </tr>\n",
       "    <tr>\n",
       "      <th>280</th>\n",
       "      <td>Bronx</td>\n",
       "      <td>BRONX CHARTER SCHOOL FOR EXCELLENCE</td>\n",
       "      <td>0.088235</td>\n",
       "      <td>0</td>\n",
       "      <td>0.672675</td>\n",
       "      <td>16</td>\n",
       "    </tr>\n",
       "    <tr>\n",
       "      <th>1554</th>\n",
       "      <td>Manhattan</td>\n",
       "      <td>CLARA MUMAMMAD SCHOOL</td>\n",
       "      <td>0.260870</td>\n",
       "      <td>1</td>\n",
       "      <td>0.666731</td>\n",
       "      <td>17</td>\n",
       "    </tr>\n",
       "    <tr>\n",
       "      <th>1435</th>\n",
       "      <td>Bronx</td>\n",
       "      <td>OUR LADY OF MERCY SCHOOL</td>\n",
       "      <td>0.255319</td>\n",
       "      <td>1</td>\n",
       "      <td>0.663157</td>\n",
       "      <td>18</td>\n",
       "    </tr>\n",
       "    <tr>\n",
       "      <th>252</th>\n",
       "      <td>Bronx</td>\n",
       "      <td>JHS 98 HERMAN RIDDER</td>\n",
       "      <td>0.173913</td>\n",
       "      <td>0</td>\n",
       "      <td>0.654873</td>\n",
       "      <td>19</td>\n",
       "    </tr>\n",
       "    <tr>\n",
       "      <th>78</th>\n",
       "      <td>Brooklyn</td>\n",
       "      <td>PS 6</td>\n",
       "      <td>0.571429</td>\n",
       "      <td>1</td>\n",
       "      <td>0.654084</td>\n",
       "      <td>20</td>\n",
       "    </tr>\n",
       "    <tr>\n",
       "      <th>42</th>\n",
       "      <td>Brooklyn</td>\n",
       "      <td>MOTT HALL IV</td>\n",
       "      <td>0.238095</td>\n",
       "      <td>0</td>\n",
       "      <td>0.652966</td>\n",
       "      <td>21</td>\n",
       "    </tr>\n",
       "    <tr>\n",
       "      <th>162</th>\n",
       "      <td>Brooklyn</td>\n",
       "      <td>PS 133 WILLIAM A BUTLER</td>\n",
       "      <td>0.000000</td>\n",
       "      <td>0</td>\n",
       "      <td>0.646287</td>\n",
       "      <td>22</td>\n",
       "    </tr>\n",
       "    <tr>\n",
       "      <th>382</th>\n",
       "      <td>Bronx</td>\n",
       "      <td>ICAHN CHARTER SCHOOL 1</td>\n",
       "      <td>0.318182</td>\n",
       "      <td>1</td>\n",
       "      <td>0.637088</td>\n",
       "      <td>23</td>\n",
       "    </tr>\n",
       "    <tr>\n",
       "      <th>176</th>\n",
       "      <td>Brooklyn</td>\n",
       "      <td>PS 7 ABRAHAM LINCOLN</td>\n",
       "      <td>0.166667</td>\n",
       "      <td>0</td>\n",
       "      <td>0.619808</td>\n",
       "      <td>24</td>\n",
       "    </tr>\n",
       "    <tr>\n",
       "      <th>1388</th>\n",
       "      <td>Queens</td>\n",
       "      <td>RESURRECTION ASCENSION SCHOOL</td>\n",
       "      <td>0.050000</td>\n",
       "      <td>0</td>\n",
       "      <td>0.618636</td>\n",
       "      <td>25</td>\n",
       "    </tr>\n",
       "    <tr>\n",
       "      <th>1102</th>\n",
       "      <td>Bronx</td>\n",
       "      <td>BAYCHESTER ACADEMY</td>\n",
       "      <td>0.081081</td>\n",
       "      <td>0</td>\n",
       "      <td>0.618572</td>\n",
       "      <td>26</td>\n",
       "    </tr>\n",
       "    <tr>\n",
       "      <th>1578</th>\n",
       "      <td>Brooklyn</td>\n",
       "      <td>MARY BOB LEARNING ACADEMY</td>\n",
       "      <td>0.190476</td>\n",
       "      <td>0</td>\n",
       "      <td>0.617034</td>\n",
       "      <td>27</td>\n",
       "    </tr>\n",
       "    <tr>\n",
       "      <th>1222</th>\n",
       "      <td>Brooklyn</td>\n",
       "      <td>YESHIVA AHAVAS TORAH</td>\n",
       "      <td>0.052632</td>\n",
       "      <td>0</td>\n",
       "      <td>0.616587</td>\n",
       "      <td>28</td>\n",
       "    </tr>\n",
       "    <tr>\n",
       "      <th>62</th>\n",
       "      <td>Brooklyn</td>\n",
       "      <td>EXPLORE CHARTER SCHOOL</td>\n",
       "      <td>0.166667</td>\n",
       "      <td>0</td>\n",
       "      <td>0.615988</td>\n",
       "      <td>29</td>\n",
       "    </tr>\n",
       "    <tr>\n",
       "      <th>1179</th>\n",
       "      <td>Brooklyn</td>\n",
       "      <td>ST JEROME SCHOOL</td>\n",
       "      <td>0.176471</td>\n",
       "      <td>0</td>\n",
       "      <td>0.601985</td>\n",
       "      <td>30</td>\n",
       "    </tr>\n",
       "    <tr>\n",
       "      <th>1180</th>\n",
       "      <td>Brooklyn</td>\n",
       "      <td>YESHIVA RUACH CHAIM</td>\n",
       "      <td>0.350000</td>\n",
       "      <td>1</td>\n",
       "      <td>0.600712</td>\n",
       "      <td>31</td>\n",
       "    </tr>\n",
       "    <tr>\n",
       "      <th>360</th>\n",
       "      <td>Bronx</td>\n",
       "      <td>PS 246 POE CENTER</td>\n",
       "      <td>0.312500</td>\n",
       "      <td>1</td>\n",
       "      <td>0.598279</td>\n",
       "      <td>32</td>\n",
       "    </tr>\n",
       "    <tr>\n",
       "      <th>130</th>\n",
       "      <td>Brooklyn</td>\n",
       "      <td>ANDRIES HUDDE SCHOOL</td>\n",
       "      <td>0.636364</td>\n",
       "      <td>1</td>\n",
       "      <td>0.597013</td>\n",
       "      <td>33</td>\n",
       "    </tr>\n",
       "    <tr>\n",
       "      <th>1561</th>\n",
       "      <td>Brooklyn</td>\n",
       "      <td>FIRST CHOICE ACADEMY</td>\n",
       "      <td>0.750000</td>\n",
       "      <td>1</td>\n",
       "      <td>0.595959</td>\n",
       "      <td>34</td>\n",
       "    </tr>\n",
       "    <tr>\n",
       "      <th>396</th>\n",
       "      <td>Bronx</td>\n",
       "      <td>PS 5 PORT MORRIS</td>\n",
       "      <td>0.380952</td>\n",
       "      <td>1</td>\n",
       "      <td>0.587500</td>\n",
       "      <td>35</td>\n",
       "    </tr>\n",
       "    <tr>\n",
       "      <th>1135</th>\n",
       "      <td>Manhattan</td>\n",
       "      <td>EAST HARLEM SCHOLARS ACADEMY CHARTER SCHOOL</td>\n",
       "      <td>0.272727</td>\n",
       "      <td>1</td>\n",
       "      <td>0.586950</td>\n",
       "      <td>37</td>\n",
       "    </tr>\n",
       "    <tr>\n",
       "      <th>918</th>\n",
       "      <td>Manhattan</td>\n",
       "      <td>JHS 13 JACKIE ROBINSON</td>\n",
       "      <td>0.272727</td>\n",
       "      <td>1</td>\n",
       "      <td>0.586950</td>\n",
       "      <td>37</td>\n",
       "    </tr>\n",
       "  </tbody>\n",
       "</table>\n",
       "</div>"
      ],
      "text/plain": [
       "        BOROUGH                                               NAME      RISK  \\\n",
       "1166   Brooklyn                         STARS & KNIGHTS DAY SCHOOL  0.358974   \n",
       "49     Brooklyn                                 PS 167 THE PARKWAY  0.404762   \n",
       "1352     Queens                             ALLEN CHRISTIAN SCHOOL  0.423077   \n",
       "816   Manhattan  HARLEM CHILDREN S ZONE PROMISE ACADEMY II CHARTER  0.333333   \n",
       "1272  Manhattan                           THE CHILDRENS STOREFRONT  0.241379   \n",
       "1185   Brooklyn                           CYCLE EDUCATIONAL CENTER  0.400000   \n",
       "422   Manhattan                             PS 197 JOHN B RUSSWURM  0.312500   \n",
       "265       Bronx                                             PS 214  0.769231   \n",
       "797    Brooklyn                            JHS 166 GEORGE GERSHWIN  0.230769   \n",
       "1035     Queens                    GROWING UP GREEN CHARTER SCHOOL  1.000000   \n",
       "1553     Queens                     ELISHAMA CHILDRENS PREP SCHOOL  0.181818   \n",
       "1495   Brooklyn                   FIRST IMPRESSIONS NURSERY SCHOOL  0.280000   \n",
       "1278     Queens                CAMBRIA CENTER FOR THE GIFTED CHILD  0.217391   \n",
       "60     Brooklyn                                             PS 326  0.200000   \n",
       "1354     Queens             MONTESSORI PROGRESSIVE LEARNING CENTER  0.272727   \n",
       "280       Bronx                BRONX CHARTER SCHOOL FOR EXCELLENCE  0.088235   \n",
       "1554  Manhattan                              CLARA MUMAMMAD SCHOOL  0.260870   \n",
       "1435      Bronx                           OUR LADY OF MERCY SCHOOL  0.255319   \n",
       "252       Bronx                               JHS 98 HERMAN RIDDER  0.173913   \n",
       "78     Brooklyn                                               PS 6  0.571429   \n",
       "42     Brooklyn                                       MOTT HALL IV  0.238095   \n",
       "162    Brooklyn                            PS 133 WILLIAM A BUTLER  0.000000   \n",
       "382       Bronx                             ICAHN CHARTER SCHOOL 1  0.318182   \n",
       "176    Brooklyn                               PS 7 ABRAHAM LINCOLN  0.166667   \n",
       "1388     Queens                      RESURRECTION ASCENSION SCHOOL  0.050000   \n",
       "1102      Bronx                                 BAYCHESTER ACADEMY  0.081081   \n",
       "1578   Brooklyn                          MARY BOB LEARNING ACADEMY  0.190476   \n",
       "1222   Brooklyn                               YESHIVA AHAVAS TORAH  0.052632   \n",
       "62     Brooklyn                             EXPLORE CHARTER SCHOOL  0.166667   \n",
       "1179   Brooklyn                                   ST JEROME SCHOOL  0.176471   \n",
       "1180   Brooklyn                                YESHIVA RUACH CHAIM  0.350000   \n",
       "360       Bronx                                  PS 246 POE CENTER  0.312500   \n",
       "130    Brooklyn                               ANDRIES HUDDE SCHOOL  0.636364   \n",
       "1561   Brooklyn                               FIRST CHOICE ACADEMY  0.750000   \n",
       "396       Bronx                                   PS 5 PORT MORRIS  0.380952   \n",
       "1135  Manhattan        EAST HARLEM SCHOLARS ACADEMY CHARTER SCHOOL  0.272727   \n",
       "918   Manhattan                             JHS 13 JACKIE ROBINSON  0.272727   \n",
       "\n",
       "      IND_RISK     probs  City_Rank  \n",
       "1166         1  0.877902          1  \n",
       "49           1  0.873470          2  \n",
       "1352         1  0.865959          3  \n",
       "816          1  0.853646          4  \n",
       "1272         1  0.846670          5  \n",
       "1185         1  0.815971          6  \n",
       "422          1  0.798070          7  \n",
       "265          1  0.757047          8  \n",
       "797          0  0.740215          9  \n",
       "1035         1  0.738804         10  \n",
       "1553         0  0.729580         11  \n",
       "1495         1  0.727574         12  \n",
       "1278         0  0.706717         13  \n",
       "60           0  0.693272         14  \n",
       "1354         1  0.678942         15  \n",
       "280          0  0.672675         16  \n",
       "1554         1  0.666731         17  \n",
       "1435         1  0.663157         18  \n",
       "252          0  0.654873         19  \n",
       "78           1  0.654084         20  \n",
       "42           0  0.652966         21  \n",
       "162          0  0.646287         22  \n",
       "382          1  0.637088         23  \n",
       "176          0  0.619808         24  \n",
       "1388         0  0.618636         25  \n",
       "1102         0  0.618572         26  \n",
       "1578         0  0.617034         27  \n",
       "1222         0  0.616587         28  \n",
       "62           0  0.615988         29  \n",
       "1179         0  0.601985         30  \n",
       "1180         1  0.600712         31  \n",
       "360          1  0.598279         32  \n",
       "130          1  0.597013         33  \n",
       "1561         1  0.595959         34  \n",
       "396          1  0.587500         35  \n",
       "1135         1  0.586950         37  \n",
       "918          1  0.586950         37  "
      ]
     },
     "execution_count": 77,
     "metadata": {},
     "output_type": "execute_result"
    }
   ],
   "source": [
    "nycSchools9[['BOROUGH', 'NAME', 'RISK', 'IND_RISK', 'probs', 'City_Rank']].sort('City_Rank', ascending=True)[:37]"
   ]
  },
  {
   "cell_type": "markdown",
   "metadata": {},
   "source": [
    "#### Borough wise ranking"
   ]
  },
  {
   "cell_type": "code",
   "execution_count": 78,
   "metadata": {
    "collapsed": false
   },
   "outputs": [],
   "source": [
    "# Create a new column that is the rank in ascending order\n",
    "nycSchools9['Borough_Rank'] = nycSchools9.groupby('BOROUGH')['probs'].rank(ascending=False)"
   ]
  },
  {
   "cell_type": "code",
   "execution_count": 79,
   "metadata": {
    "collapsed": false
   },
   "outputs": [
    {
     "name": "stdout",
     "output_type": "stream",
     "text": [
      "(1657, 76)\n"
     ]
    }
   ],
   "source": [
    "# Export for plotting in ArcGIS and CartoDB to generate plots for final report\n",
    "print nycSchools9.shape\n",
    "nycSchools9.to_csv(\"nycSchools_final.csv\")"
   ]
  },
  {
   "cell_type": "markdown",
   "metadata": {},
   "source": [
    "## For the PPT"
   ]
  },
  {
   "cell_type": "code",
   "execution_count": 80,
   "metadata": {
    "collapsed": false
   },
   "outputs": [
    {
     "data": {
      "text/plain": [
       "Index([u'NCESID', u'NAME', u'ADDRESS', u'CITY', u'STATE', u'ZIP', u'TELEPHONE',\n",
       "       u'TYPE', u'STATUS', u'POPULATION', u'COUNTY', u'COUNTYFIPS', u'COUNTRY',\n",
       "       u'LATITUDE', u'LONGITUDE', u'ENROLLMENT', u'START_GRAD', u'END_GRADE',\n",
       "       u'FULL_TIME_', u'PUB_PRI_IND', u'BOROUGH', u'TOTAL_ACCIDENTS',\n",
       "       u'TOTAL_INJURIES', u'ON_STR_TOP50', u'CROSS_STR_TOP50', u'precinct',\n",
       "       u'Cell_Phone', u'Red_Signal', u'Traffic_Device', u'Improper_Turn',\n",
       "       u'Safety_Belt', u'Tinted_Windows', u'Count_311_Calls', u'Census_Track',\n",
       "       u'White_Popn', u'Black_Popn', u'Asian_Popn', u'Total',\n",
       "       u'No_schooling_completed', u'Nursery_school', u'Kindergarten',\n",
       "       u'grade1', u'grade2', u'grad3', u'grade4', u'grade5', u'grade6',\n",
       "       u'grade7', u'grade8', u'grade9', u'grade10', u'grade11',\n",
       "       u'grade12_no_diploma', u'Regular_high_school_diploma',\n",
       "       u'GED_or_alternative_credential', u'Some_college_lessthan1year',\n",
       "       u'Some_college,_1ormoreyears_nodegree', u'Associates_degree',\n",
       "       u'Bachelors_degree', u'Masters_degree', u'Professional_school_degree',\n",
       "       u'Doctorate_degree', u'Total_Households', u'Mean_Inc_All_Households',\n",
       "       u'Per_Capita_Inc_Total', u'Mean_Per_Capita_Inc_Total',\n",
       "       u'Per_Capita_Inc_White', u'Per_Capita_Inc_Black',\n",
       "       u'Per_Capita_Inc_Asian', u'Per_Capita_Inc_Hispanic', u'RISK',\n",
       "       u'IND_RISK', u'cluster', u'probs', u'City_Rank', u'Borough_Rank'],\n",
       "      dtype='object')"
      ]
     },
     "execution_count": 80,
     "metadata": {},
     "output_type": "execute_result"
    }
   ],
   "source": [
    "nycSchools9.columns"
   ]
  },
  {
   "cell_type": "code",
   "execution_count": 81,
   "metadata": {
    "collapsed": false
   },
   "outputs": [],
   "source": [
    "nycSchools9[['BOROUGH', 'NAME', \n",
    "             'LATITUDE', 'LONGITUDE',\n",
    "             'City_Rank']].sort('City_Rank', ascending=True)[:37].to_csv(\"cityrank_schools.csv\")"
   ]
  },
  {
   "cell_type": "code",
   "execution_count": 82,
   "metadata": {
    "collapsed": false
   },
   "outputs": [
    {
     "data": {
      "text/plain": [
       "BOROUGH\n",
       "Bronx            322\n",
       "Brooklyn         557\n",
       "Manhattan        301\n",
       "Queens           393\n",
       "Staten Island     84\n",
       "dtype: int64"
      ]
     },
     "execution_count": 82,
     "metadata": {},
     "output_type": "execute_result"
    }
   ],
   "source": [
    "nycSchools9.groupby('BOROUGH').size()"
   ]
  },
  {
   "cell_type": "code",
   "execution_count": 83,
   "metadata": {
    "collapsed": false
   },
   "outputs": [
    {
     "name": "stdout",
     "output_type": "stream",
     "text": [
      "(37, 5)\n"
     ]
    }
   ],
   "source": [
    "# Based on above distribution, borough based ranking would give the following 37 schools across each borough\n",
    "#Bronx\t7\n",
    "#Brooklyn\t12\n",
    "#Manhattan\t7\n",
    "#Queens\t9\n",
    "#Staten Island\t2\n",
    "bronx = nycSchools9.loc[nycSchools9['BOROUGH'] == 'Bronx',\n",
    "                        ['BOROUGH', 'NAME', 'LATITUDE', \n",
    "                         'LONGITUDE', 'Borough_Rank']].sort('Borough_Rank', ascending=True)[:7]\n",
    "\n",
    "brooklyn = nycSchools9.loc[nycSchools9['BOROUGH'] == 'Brooklyn',\n",
    "                           ['BOROUGH', 'NAME', 'LATITUDE', \n",
    "                            'LONGITUDE', 'Borough_Rank']].sort('Borough_Rank', ascending=True)[:12]\n",
    "\n",
    "manhattan = nycSchools9.loc[nycSchools9['BOROUGH'] == 'Manhattan',\n",
    "                            ['BOROUGH', 'NAME', 'LATITUDE', \n",
    "                             'LONGITUDE', 'Borough_Rank']].sort('Borough_Rank', ascending=True)[:7]\n",
    "\n",
    "queens = nycSchools9.loc[nycSchools9['BOROUGH'] == 'Queens',\n",
    "                         ['BOROUGH', 'NAME', 'LATITUDE', \n",
    "                          'LONGITUDE', 'Borough_Rank']].sort('Borough_Rank', ascending=True)[:9]\n",
    "\n",
    "statenisland = nycSchools9.loc[nycSchools9['BOROUGH'] == 'Staten Island',\n",
    "                               ['BOROUGH', 'NAME', 'LATITUDE', \n",
    "                                'LONGITUDE', 'Borough_Rank']].sort('Borough_Rank', ascending=True)[:2]\n",
    "\n",
    "borough_ranks = pd.concat([bronx, brooklyn, manhattan, queens, statenisland], axis=0)\n",
    "print borough_ranks.shape"
   ]
  },
  {
   "cell_type": "code",
   "execution_count": 84,
   "metadata": {
    "collapsed": true
   },
   "outputs": [],
   "source": [
    "# borough_ranks.to_csv(\"boroughrank_schools.csv\")"
   ]
  },
  {
   "cell_type": "markdown",
   "metadata": {},
   "source": [
    "### Fund Allocation"
   ]
  },
  {
   "cell_type": "code",
   "execution_count": 85,
   "metadata": {
    "collapsed": false
   },
   "outputs": [
    {
     "name": "stdout",
     "output_type": "stream",
     "text": [
      "(37, 6)\n"
     ]
    }
   ],
   "source": [
    "# Based on above distribution, borough based ranking would give the following 37 schools across each borough\n",
    "#Bronx\t7\n",
    "#Brooklyn\t12\n",
    "#Manhattan\t7\n",
    "#Queens\t9\n",
    "#Staten Island\t2\n",
    "bronx = nycSchools9.loc[nycSchools9['BOROUGH'] == 'Bronx',\n",
    "                        ['BOROUGH', 'NAME', 'ENROLLMENT', 'LATITUDE', \n",
    "                         'LONGITUDE', 'Borough_Rank']].sort('Borough_Rank', ascending=True)[:7]\n",
    "\n",
    "brooklyn = nycSchools9.loc[nycSchools9['BOROUGH'] == 'Brooklyn',\n",
    "                           ['BOROUGH', 'NAME', 'ENROLLMENT', 'LATITUDE', \n",
    "                            'LONGITUDE', 'Borough_Rank']].sort('Borough_Rank', ascending=True)[:12]\n",
    "\n",
    "manhattan = nycSchools9.loc[nycSchools9['BOROUGH'] == 'Manhattan',\n",
    "                            ['BOROUGH', 'NAME', 'ENROLLMENT', 'LATITUDE', \n",
    "                             'LONGITUDE', 'Borough_Rank']].sort('Borough_Rank', ascending=True)[:7]\n",
    "\n",
    "queens = nycSchools9.loc[nycSchools9['BOROUGH'] == 'Queens',\n",
    "                         ['BOROUGH', 'NAME', 'ENROLLMENT', 'LATITUDE', \n",
    "                          'LONGITUDE', 'Borough_Rank']].sort('Borough_Rank', ascending=True)[:9]\n",
    "\n",
    "statenisland = nycSchools9.loc[nycSchools9['BOROUGH'] == 'Staten Island',\n",
    "                               ['BOROUGH', 'NAME', 'ENROLLMENT', 'LATITUDE', \n",
    "                                'LONGITUDE', 'Borough_Rank']].sort('Borough_Rank', ascending=True)[:2]\n",
    "\n",
    "fund_allocation = pd.concat([bronx, brooklyn, manhattan, queens, statenisland], axis=0)\n",
    "print fund_allocation.shape"
   ]
  },
  {
   "cell_type": "code",
   "execution_count": 86,
   "metadata": {
    "collapsed": true
   },
   "outputs": [],
   "source": [
    "# fund_allocation.to_csv(\"fund_allocation_schools.csv\")"
   ]
  },
  {
   "cell_type": "code",
   "execution_count": null,
   "metadata": {
    "collapsed": true
   },
   "outputs": [],
   "source": []
  }
 ],
 "metadata": {
  "kernelspec": {
   "display_name": "Python 2",
   "language": "python",
   "name": "python2"
  },
  "language_info": {
   "codemirror_mode": {
    "name": "ipython",
    "version": 2
   },
   "file_extension": ".py",
   "mimetype": "text/x-python",
   "name": "python",
   "nbconvert_exporter": "python",
   "pygments_lexer": "ipython2",
   "version": "2.7.10"
  }
 },
 "nbformat": 4,
 "nbformat_minor": 0
}
